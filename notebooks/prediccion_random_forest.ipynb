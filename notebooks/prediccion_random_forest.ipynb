{
 "cells": [
  {
   "cell_type": "code",
   "execution_count": 1,
   "metadata": {},
   "outputs": [],
   "source": [
    "#pandas libraries\n",
    "import pandas as pd\n",
    "import seaborn as sns\n",
    "import matplotlib.pyplot as plt\n",
    "\n",
    "import random\n",
    "\n",
    "from sklearn import tree\n",
    "from sklearn.model_selection import train_test_split\n",
    "from sklearn.model_selection import KFold\n",
    "from sklearn.model_selection import GridSearchCV\n",
    "from sklearn.model_selection import RandomizedSearchCV\n",
    "\n",
    "from sklearn.ensemble import RandomForestClassifier\n",
    "from sklearn.linear_model import LogisticRegression\n",
    "from sklearn.ensemble import VotingRegressor\n",
    "from sklearn.metrics import accuracy_score\n",
    "from sklearn.model_selection import GridSearchCV\n",
    "\n",
    "from sklearn.metrics import log_loss\n",
    "from sklearn.feature_selection import RFECV\n",
    "from sklearn.preprocessing import Normalizer\n",
    "\n",
    "import statistics\n",
    "\n",
    "from scipy.stats import uniform\n",
    "\n",
    "%run \"../notebooks/cargar_df.ipynb\""
   ]
  },
  {
   "cell_type": "markdown",
   "metadata": {},
   "source": [
    "### Cargo los data frames con los features"
   ]
  },
  {
   "cell_type": "code",
   "execution_count": 2,
   "metadata": {},
   "outputs": [
    {
     "data": {
      "text/html": [
       "<div>\n",
       "<style scoped>\n",
       "    .dataframe tbody tr th:only-of-type {\n",
       "        vertical-align: middle;\n",
       "    }\n",
       "\n",
       "    .dataframe tbody tr th {\n",
       "        vertical-align: top;\n",
       "    }\n",
       "\n",
       "    .dataframe thead th {\n",
       "        text-align: right;\n",
       "    }\n",
       "</style>\n",
       "<table border=\"1\" class=\"dataframe\">\n",
       "  <thead>\n",
       "    <tr style=\"text-align: right;\">\n",
       "      <th></th>\n",
       "      <th>Opportunity_ID</th>\n",
       "      <th>Pricing, Delivery_Terms_Quote_Appr</th>\n",
       "      <th>Pricing, Delivery_Terms_Approved</th>\n",
       "      <th>pricing_aprobada</th>\n",
       "      <th>Bureaucratic_Code_0_Approval_0</th>\n",
       "      <th>Bureaucratic_Code_0_Approval_1</th>\n",
       "      <th>Bureaucratic_Code_0_Approved_0</th>\n",
       "      <th>Bureaucratic_Code_0_Approved_1</th>\n",
       "      <th>bureaucratic_aprobada</th>\n",
       "      <th>amount_ids</th>\n",
       "      <th>...</th>\n",
       "      <th>Total_Amount_Currency_2</th>\n",
       "      <th>Total_Amount_Currency_3</th>\n",
       "      <th>Total_Taxable_Amount_Currency_0</th>\n",
       "      <th>Total_Taxable_Amount_Currency_1</th>\n",
       "      <th>Total_Taxable_Amount_Currency_2</th>\n",
       "      <th>Total_Taxable_Amount_Currency_3</th>\n",
       "      <th>ASP</th>\n",
       "      <th>ASP_(converted)</th>\n",
       "      <th>Total_Amount_USD</th>\n",
       "      <th>Stage</th>\n",
       "    </tr>\n",
       "  </thead>\n",
       "  <tbody>\n",
       "    <tr>\n",
       "      <th>0</th>\n",
       "      <td>0</td>\n",
       "      <td>1</td>\n",
       "      <td>1</td>\n",
       "      <td>1</td>\n",
       "      <td>0</td>\n",
       "      <td>1</td>\n",
       "      <td>0</td>\n",
       "      <td>1</td>\n",
       "      <td>1</td>\n",
       "      <td>0</td>\n",
       "      <td>...</td>\n",
       "      <td>0</td>\n",
       "      <td>1</td>\n",
       "      <td>0</td>\n",
       "      <td>0</td>\n",
       "      <td>0</td>\n",
       "      <td>1</td>\n",
       "      <td>0.52</td>\n",
       "      <td>0.58817</td>\n",
       "      <td>5.609362e+06</td>\n",
       "      <td>0</td>\n",
       "    </tr>\n",
       "    <tr>\n",
       "      <th>1</th>\n",
       "      <td>1</td>\n",
       "      <td>0</td>\n",
       "      <td>0</td>\n",
       "      <td>1</td>\n",
       "      <td>1</td>\n",
       "      <td>0</td>\n",
       "      <td>1</td>\n",
       "      <td>0</td>\n",
       "      <td>1</td>\n",
       "      <td>0</td>\n",
       "      <td>...</td>\n",
       "      <td>0</td>\n",
       "      <td>1</td>\n",
       "      <td>0</td>\n",
       "      <td>0</td>\n",
       "      <td>0</td>\n",
       "      <td>1</td>\n",
       "      <td>0.53</td>\n",
       "      <td>0.59948</td>\n",
       "      <td>5.130851e+04</td>\n",
       "      <td>1</td>\n",
       "    </tr>\n",
       "    <tr>\n",
       "      <th>2</th>\n",
       "      <td>2</td>\n",
       "      <td>0</td>\n",
       "      <td>0</td>\n",
       "      <td>1</td>\n",
       "      <td>1</td>\n",
       "      <td>0</td>\n",
       "      <td>1</td>\n",
       "      <td>0</td>\n",
       "      <td>1</td>\n",
       "      <td>0</td>\n",
       "      <td>...</td>\n",
       "      <td>1</td>\n",
       "      <td>0</td>\n",
       "      <td>0</td>\n",
       "      <td>0</td>\n",
       "      <td>1</td>\n",
       "      <td>0</td>\n",
       "      <td>0.48</td>\n",
       "      <td>0.48000</td>\n",
       "      <td>8.386560e+04</td>\n",
       "      <td>1</td>\n",
       "    </tr>\n",
       "    <tr>\n",
       "      <th>3</th>\n",
       "      <td>3</td>\n",
       "      <td>1</td>\n",
       "      <td>0</td>\n",
       "      <td>0</td>\n",
       "      <td>0</td>\n",
       "      <td>1</td>\n",
       "      <td>1</td>\n",
       "      <td>0</td>\n",
       "      <td>0</td>\n",
       "      <td>0</td>\n",
       "      <td>...</td>\n",
       "      <td>1</td>\n",
       "      <td>0</td>\n",
       "      <td>0</td>\n",
       "      <td>0</td>\n",
       "      <td>1</td>\n",
       "      <td>0</td>\n",
       "      <td>0.53</td>\n",
       "      <td>0.53000</td>\n",
       "      <td>7.421882e+06</td>\n",
       "      <td>0</td>\n",
       "    </tr>\n",
       "    <tr>\n",
       "      <th>4</th>\n",
       "      <td>4</td>\n",
       "      <td>1</td>\n",
       "      <td>0</td>\n",
       "      <td>0</td>\n",
       "      <td>0</td>\n",
       "      <td>1</td>\n",
       "      <td>1</td>\n",
       "      <td>0</td>\n",
       "      <td>0</td>\n",
       "      <td>0</td>\n",
       "      <td>...</td>\n",
       "      <td>1</td>\n",
       "      <td>0</td>\n",
       "      <td>0</td>\n",
       "      <td>0</td>\n",
       "      <td>1</td>\n",
       "      <td>0</td>\n",
       "      <td>0.53</td>\n",
       "      <td>0.53000</td>\n",
       "      <td>1.335719e+07</td>\n",
       "      <td>0</td>\n",
       "    </tr>\n",
       "  </tbody>\n",
       "</table>\n",
       "<p>5 rows × 174 columns</p>\n",
       "</div>"
      ],
      "text/plain": [
       "   Opportunity_ID  Pricing, Delivery_Terms_Quote_Appr  \\\n",
       "0               0                                   1   \n",
       "1               1                                   0   \n",
       "2               2                                   0   \n",
       "3               3                                   1   \n",
       "4               4                                   1   \n",
       "\n",
       "   Pricing, Delivery_Terms_Approved  pricing_aprobada  \\\n",
       "0                                 1                 1   \n",
       "1                                 0                 1   \n",
       "2                                 0                 1   \n",
       "3                                 0                 0   \n",
       "4                                 0                 0   \n",
       "\n",
       "   Bureaucratic_Code_0_Approval_0  Bureaucratic_Code_0_Approval_1  \\\n",
       "0                               0                               1   \n",
       "1                               1                               0   \n",
       "2                               1                               0   \n",
       "3                               0                               1   \n",
       "4                               0                               1   \n",
       "\n",
       "   Bureaucratic_Code_0_Approved_0  Bureaucratic_Code_0_Approved_1  \\\n",
       "0                               0                               1   \n",
       "1                               1                               0   \n",
       "2                               1                               0   \n",
       "3                               1                               0   \n",
       "4                               1                               0   \n",
       "\n",
       "   bureaucratic_aprobada  amount_ids  ...  Total_Amount_Currency_2  \\\n",
       "0                      1           0  ...                        0   \n",
       "1                      1           0  ...                        0   \n",
       "2                      1           0  ...                        1   \n",
       "3                      0           0  ...                        1   \n",
       "4                      0           0  ...                        1   \n",
       "\n",
       "   Total_Amount_Currency_3  Total_Taxable_Amount_Currency_0  \\\n",
       "0                        1                                0   \n",
       "1                        1                                0   \n",
       "2                        0                                0   \n",
       "3                        0                                0   \n",
       "4                        0                                0   \n",
       "\n",
       "   Total_Taxable_Amount_Currency_1  Total_Taxable_Amount_Currency_2  \\\n",
       "0                                0                                0   \n",
       "1                                0                                0   \n",
       "2                                0                                1   \n",
       "3                                0                                1   \n",
       "4                                0                                1   \n",
       "\n",
       "   Total_Taxable_Amount_Currency_3   ASP  ASP_(converted)  Total_Amount_USD  \\\n",
       "0                                1  0.52          0.58817      5.609362e+06   \n",
       "1                                1  0.53          0.59948      5.130851e+04   \n",
       "2                                0  0.48          0.48000      8.386560e+04   \n",
       "3                                0  0.53          0.53000      7.421882e+06   \n",
       "4                                0  0.53          0.53000      1.335719e+07   \n",
       "\n",
       "   Stage  \n",
       "0      0  \n",
       "1      1  \n",
       "2      1  \n",
       "3      0  \n",
       "4      0  \n",
       "\n",
       "[5 rows x 174 columns]"
      ]
     },
     "execution_count": 2,
     "metadata": {},
     "output_type": "execute_result"
    }
   ],
   "source": [
    "trainX = pd.read_csv('../files_csv/train_173_features_bin_encoding')\n",
    "trainX.head()"
   ]
  },
  {
   "cell_type": "code",
   "execution_count": 3,
   "metadata": {},
   "outputs": [
    {
     "data": {
      "text/plain": [
       "0    0\n",
       "1    1\n",
       "2    1\n",
       "3    0\n",
       "4    0\n",
       "Name: Stage, dtype: int64"
      ]
     },
     "execution_count": 3,
     "metadata": {},
     "output_type": "execute_result"
    }
   ],
   "source": [
    "stages = trainX['Stage']\n",
    "stages.head()"
   ]
  },
  {
   "cell_type": "code",
   "execution_count": 4,
   "metadata": {},
   "outputs": [
    {
     "data": {
      "text/plain": [
       "0    0\n",
       "1    1\n",
       "2    2\n",
       "3    3\n",
       "4    4\n",
       "Name: Opportunity_ID, dtype: int64"
      ]
     },
     "execution_count": 4,
     "metadata": {},
     "output_type": "execute_result"
    }
   ],
   "source": [
    "ids = trainX.Opportunity_ID\n",
    "ids.head()"
   ]
  },
  {
   "cell_type": "code",
   "execution_count": 5,
   "metadata": {},
   "outputs": [],
   "source": [
    "trainX = trainX.drop(['Opportunity_ID', 'Stage'], axis=1)"
   ]
  },
  {
   "cell_type": "code",
   "execution_count": 6,
   "metadata": {},
   "outputs": [
    {
     "name": "stdout",
     "output_type": "stream",
     "text": [
      "<class 'pandas.core.frame.DataFrame'>\n",
      "RangeIndex: 9791 entries, 0 to 9790\n",
      "Columns: 172 entries, Pricing, Delivery_Terms_Quote_Appr to Total_Amount_USD\n",
      "dtypes: float64(3), int64(169)\n",
      "memory usage: 12.8 MB\n"
     ]
    }
   ],
   "source": [
    "trainX.info()"
   ]
  },
  {
   "cell_type": "code",
   "execution_count": 7,
   "metadata": {},
   "outputs": [
    {
     "data": {
      "text/html": [
       "<div>\n",
       "<style scoped>\n",
       "    .dataframe tbody tr th:only-of-type {\n",
       "        vertical-align: middle;\n",
       "    }\n",
       "\n",
       "    .dataframe tbody tr th {\n",
       "        vertical-align: top;\n",
       "    }\n",
       "\n",
       "    .dataframe thead th {\n",
       "        text-align: right;\n",
       "    }\n",
       "</style>\n",
       "<table border=\"1\" class=\"dataframe\">\n",
       "  <thead>\n",
       "    <tr style=\"text-align: right;\">\n",
       "      <th></th>\n",
       "      <th>Opportunity_ID</th>\n",
       "      <th>Pricing, Delivery_Terms_Quote_Appr</th>\n",
       "      <th>Pricing, Delivery_Terms_Approved</th>\n",
       "      <th>pricing_aprobada</th>\n",
       "      <th>Bureaucratic_Code_0_Approval_0</th>\n",
       "      <th>Bureaucratic_Code_0_Approval_1</th>\n",
       "      <th>Bureaucratic_Code_0_Approved_0</th>\n",
       "      <th>Bureaucratic_Code_0_Approved_1</th>\n",
       "      <th>bureaucratic_aprobada</th>\n",
       "      <th>amount_ids</th>\n",
       "      <th>...</th>\n",
       "      <th>Total_Amount_Currency_1</th>\n",
       "      <th>Total_Amount_Currency_2</th>\n",
       "      <th>Total_Amount_Currency_3</th>\n",
       "      <th>Total_Taxable_Amount_Currency_0</th>\n",
       "      <th>Total_Taxable_Amount_Currency_1</th>\n",
       "      <th>Total_Taxable_Amount_Currency_2</th>\n",
       "      <th>Total_Taxable_Amount_Currency_3</th>\n",
       "      <th>ASP</th>\n",
       "      <th>ASP_(converted)</th>\n",
       "      <th>Total_Amount_USD</th>\n",
       "    </tr>\n",
       "  </thead>\n",
       "  <tbody>\n",
       "    <tr>\n",
       "      <th>0</th>\n",
       "      <td>10689</td>\n",
       "      <td>1</td>\n",
       "      <td>1</td>\n",
       "      <td>1</td>\n",
       "      <td>0</td>\n",
       "      <td>1</td>\n",
       "      <td>0</td>\n",
       "      <td>1</td>\n",
       "      <td>1</td>\n",
       "      <td>1</td>\n",
       "      <td>...</td>\n",
       "      <td>0</td>\n",
       "      <td>0</td>\n",
       "      <td>1</td>\n",
       "      <td>0</td>\n",
       "      <td>0</td>\n",
       "      <td>0</td>\n",
       "      <td>1</td>\n",
       "      <td>0.306667</td>\n",
       "      <td>0.346870</td>\n",
       "      <td>137147.816349</td>\n",
       "    </tr>\n",
       "    <tr>\n",
       "      <th>1</th>\n",
       "      <td>10690</td>\n",
       "      <td>1</td>\n",
       "      <td>1</td>\n",
       "      <td>1</td>\n",
       "      <td>0</td>\n",
       "      <td>1</td>\n",
       "      <td>0</td>\n",
       "      <td>1</td>\n",
       "      <td>1</td>\n",
       "      <td>1</td>\n",
       "      <td>...</td>\n",
       "      <td>0</td>\n",
       "      <td>0</td>\n",
       "      <td>1</td>\n",
       "      <td>0</td>\n",
       "      <td>0</td>\n",
       "      <td>0</td>\n",
       "      <td>1</td>\n",
       "      <td>0.332000</td>\n",
       "      <td>0.375524</td>\n",
       "      <td>169716.349384</td>\n",
       "    </tr>\n",
       "    <tr>\n",
       "      <th>2</th>\n",
       "      <td>10691</td>\n",
       "      <td>1</td>\n",
       "      <td>1</td>\n",
       "      <td>1</td>\n",
       "      <td>1</td>\n",
       "      <td>0</td>\n",
       "      <td>1</td>\n",
       "      <td>0</td>\n",
       "      <td>1</td>\n",
       "      <td>0</td>\n",
       "      <td>...</td>\n",
       "      <td>0</td>\n",
       "      <td>1</td>\n",
       "      <td>0</td>\n",
       "      <td>0</td>\n",
       "      <td>0</td>\n",
       "      <td>1</td>\n",
       "      <td>0</td>\n",
       "      <td>0.425000</td>\n",
       "      <td>0.425000</td>\n",
       "      <td>21037.500000</td>\n",
       "    </tr>\n",
       "    <tr>\n",
       "      <th>3</th>\n",
       "      <td>10692</td>\n",
       "      <td>1</td>\n",
       "      <td>1</td>\n",
       "      <td>1</td>\n",
       "      <td>0</td>\n",
       "      <td>1</td>\n",
       "      <td>1</td>\n",
       "      <td>0</td>\n",
       "      <td>0</td>\n",
       "      <td>1</td>\n",
       "      <td>...</td>\n",
       "      <td>0</td>\n",
       "      <td>1</td>\n",
       "      <td>0</td>\n",
       "      <td>0</td>\n",
       "      <td>0</td>\n",
       "      <td>1</td>\n",
       "      <td>0</td>\n",
       "      <td>0.425000</td>\n",
       "      <td>0.425000</td>\n",
       "      <td>361517.750000</td>\n",
       "    </tr>\n",
       "    <tr>\n",
       "      <th>4</th>\n",
       "      <td>10693</td>\n",
       "      <td>0</td>\n",
       "      <td>0</td>\n",
       "      <td>1</td>\n",
       "      <td>1</td>\n",
       "      <td>0</td>\n",
       "      <td>1</td>\n",
       "      <td>0</td>\n",
       "      <td>1</td>\n",
       "      <td>0</td>\n",
       "      <td>...</td>\n",
       "      <td>0</td>\n",
       "      <td>1</td>\n",
       "      <td>0</td>\n",
       "      <td>0</td>\n",
       "      <td>0</td>\n",
       "      <td>1</td>\n",
       "      <td>0</td>\n",
       "      <td>0.390000</td>\n",
       "      <td>0.390000</td>\n",
       "      <td>5752.500000</td>\n",
       "    </tr>\n",
       "  </tbody>\n",
       "</table>\n",
       "<p>5 rows × 173 columns</p>\n",
       "</div>"
      ],
      "text/plain": [
       "   Opportunity_ID  Pricing, Delivery_Terms_Quote_Appr  \\\n",
       "0           10689                                   1   \n",
       "1           10690                                   1   \n",
       "2           10691                                   1   \n",
       "3           10692                                   1   \n",
       "4           10693                                   0   \n",
       "\n",
       "   Pricing, Delivery_Terms_Approved  pricing_aprobada  \\\n",
       "0                                 1                 1   \n",
       "1                                 1                 1   \n",
       "2                                 1                 1   \n",
       "3                                 1                 1   \n",
       "4                                 0                 1   \n",
       "\n",
       "   Bureaucratic_Code_0_Approval_0  Bureaucratic_Code_0_Approval_1  \\\n",
       "0                               0                               1   \n",
       "1                               0                               1   \n",
       "2                               1                               0   \n",
       "3                               0                               1   \n",
       "4                               1                               0   \n",
       "\n",
       "   Bureaucratic_Code_0_Approved_0  Bureaucratic_Code_0_Approved_1  \\\n",
       "0                               0                               1   \n",
       "1                               0                               1   \n",
       "2                               1                               0   \n",
       "3                               1                               0   \n",
       "4                               1                               0   \n",
       "\n",
       "   bureaucratic_aprobada  amount_ids  ...  Total_Amount_Currency_1  \\\n",
       "0                      1           1  ...                        0   \n",
       "1                      1           1  ...                        0   \n",
       "2                      1           0  ...                        0   \n",
       "3                      0           1  ...                        0   \n",
       "4                      1           0  ...                        0   \n",
       "\n",
       "   Total_Amount_Currency_2  Total_Amount_Currency_3  \\\n",
       "0                        0                        1   \n",
       "1                        0                        1   \n",
       "2                        1                        0   \n",
       "3                        1                        0   \n",
       "4                        1                        0   \n",
       "\n",
       "   Total_Taxable_Amount_Currency_0  Total_Taxable_Amount_Currency_1  \\\n",
       "0                                0                                0   \n",
       "1                                0                                0   \n",
       "2                                0                                0   \n",
       "3                                0                                0   \n",
       "4                                0                                0   \n",
       "\n",
       "   Total_Taxable_Amount_Currency_2  Total_Taxable_Amount_Currency_3       ASP  \\\n",
       "0                                0                                1  0.306667   \n",
       "1                                0                                1  0.332000   \n",
       "2                                1                                0  0.425000   \n",
       "3                                1                                0  0.425000   \n",
       "4                                1                                0  0.390000   \n",
       "\n",
       "   ASP_(converted)  Total_Amount_USD  \n",
       "0         0.346870     137147.816349  \n",
       "1         0.375524     169716.349384  \n",
       "2         0.425000      21037.500000  \n",
       "3         0.425000     361517.750000  \n",
       "4         0.390000       5752.500000  \n",
       "\n",
       "[5 rows x 173 columns]"
      ]
     },
     "execution_count": 7,
     "metadata": {},
     "output_type": "execute_result"
    }
   ],
   "source": [
    "testX = pd.read_csv('../files_csv/test_173_features_bin_encoding')\n",
    "testX.head()"
   ]
  },
  {
   "cell_type": "code",
   "execution_count": 8,
   "metadata": {},
   "outputs": [
    {
     "data": {
      "text/plain": [
       "0    10689\n",
       "1    10690\n",
       "2    10691\n",
       "3    10692\n",
       "4    10693\n",
       "Name: Opportunity_ID, dtype: int64"
      ]
     },
     "execution_count": 8,
     "metadata": {},
     "output_type": "execute_result"
    }
   ],
   "source": [
    "ids_test = testX.Opportunity_ID\n",
    "ids_test.head()"
   ]
  },
  {
   "cell_type": "code",
   "execution_count": 9,
   "metadata": {},
   "outputs": [],
   "source": [
    "testX = testX.drop('Opportunity_ID', axis=1)"
   ]
  },
  {
   "cell_type": "code",
   "execution_count": 10,
   "metadata": {},
   "outputs": [
    {
     "name": "stdout",
     "output_type": "stream",
     "text": [
      "<class 'pandas.core.frame.DataFrame'>\n",
      "RangeIndex: 1567 entries, 0 to 1566\n",
      "Columns: 172 entries, Pricing, Delivery_Terms_Quote_Appr to Total_Amount_USD\n",
      "dtypes: float64(3), int64(169)\n",
      "memory usage: 2.1 MB\n"
     ]
    }
   ],
   "source": [
    "testX.info()"
   ]
  },
  {
   "cell_type": "markdown",
   "metadata": {},
   "source": [
    "# Random Forest"
   ]
  },
  {
   "cell_type": "code",
   "execution_count": 11,
   "metadata": {},
   "outputs": [],
   "source": [
    "# Del archivo 'prediccion_log_regression'\n",
    "# Las columnas mas influyentes para predecir con Logistic Regression\n",
    "\n",
    "test_size = 0.3\n",
    "random_state = 0\n",
    "n_jobs=-1\n",
    "n_estimators = 100\n",
    "oob_score = True"
   ]
  },
  {
   "cell_type": "code",
   "execution_count": 12,
   "metadata": {},
   "outputs": [],
   "source": [
    "datos_train , datos_test, cat_train, cat_test = train_test_split(trainX,\n",
    "                                                                stages,\n",
    "                                                                test_size = test_size,\n",
    "                                                                random_state = random_state)"
   ]
  },
  {
   "cell_type": "code",
   "execution_count": 13,
   "metadata": {},
   "outputs": [],
   "source": [
    "clf = RandomForestClassifier(\n",
    "    n_jobs = n_jobs, \n",
    "    random_state = random_state, \n",
    "    oob_score = oob_score, \n",
    "    n_estimators = n_estimators,\n",
    "    max_depth = 100,\n",
    "    criterion = 'gini',\n",
    "    min_samples_split = 10,\n",
    "    min_samples_leaf = 3,\n",
    "    max_features = None\n",
    ")"
   ]
  },
  {
   "cell_type": "code",
   "execution_count": 14,
   "metadata": {},
   "outputs": [
    {
     "data": {
      "text/plain": [
       "RandomForestClassifier(bootstrap=True, ccp_alpha=0.0, class_weight=None,\n",
       "                       criterion='gini', max_depth=100, max_features=None,\n",
       "                       max_leaf_nodes=None, max_samples=None,\n",
       "                       min_impurity_decrease=0.0, min_impurity_split=None,\n",
       "                       min_samples_leaf=3, min_samples_split=10,\n",
       "                       min_weight_fraction_leaf=0.0, n_estimators=100,\n",
       "                       n_jobs=-1, oob_score=True, random_state=0, verbose=0,\n",
       "                       warm_start=False)"
      ]
     },
     "execution_count": 14,
     "metadata": {},
     "output_type": "execute_result"
    }
   ],
   "source": [
    "clf.fit(datos_train,cat_train)"
   ]
  },
  {
   "cell_type": "code",
   "execution_count": 15,
   "metadata": {},
   "outputs": [
    {
     "ename": "NameError",
     "evalue": "name 'cat_pred' is not defined",
     "output_type": "error",
     "traceback": [
      "\u001b[0;31m---------------------------------------------------------------------------\u001b[0m",
      "\u001b[0;31mNameError\u001b[0m                                 Traceback (most recent call last)",
      "\u001b[0;32m<ipython-input-15-046fcb75c3ce>\u001b[0m in \u001b[0;36m<module>\u001b[0;34m\u001b[0m\n\u001b[1;32m      1\u001b[0m \u001b[0mpreds\u001b[0m \u001b[0;34m=\u001b[0m \u001b[0mclf\u001b[0m\u001b[0;34m.\u001b[0m\u001b[0mpredict\u001b[0m\u001b[0;34m(\u001b[0m\u001b[0mdatos_test\u001b[0m\u001b[0;34m)\u001b[0m\u001b[0;34m\u001b[0m\u001b[0;34m\u001b[0m\u001b[0m\n\u001b[1;32m      2\u001b[0m \u001b[0;34m\u001b[0m\u001b[0m\n\u001b[0;32m----> 3\u001b[0;31m \u001b[0mprint\u001b[0m\u001b[0;34m(\u001b[0m\u001b[0;34m'accuracy: {0:.2f}%'\u001b[0m\u001b[0;34m.\u001b[0m\u001b[0mformat\u001b[0m\u001b[0;34m(\u001b[0m\u001b[0maccuracy_score\u001b[0m\u001b[0;34m(\u001b[0m\u001b[0mcat_test\u001b[0m\u001b[0;34m,\u001b[0m\u001b[0mcat_pred\u001b[0m\u001b[0;34m)\u001b[0m\u001b[0;34m*\u001b[0m\u001b[0;36m100\u001b[0m\u001b[0;34m)\u001b[0m\u001b[0;34m)\u001b[0m\u001b[0;34m\u001b[0m\u001b[0;34m\u001b[0m\u001b[0m\n\u001b[0m\u001b[1;32m      4\u001b[0m \u001b[0;34m\u001b[0m\u001b[0m\n\u001b[1;32m      5\u001b[0m \u001b[0mrmse\u001b[0m \u001b[0;34m=\u001b[0m \u001b[0mlog_loss\u001b[0m\u001b[0;34m(\u001b[0m\u001b[0mcat_test\u001b[0m\u001b[0;34m,\u001b[0m \u001b[0mpreds\u001b[0m\u001b[0;34m,\u001b[0m \u001b[0mnormalize\u001b[0m\u001b[0;34m=\u001b[0m\u001b[0;32mTrue\u001b[0m\u001b[0;34m)\u001b[0m\u001b[0;34m\u001b[0m\u001b[0;34m\u001b[0m\u001b[0m\n",
      "\u001b[0;31mNameError\u001b[0m: name 'cat_pred' is not defined"
     ]
    }
   ],
   "source": [
    "preds = clf.predict(datos_test)\n",
    "\n",
    "print('accuracy: {0:.2f}%'.format(accuracy_score(cat_test,cat_pred)*100))\n",
    "\n",
    "rmse = log_loss(cat_test, preds, normalize=True)\n",
    "print(\"Log Loss: %f\" % (rmse))"
   ]
  },
  {
   "cell_type": "code",
   "execution_count": null,
   "metadata": {},
   "outputs": [],
   "source": [
    "final_test_data = testX[trainX.columns]\n",
    "preds = clf.predict(final_test_data)\n",
    "prediccion = pd.DataFrame({'Opportunity_ID':ids_test, 'Target':pd.DataFrame(preds)[0]})\n",
    "prediccion.head()"
   ]
  },
  {
   "cell_type": "code",
   "execution_count": null,
   "metadata": {},
   "outputs": [],
   "source": [
    "prediccion.to_csv('prediccion_random_forest', index=False)"
   ]
  },
  {
   "cell_type": "code",
   "execution_count": null,
   "metadata": {},
   "outputs": [],
   "source": [
    "# Calculo el error\n",
    "def calcular_error_rand_forest(df):\n",
    "    kf = KFold(n_splits=5, shuffle=True)\n",
    "\n",
    "    errores = []\n",
    "    for train_index, test_index in kf.split(df):\n",
    "        X_train, X_test = df.iloc[train_index], df.iloc[test_index]\n",
    "        y_train, y_test = stages.iloc[train_index], stages.iloc[test_index]\n",
    "        rfc = RandomForestClassifier(\n",
    "                n_jobs = n_jobs, \n",
    "                random_state = random_state, \n",
    "                oob_score = oob_score, \n",
    "                n_estimators = n_estimators,\n",
    "                max_depth = 10,\n",
    "                criterion = 'gini',\n",
    "                min_samples_split = 5,\n",
    "                min_samples_leaf = 3,\n",
    "                max_features = None\n",
    "        )\n",
    "        rfc.fit(X_train, y_train)\n",
    "        preds = rfc.predict(X_test)\n",
    "\n",
    "        loss = log_loss(y_test, preds)\n",
    "        errores.append(loss)\n",
    "    \n",
    "    print(\"Log loss: %f\" % (statistics.mean(errores)))"
   ]
  },
  {
   "cell_type": "code",
   "execution_count": null,
   "metadata": {},
   "outputs": [],
   "source": [
    "calcular_error_rand_forest(trainX)"
   ]
  },
  {
   "cell_type": "markdown",
   "metadata": {},
   "source": [
    "# Busqueda de hiperparametros optimos"
   ]
  },
  {
   "cell_type": "code",
   "execution_count": null,
   "metadata": {},
   "outputs": [],
   "source": [
    "\n",
    "rf = RandomForestClassifier(oob_score=oob_score, random_state=random_state, n_jobs=n_jobs)\n",
    "\n",
    "param_grid = { \n",
    "    \"criterion\" : [\"gini\", \"entropy\"], \n",
    "    \"min_samples_leaf\" : [1, 5, 10], \n",
    "    \"min_samples_split\" : [2, 4, 10, 12, 16], \n",
    "    \"n_estimators\": [50, 100, 400, 700, 1000],\n",
    "    'max_depth': [1, 10, 50, 100]\n",
    "}\n",
    "\n",
    "gs = GridSearchCV(estimator=rf, param_grid=param_grid, scoring='accuracy', cv=3, n_jobs=n_jobs)\n",
    "\n",
    "gs = gs.fit(trainX.iloc[:, 1:], trainX.iloc[:, 0])"
   ]
  },
  {
   "cell_type": "code",
   "execution_count": null,
   "metadata": {},
   "outputs": [],
   "source": [
    "print(gs.best_score_)\n",
    "print(gs.best_params_)"
   ]
  },
  {
   "cell_type": "code",
   "execution_count": null,
   "metadata": {},
   "outputs": [],
   "source": [
    "gs.cv_results_"
   ]
  },
  {
   "cell_type": "code",
   "execution_count": null,
   "metadata": {},
   "outputs": [],
   "source": [
    "# nuevos hiperparametros que supuestamente optimizan el modelo\n",
    "criterion = 'gini'\n",
    "min_samples_leaf = 1\n",
    "min_samples_split = 4\n",
    "n_estimators = 1000"
   ]
  },
  {
   "cell_type": "code",
   "execution_count": null,
   "metadata": {},
   "outputs": [],
   "source": [
    "datos_train , datos_test, cat_train, cat_test = train_test_split(trainX,\n",
    "                                                                stages,\n",
    "                                                                test_size = test_size,\n",
    "                                                                random_state = random_state)"
   ]
  },
  {
   "cell_type": "code",
   "execution_count": null,
   "metadata": {},
   "outputs": [],
   "source": [
    "clf = RandomForestClassifier(\n",
    "    criterion = criterion, \n",
    "    min_samples_leaf = min_samples_leaf, \n",
    "    min_samples_split = min_samples_split, \n",
    "    n_estimators = n_estimators,\n",
    "    oob_score = oob_score,\n",
    "    random_state = random_state,\n",
    "    n_jobs = n_jobs)"
   ]
  },
  {
   "cell_type": "code",
   "execution_count": null,
   "metadata": {},
   "outputs": [],
   "source": [
    "clf.fit(datos_train,cat_train)"
   ]
  },
  {
   "cell_type": "code",
   "execution_count": null,
   "metadata": {},
   "outputs": [],
   "source": [
    "preds = clf.predict(datos_test)\n",
    "\n",
    "print('accuracy: {0:.2f}%'.format(accuracy_score(cat_test,preds)*100))\n",
    "\n",
    "rmse = log_loss(cat_test, preds, normalize=True)\n",
    "print(\"Log Loss: %f\" % (rmse))"
   ]
  },
  {
   "cell_type": "code",
   "execution_count": null,
   "metadata": {},
   "outputs": [],
   "source": [
    "final_test_data = testX[trainX.columns]\n",
    "preds = clf.predict(final_test_data)\n",
    "prediccion = pd.DataFrame({'Opportunity_ID':ids_test, 'Target':pd.DataFrame(preds)[0]})\n",
    "prediccion.to_csv('prediccion_random_forest', index=False)"
   ]
  },
  {
   "cell_type": "code",
   "execution_count": null,
   "metadata": {},
   "outputs": [],
   "source": []
  }
 ],
 "metadata": {
  "kernelspec": {
   "display_name": "Python 3",
   "language": "python",
   "name": "python3"
  },
  "language_info": {
   "codemirror_mode": {
    "name": "ipython",
    "version": 3
   },
   "file_extension": ".py",
   "mimetype": "text/x-python",
   "name": "python",
   "nbconvert_exporter": "python",
   "pygments_lexer": "ipython3",
   "version": "3.7.6"
  }
 },
 "nbformat": 4,
 "nbformat_minor": 4
}
