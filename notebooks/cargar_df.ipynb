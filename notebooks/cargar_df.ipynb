{
 "cells": [
  {
   "cell_type": "code",
   "execution_count": 1,
   "metadata": {},
   "outputs": [],
   "source": [
    "import pandas as pd\n",
    "import numpy as np"
   ]
  },
  {
   "cell_type": "code",
   "execution_count": 4,
   "metadata": {},
   "outputs": [],
   "source": [
    "data_folder  = \"../data/\""
   ]
  },
  {
   "cell_type": "code",
   "execution_count": 5,
   "metadata": {},
   "outputs": [],
   "source": [
    "def get_train():\n",
    "    train = pd.read_csv(data_folder+\"Entrenamieto_ECI_2020.csv\",dtype={\"ID\":\"int16\",                                                        \n",
    "                                                        \"Region\":\"category\", \n",
    "                                                        \"Territory\":\"category\",\"Pricing, Delivery_Terms_Quote_Appr\":\"int16\",\n",
    "                                                        \"Pricing, Delivery_Terms_Approved\":\"int16\",\n",
    "                                                        \"Bureaucratic_Code_0_Approval\":\"category\",\n",
    "                                                        \"Bureaucratic_Code_0_Approved\":\"category\",\n",
    "                                                        \"Submitted_for_Approval\":\"int16\",\"Bureaucratic_Code\":\"category\",\n",
    "                                                        \"Source\":\"category\",\n",
    "                                                        \"Billing_Country\":\"category\",\"Account_Owner\":\"category\",\n",
    "                                                        \"Opportunity_Owner\":\"category\",\"Account_Type\":\"category\",\n",
    "                                                        \"Opportunity_Type\":\"category\",\"Quote_Type\":\"category\",\n",
    "                                                        \"Delivery_Terms\":\"category\",\"Brand\":\"category\",\n",
    "                                                        \"Product_Type\":\"category\",\"Size\":\"category\",\n",
    "                                                        \"Product_Category_B\":\"category\",\"Price\":\"category\",\n",
    "                                                        \"Currency\":\"category\",\"ASP_Currency\":\"category\",\n",
    "                                                        \"Delivery_Quarter\":\"category\",\"Total_Amount_Currency\":\"category\",\n",
    "                                                        \"Total_Taxable_Amount_Currency\":\"category\",\n",
    "                                                        \"Delivery_Year\":\"int16\",\n",
    "                                                        \"Stage\":\"category\",\n",
    "                                                        \"Prod_Category_A\":\"category\"      \n",
    "                                                         })\n",
    "    \n",
    "    \n",
    "    train[\"Planned_Delivery_End_Date\"] = pd.to_datetime(train[\"Planned_Delivery_End_Date\"], infer_datetime_format=False, errors=\"coerce\")\n",
    "    train[\"Planned_Delivery_Start_Date\"] = pd.to_datetime(train[\"Planned_Delivery_Start_Date\"], infer_datetime_format=False, errors=\"coerce\")\n",
    "    train[\"Last_Modified_Date\"] = pd.to_datetime(train[\"Last_Modified_Date\"], infer_datetime_format=False, errors=\"coerce\")\n",
    "    train[\"Opportunity_Created_Date\"] = pd.to_datetime(train[\"Opportunity_Created_Date\"], infer_datetime_format=False, errors=\"coerce\")\n",
    "    train[\"Account_Created_Date\"] = pd.to_datetime(train[\"Account_Created_Date\"], infer_datetime_format=False, errors=\"coerce\")\n",
    "    train[\"Month\"] = pd.to_datetime(train[\"Month\"], infer_datetime_format=False, errors=\"coerce\")\n",
    "    # Elimino las columnas con un solo valor\n",
    "    del train['Submitted_for_Approval']\n",
    "    del train['Last_Activity']\n",
    "    del train['ASP_(converted)_Currency']\n",
    "    del train['Actual_Delivery_Date']\n",
    "    del train['Prod_Category_A']\n",
    "    return train"
   ]
  },
  {
   "cell_type": "code",
   "execution_count": null,
   "metadata": {},
   "outputs": [],
   "source": []
  }
 ],
 "metadata": {
  "kernelspec": {
   "display_name": "Python 3",
   "language": "python",
   "name": "python3"
  },
  "language_info": {
   "codemirror_mode": {
    "name": "ipython",
    "version": 3
   },
   "file_extension": ".py",
   "mimetype": "text/x-python",
   "name": "python",
   "nbconvert_exporter": "python",
   "pygments_lexer": "ipython3",
   "version": "3.8.5"
  }
 },
 "nbformat": 4,
 "nbformat_minor": 4
}
