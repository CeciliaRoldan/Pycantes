{
 "cells": [
  {
   "cell_type": "code",
   "execution_count": 1,
   "metadata": {},
   "outputs": [],
   "source": [
    "#pandas libraries\n",
    "import pandas as pd\n",
    "import seaborn as sns\n",
    "import matplotlib.pyplot as plt\n",
    "\n",
    "%run \"../notebooks/cargar_df.ipynb\""
   ]
  },
  {
   "cell_type": "code",
   "execution_count": 2,
   "metadata": {},
   "outputs": [],
   "source": [
    "train = get_train()"
   ]
  },
  {
   "cell_type": "code",
   "execution_count": 3,
   "metadata": {},
   "outputs": [],
   "source": [
    "test = get_test()"
   ]
  },
  {
   "cell_type": "code",
   "execution_count": 4,
   "metadata": {},
   "outputs": [
    {
     "data": {
      "text/html": [
       "<div>\n",
       "<style scoped>\n",
       "    .dataframe tbody tr th:only-of-type {\n",
       "        vertical-align: middle;\n",
       "    }\n",
       "\n",
       "    .dataframe tbody tr th {\n",
       "        vertical-align: top;\n",
       "    }\n",
       "\n",
       "    .dataframe thead th {\n",
       "        text-align: right;\n",
       "    }\n",
       "</style>\n",
       "<table border=\"1\" class=\"dataframe\">\n",
       "  <thead>\n",
       "    <tr style=\"text-align: right;\">\n",
       "      <th></th>\n",
       "      <th>0</th>\n",
       "      <th>1</th>\n",
       "      <th>2</th>\n",
       "      <th>3</th>\n",
       "      <th>4</th>\n",
       "    </tr>\n",
       "  </thead>\n",
       "  <tbody>\n",
       "    <tr>\n",
       "      <th>ID</th>\n",
       "      <td>27761</td>\n",
       "      <td>27760</td>\n",
       "      <td>27446</td>\n",
       "      <td>16808</td>\n",
       "      <td>16805</td>\n",
       "    </tr>\n",
       "    <tr>\n",
       "      <th>Region</th>\n",
       "      <td>EMEA</td>\n",
       "      <td>EMEA</td>\n",
       "      <td>Americas</td>\n",
       "      <td>Americas</td>\n",
       "      <td>Americas</td>\n",
       "    </tr>\n",
       "    <tr>\n",
       "      <th>Territory</th>\n",
       "      <td>None</td>\n",
       "      <td>None</td>\n",
       "      <td>NW America</td>\n",
       "      <td>NW America</td>\n",
       "      <td>NW America</td>\n",
       "    </tr>\n",
       "    <tr>\n",
       "      <th>Pricing, Delivery_Terms_Quote_Appr</th>\n",
       "      <td>1</td>\n",
       "      <td>0</td>\n",
       "      <td>0</td>\n",
       "      <td>1</td>\n",
       "      <td>1</td>\n",
       "    </tr>\n",
       "    <tr>\n",
       "      <th>Pricing, Delivery_Terms_Approved</th>\n",
       "      <td>1</td>\n",
       "      <td>0</td>\n",
       "      <td>0</td>\n",
       "      <td>0</td>\n",
       "      <td>0</td>\n",
       "    </tr>\n",
       "    <tr>\n",
       "      <th>Bureaucratic_Code_0_Approval</th>\n",
       "      <td>1</td>\n",
       "      <td>0</td>\n",
       "      <td>0</td>\n",
       "      <td>1</td>\n",
       "      <td>1</td>\n",
       "    </tr>\n",
       "    <tr>\n",
       "      <th>Bureaucratic_Code_0_Approved</th>\n",
       "      <td>1</td>\n",
       "      <td>0</td>\n",
       "      <td>0</td>\n",
       "      <td>0</td>\n",
       "      <td>0</td>\n",
       "    </tr>\n",
       "    <tr>\n",
       "      <th>Bureaucratic_Code</th>\n",
       "      <td>Bureaucratic_Code_4</td>\n",
       "      <td>Bureaucratic_Code_4</td>\n",
       "      <td>Bureaucratic_Code_4</td>\n",
       "      <td>Bureaucratic_Code_5</td>\n",
       "      <td>Bureaucratic_Code_5</td>\n",
       "    </tr>\n",
       "    <tr>\n",
       "      <th>Account_Created_Date</th>\n",
       "      <td>2015-06-16 00:00:00</td>\n",
       "      <td>2015-06-16 00:00:00</td>\n",
       "      <td>2015-04-21 00:00:00</td>\n",
       "      <td>2013-07-27 00:00:00</td>\n",
       "      <td>2013-07-27 00:00:00</td>\n",
       "    </tr>\n",
       "    <tr>\n",
       "      <th>Source</th>\n",
       "      <td>None</td>\n",
       "      <td>None</td>\n",
       "      <td>Source_7</td>\n",
       "      <td>Source_11</td>\n",
       "      <td>Source_11</td>\n",
       "    </tr>\n",
       "    <tr>\n",
       "      <th>Billing_Country</th>\n",
       "      <td>Netherlands</td>\n",
       "      <td>Netherlands</td>\n",
       "      <td>United States</td>\n",
       "      <td>United States</td>\n",
       "      <td>United States</td>\n",
       "    </tr>\n",
       "    <tr>\n",
       "      <th>Account_Name</th>\n",
       "      <td>Account_Name_619</td>\n",
       "      <td>Account_Name_619</td>\n",
       "      <td>Account_Name_1794</td>\n",
       "      <td>Account_Name_1201</td>\n",
       "      <td>Account_Name_1201</td>\n",
       "    </tr>\n",
       "    <tr>\n",
       "      <th>Opportunity_Name</th>\n",
       "      <td>Opportunity_Name_12598</td>\n",
       "      <td>Opportunity_Name_12600</td>\n",
       "      <td>Opportunity_Name_469</td>\n",
       "      <td>Opportunity_Name_415</td>\n",
       "      <td>Opportunity_Name_851</td>\n",
       "    </tr>\n",
       "    <tr>\n",
       "      <th>Opportunity_ID</th>\n",
       "      <td>0</td>\n",
       "      <td>1</td>\n",
       "      <td>2</td>\n",
       "      <td>3</td>\n",
       "      <td>4</td>\n",
       "    </tr>\n",
       "    <tr>\n",
       "      <th>Sales_Contract_No</th>\n",
       "      <td>None</td>\n",
       "      <td>39</td>\n",
       "      <td>760</td>\n",
       "      <td>None</td>\n",
       "      <td>None</td>\n",
       "    </tr>\n",
       "    <tr>\n",
       "      <th>Account_Owner</th>\n",
       "      <td>Person_Name_51</td>\n",
       "      <td>Person_Name_51</td>\n",
       "      <td>Person_Name_64</td>\n",
       "      <td>Person_Name_8</td>\n",
       "      <td>Person_Name_8</td>\n",
       "    </tr>\n",
       "    <tr>\n",
       "      <th>Opportunity_Owner</th>\n",
       "      <td>Person_Name_18</td>\n",
       "      <td>Person_Name_20</td>\n",
       "      <td>Person_Name_8</td>\n",
       "      <td>Person_Name_8</td>\n",
       "      <td>Person_Name_8</td>\n",
       "    </tr>\n",
       "    <tr>\n",
       "      <th>Account_Type</th>\n",
       "      <td>Account_Type_2</td>\n",
       "      <td>Account_Type_2</td>\n",
       "      <td>Account_Type_5</td>\n",
       "      <td>Account_Type_5</td>\n",
       "      <td>Account_Type_5</td>\n",
       "    </tr>\n",
       "    <tr>\n",
       "      <th>Opportunity_Type</th>\n",
       "      <td>Opportunity_Type_1</td>\n",
       "      <td>Opportunity_Type_1</td>\n",
       "      <td>Opportunity_Type_1</td>\n",
       "      <td>Opportunity_Type_19</td>\n",
       "      <td>Opportunity_Type_19</td>\n",
       "    </tr>\n",
       "    <tr>\n",
       "      <th>Quote_Type</th>\n",
       "      <td>Non Binding</td>\n",
       "      <td>Non Binding</td>\n",
       "      <td>Non Binding</td>\n",
       "      <td>Non Binding</td>\n",
       "      <td>Non Binding</td>\n",
       "    </tr>\n",
       "    <tr>\n",
       "      <th>Delivery_Terms</th>\n",
       "      <td>Delivery_Terms_2</td>\n",
       "      <td>Delivery_Terms_2</td>\n",
       "      <td>Delivery_Terms_4</td>\n",
       "      <td>Delivery_Terms_1</td>\n",
       "      <td>Delivery_Terms_1</td>\n",
       "    </tr>\n",
       "    <tr>\n",
       "      <th>Opportunity_Created_Date</th>\n",
       "      <td>2015-12-07 00:00:00</td>\n",
       "      <td>2015-12-07 00:00:00</td>\n",
       "      <td>2015-12-08 00:00:00</td>\n",
       "      <td>2015-12-08 00:00:00</td>\n",
       "      <td>2015-12-08 00:00:00</td>\n",
       "    </tr>\n",
       "    <tr>\n",
       "      <th>Brand</th>\n",
       "      <td>None</td>\n",
       "      <td>None</td>\n",
       "      <td>None</td>\n",
       "      <td>Other</td>\n",
       "      <td>Other</td>\n",
       "    </tr>\n",
       "    <tr>\n",
       "      <th>Product_Type</th>\n",
       "      <td>None</td>\n",
       "      <td>None</td>\n",
       "      <td>None</td>\n",
       "      <td>Product_Type_0</td>\n",
       "      <td>Product_Type_0</td>\n",
       "    </tr>\n",
       "    <tr>\n",
       "      <th>Size</th>\n",
       "      <td>None</td>\n",
       "      <td>None</td>\n",
       "      <td>None</td>\n",
       "      <td>Size_4</td>\n",
       "      <td>Size_4</td>\n",
       "    </tr>\n",
       "    <tr>\n",
       "      <th>Product_Category_B</th>\n",
       "      <td>None</td>\n",
       "      <td>None</td>\n",
       "      <td>None</td>\n",
       "      <td>Product_Category_B_16</td>\n",
       "      <td>Product_Category_B_16</td>\n",
       "    </tr>\n",
       "    <tr>\n",
       "      <th>Price</th>\n",
       "      <td>None</td>\n",
       "      <td>None</td>\n",
       "      <td>None</td>\n",
       "      <td>0.42</td>\n",
       "      <td>0.42</td>\n",
       "    </tr>\n",
       "    <tr>\n",
       "      <th>Currency</th>\n",
       "      <td>None</td>\n",
       "      <td>None</td>\n",
       "      <td>None</td>\n",
       "      <td>USD</td>\n",
       "      <td>USD</td>\n",
       "    </tr>\n",
       "    <tr>\n",
       "      <th>Quote_Expiry_Date</th>\n",
       "      <td>1/30/2016</td>\n",
       "      <td>1/20/2016</td>\n",
       "      <td>9/30/2016</td>\n",
       "      <td>NaT</td>\n",
       "      <td>6/2/2017</td>\n",
       "    </tr>\n",
       "    <tr>\n",
       "      <th>Last_Modified_Date</th>\n",
       "      <td>2016-06-13 00:00:00</td>\n",
       "      <td>2016-01-15 00:00:00</td>\n",
       "      <td>2016-09-29 00:00:00</td>\n",
       "      <td>2018-03-27 00:00:00</td>\n",
       "      <td>2018-03-27 00:00:00</td>\n",
       "    </tr>\n",
       "    <tr>\n",
       "      <th>Last_Modified_By</th>\n",
       "      <td>Person_Name_18</td>\n",
       "      <td>Person_Name_20</td>\n",
       "      <td>Person_Name_8</td>\n",
       "      <td>Person_Name_8</td>\n",
       "      <td>Person_Name_8</td>\n",
       "    </tr>\n",
       "    <tr>\n",
       "      <th>Product_Family</th>\n",
       "      <td>Product_Family_77</td>\n",
       "      <td>Product_Family_77</td>\n",
       "      <td>Product_Family_81</td>\n",
       "      <td>Product_Family_209</td>\n",
       "      <td>Product_Family_209</td>\n",
       "    </tr>\n",
       "    <tr>\n",
       "      <th>Product_Name</th>\n",
       "      <td>Product_Name_99</td>\n",
       "      <td>Product_Name_100</td>\n",
       "      <td>Product_Name_91</td>\n",
       "      <td>Product_Name_432</td>\n",
       "      <td>Product_Name_432</td>\n",
       "    </tr>\n",
       "    <tr>\n",
       "      <th>ASP_Currency</th>\n",
       "      <td>EUR</td>\n",
       "      <td>EUR</td>\n",
       "      <td>USD</td>\n",
       "      <td>USD</td>\n",
       "      <td>USD</td>\n",
       "    </tr>\n",
       "    <tr>\n",
       "      <th>ASP</th>\n",
       "      <td>0.52</td>\n",
       "      <td>0.53</td>\n",
       "      <td>0.48</td>\n",
       "      <td>0.53</td>\n",
       "      <td>0.53</td>\n",
       "    </tr>\n",
       "    <tr>\n",
       "      <th>ASP_(converted)</th>\n",
       "      <td>0.58817</td>\n",
       "      <td>0.59948</td>\n",
       "      <td>0.48</td>\n",
       "      <td>0.53</td>\n",
       "      <td>0.53</td>\n",
       "    </tr>\n",
       "    <tr>\n",
       "      <th>Planned_Delivery_Start_Date</th>\n",
       "      <td>2016-05-01 00:00:00</td>\n",
       "      <td>2016-01-18 00:00:00</td>\n",
       "      <td>2016-01-25 00:00:00</td>\n",
       "      <td>2018-02-01 00:00:00</td>\n",
       "      <td>2018-02-01 00:00:00</td>\n",
       "    </tr>\n",
       "    <tr>\n",
       "      <th>Planned_Delivery_End_Date</th>\n",
       "      <td>2016-06-30 00:00:00</td>\n",
       "      <td>2016-01-20 00:00:00</td>\n",
       "      <td>2016-01-25 00:00:00</td>\n",
       "      <td>2018-03-31 00:00:00</td>\n",
       "      <td>2018-02-28 00:00:00</td>\n",
       "    </tr>\n",
       "    <tr>\n",
       "      <th>Month</th>\n",
       "      <td>2016-05-01 00:00:00</td>\n",
       "      <td>2016-01-01 00:00:00</td>\n",
       "      <td>2016-01-01 00:00:00</td>\n",
       "      <td>2018-02-01 00:00:00</td>\n",
       "      <td>2018-02-01 00:00:00</td>\n",
       "    </tr>\n",
       "    <tr>\n",
       "      <th>Delivery_Quarter</th>\n",
       "      <td>Q2</td>\n",
       "      <td>Q1</td>\n",
       "      <td>Q1</td>\n",
       "      <td>Q1</td>\n",
       "      <td>Q1</td>\n",
       "    </tr>\n",
       "    <tr>\n",
       "      <th>Delivery_Year</th>\n",
       "      <td>2016</td>\n",
       "      <td>2016</td>\n",
       "      <td>2016</td>\n",
       "      <td>2018</td>\n",
       "      <td>2018</td>\n",
       "    </tr>\n",
       "    <tr>\n",
       "      <th>TRF</th>\n",
       "      <td>10</td>\n",
       "      <td>0</td>\n",
       "      <td>0</td>\n",
       "      <td>14</td>\n",
       "      <td>25</td>\n",
       "    </tr>\n",
       "    <tr>\n",
       "      <th>Total_Amount_Currency</th>\n",
       "      <td>EUR</td>\n",
       "      <td>EUR</td>\n",
       "      <td>USD</td>\n",
       "      <td>USD</td>\n",
       "      <td>USD</td>\n",
       "    </tr>\n",
       "    <tr>\n",
       "      <th>Total_Amount</th>\n",
       "      <td>5.2728e+06</td>\n",
       "      <td>48230</td>\n",
       "      <td>83865.6</td>\n",
       "      <td>7.42188e+06</td>\n",
       "      <td>1.33572e+07</td>\n",
       "    </tr>\n",
       "    <tr>\n",
       "      <th>Total_Taxable_Amount_Currency</th>\n",
       "      <td>EUR</td>\n",
       "      <td>EUR</td>\n",
       "      <td>USD</td>\n",
       "      <td>USD</td>\n",
       "      <td>USD</td>\n",
       "    </tr>\n",
       "    <tr>\n",
       "      <th>Total_Taxable_Amount</th>\n",
       "      <td>5.2728e+06</td>\n",
       "      <td>48230</td>\n",
       "      <td>83865.6</td>\n",
       "      <td>7.42188e+06</td>\n",
       "      <td>1.33572e+07</td>\n",
       "    </tr>\n",
       "    <tr>\n",
       "      <th>Stage</th>\n",
       "      <td>Closed Lost</td>\n",
       "      <td>Closed Won</td>\n",
       "      <td>Closed Won</td>\n",
       "      <td>Closed Lost</td>\n",
       "      <td>Closed Lost</td>\n",
       "    </tr>\n",
       "  </tbody>\n",
       "</table>\n",
       "</div>"
      ],
      "text/plain": [
       "                                                         0  \\\n",
       "ID                                                   27761   \n",
       "Region                                                EMEA   \n",
       "Territory                                             None   \n",
       "Pricing, Delivery_Terms_Quote_Appr                       1   \n",
       "Pricing, Delivery_Terms_Approved                         1   \n",
       "Bureaucratic_Code_0_Approval                             1   \n",
       "Bureaucratic_Code_0_Approved                             1   \n",
       "Bureaucratic_Code                      Bureaucratic_Code_4   \n",
       "Account_Created_Date                   2015-06-16 00:00:00   \n",
       "Source                                                None   \n",
       "Billing_Country                                Netherlands   \n",
       "Account_Name                              Account_Name_619   \n",
       "Opportunity_Name                    Opportunity_Name_12598   \n",
       "Opportunity_ID                                           0   \n",
       "Sales_Contract_No                                     None   \n",
       "Account_Owner                               Person_Name_51   \n",
       "Opportunity_Owner                           Person_Name_18   \n",
       "Account_Type                                Account_Type_2   \n",
       "Opportunity_Type                        Opportunity_Type_1   \n",
       "Quote_Type                                     Non Binding   \n",
       "Delivery_Terms                            Delivery_Terms_2   \n",
       "Opportunity_Created_Date               2015-12-07 00:00:00   \n",
       "Brand                                                 None   \n",
       "Product_Type                                          None   \n",
       "Size                                                  None   \n",
       "Product_Category_B                                    None   \n",
       "Price                                                 None   \n",
       "Currency                                              None   \n",
       "Quote_Expiry_Date                                1/30/2016   \n",
       "Last_Modified_Date                     2016-06-13 00:00:00   \n",
       "Last_Modified_By                            Person_Name_18   \n",
       "Product_Family                           Product_Family_77   \n",
       "Product_Name                               Product_Name_99   \n",
       "ASP_Currency                                           EUR   \n",
       "ASP                                                   0.52   \n",
       "ASP_(converted)                                    0.58817   \n",
       "Planned_Delivery_Start_Date            2016-05-01 00:00:00   \n",
       "Planned_Delivery_End_Date              2016-06-30 00:00:00   \n",
       "Month                                  2016-05-01 00:00:00   \n",
       "Delivery_Quarter                                        Q2   \n",
       "Delivery_Year                                         2016   \n",
       "TRF                                                     10   \n",
       "Total_Amount_Currency                                  EUR   \n",
       "Total_Amount                                    5.2728e+06   \n",
       "Total_Taxable_Amount_Currency                          EUR   \n",
       "Total_Taxable_Amount                            5.2728e+06   \n",
       "Stage                                          Closed Lost   \n",
       "\n",
       "                                                         1  \\\n",
       "ID                                                   27760   \n",
       "Region                                                EMEA   \n",
       "Territory                                             None   \n",
       "Pricing, Delivery_Terms_Quote_Appr                       0   \n",
       "Pricing, Delivery_Terms_Approved                         0   \n",
       "Bureaucratic_Code_0_Approval                             0   \n",
       "Bureaucratic_Code_0_Approved                             0   \n",
       "Bureaucratic_Code                      Bureaucratic_Code_4   \n",
       "Account_Created_Date                   2015-06-16 00:00:00   \n",
       "Source                                                None   \n",
       "Billing_Country                                Netherlands   \n",
       "Account_Name                              Account_Name_619   \n",
       "Opportunity_Name                    Opportunity_Name_12600   \n",
       "Opportunity_ID                                           1   \n",
       "Sales_Contract_No                                       39   \n",
       "Account_Owner                               Person_Name_51   \n",
       "Opportunity_Owner                           Person_Name_20   \n",
       "Account_Type                                Account_Type_2   \n",
       "Opportunity_Type                        Opportunity_Type_1   \n",
       "Quote_Type                                     Non Binding   \n",
       "Delivery_Terms                            Delivery_Terms_2   \n",
       "Opportunity_Created_Date               2015-12-07 00:00:00   \n",
       "Brand                                                 None   \n",
       "Product_Type                                          None   \n",
       "Size                                                  None   \n",
       "Product_Category_B                                    None   \n",
       "Price                                                 None   \n",
       "Currency                                              None   \n",
       "Quote_Expiry_Date                                1/20/2016   \n",
       "Last_Modified_Date                     2016-01-15 00:00:00   \n",
       "Last_Modified_By                            Person_Name_20   \n",
       "Product_Family                           Product_Family_77   \n",
       "Product_Name                              Product_Name_100   \n",
       "ASP_Currency                                           EUR   \n",
       "ASP                                                   0.53   \n",
       "ASP_(converted)                                    0.59948   \n",
       "Planned_Delivery_Start_Date            2016-01-18 00:00:00   \n",
       "Planned_Delivery_End_Date              2016-01-20 00:00:00   \n",
       "Month                                  2016-01-01 00:00:00   \n",
       "Delivery_Quarter                                        Q1   \n",
       "Delivery_Year                                         2016   \n",
       "TRF                                                      0   \n",
       "Total_Amount_Currency                                  EUR   \n",
       "Total_Amount                                         48230   \n",
       "Total_Taxable_Amount_Currency                          EUR   \n",
       "Total_Taxable_Amount                                 48230   \n",
       "Stage                                           Closed Won   \n",
       "\n",
       "                                                       2  \\\n",
       "ID                                                 27446   \n",
       "Region                                          Americas   \n",
       "Territory                                     NW America   \n",
       "Pricing, Delivery_Terms_Quote_Appr                     0   \n",
       "Pricing, Delivery_Terms_Approved                       0   \n",
       "Bureaucratic_Code_0_Approval                           0   \n",
       "Bureaucratic_Code_0_Approved                           0   \n",
       "Bureaucratic_Code                    Bureaucratic_Code_4   \n",
       "Account_Created_Date                 2015-04-21 00:00:00   \n",
       "Source                                          Source_7   \n",
       "Billing_Country                            United States   \n",
       "Account_Name                           Account_Name_1794   \n",
       "Opportunity_Name                    Opportunity_Name_469   \n",
       "Opportunity_ID                                         2   \n",
       "Sales_Contract_No                                    760   \n",
       "Account_Owner                             Person_Name_64   \n",
       "Opportunity_Owner                          Person_Name_8   \n",
       "Account_Type                              Account_Type_5   \n",
       "Opportunity_Type                      Opportunity_Type_1   \n",
       "Quote_Type                                   Non Binding   \n",
       "Delivery_Terms                          Delivery_Terms_4   \n",
       "Opportunity_Created_Date             2015-12-08 00:00:00   \n",
       "Brand                                               None   \n",
       "Product_Type                                        None   \n",
       "Size                                                None   \n",
       "Product_Category_B                                  None   \n",
       "Price                                               None   \n",
       "Currency                                            None   \n",
       "Quote_Expiry_Date                              9/30/2016   \n",
       "Last_Modified_Date                   2016-09-29 00:00:00   \n",
       "Last_Modified_By                           Person_Name_8   \n",
       "Product_Family                         Product_Family_81   \n",
       "Product_Name                             Product_Name_91   \n",
       "ASP_Currency                                         USD   \n",
       "ASP                                                 0.48   \n",
       "ASP_(converted)                                     0.48   \n",
       "Planned_Delivery_Start_Date          2016-01-25 00:00:00   \n",
       "Planned_Delivery_End_Date            2016-01-25 00:00:00   \n",
       "Month                                2016-01-01 00:00:00   \n",
       "Delivery_Quarter                                      Q1   \n",
       "Delivery_Year                                       2016   \n",
       "TRF                                                    0   \n",
       "Total_Amount_Currency                                USD   \n",
       "Total_Amount                                     83865.6   \n",
       "Total_Taxable_Amount_Currency                        USD   \n",
       "Total_Taxable_Amount                             83865.6   \n",
       "Stage                                         Closed Won   \n",
       "\n",
       "                                                        3  \\\n",
       "ID                                                  16808   \n",
       "Region                                           Americas   \n",
       "Territory                                      NW America   \n",
       "Pricing, Delivery_Terms_Quote_Appr                      1   \n",
       "Pricing, Delivery_Terms_Approved                        0   \n",
       "Bureaucratic_Code_0_Approval                            1   \n",
       "Bureaucratic_Code_0_Approved                            0   \n",
       "Bureaucratic_Code                     Bureaucratic_Code_5   \n",
       "Account_Created_Date                  2013-07-27 00:00:00   \n",
       "Source                                          Source_11   \n",
       "Billing_Country                             United States   \n",
       "Account_Name                            Account_Name_1201   \n",
       "Opportunity_Name                     Opportunity_Name_415   \n",
       "Opportunity_ID                                          3   \n",
       "Sales_Contract_No                                    None   \n",
       "Account_Owner                               Person_Name_8   \n",
       "Opportunity_Owner                           Person_Name_8   \n",
       "Account_Type                               Account_Type_5   \n",
       "Opportunity_Type                      Opportunity_Type_19   \n",
       "Quote_Type                                    Non Binding   \n",
       "Delivery_Terms                           Delivery_Terms_1   \n",
       "Opportunity_Created_Date              2015-12-08 00:00:00   \n",
       "Brand                                               Other   \n",
       "Product_Type                               Product_Type_0   \n",
       "Size                                               Size_4   \n",
       "Product_Category_B                  Product_Category_B_16   \n",
       "Price                                                0.42   \n",
       "Currency                                              USD   \n",
       "Quote_Expiry_Date                                     NaT   \n",
       "Last_Modified_Date                    2018-03-27 00:00:00   \n",
       "Last_Modified_By                            Person_Name_8   \n",
       "Product_Family                         Product_Family_209   \n",
       "Product_Name                             Product_Name_432   \n",
       "ASP_Currency                                          USD   \n",
       "ASP                                                  0.53   \n",
       "ASP_(converted)                                      0.53   \n",
       "Planned_Delivery_Start_Date           2018-02-01 00:00:00   \n",
       "Planned_Delivery_End_Date             2018-03-31 00:00:00   \n",
       "Month                                 2018-02-01 00:00:00   \n",
       "Delivery_Quarter                                       Q1   \n",
       "Delivery_Year                                        2018   \n",
       "TRF                                                    14   \n",
       "Total_Amount_Currency                                 USD   \n",
       "Total_Amount                                  7.42188e+06   \n",
       "Total_Taxable_Amount_Currency                         USD   \n",
       "Total_Taxable_Amount                          7.42188e+06   \n",
       "Stage                                         Closed Lost   \n",
       "\n",
       "                                                        4  \n",
       "ID                                                  16805  \n",
       "Region                                           Americas  \n",
       "Territory                                      NW America  \n",
       "Pricing, Delivery_Terms_Quote_Appr                      1  \n",
       "Pricing, Delivery_Terms_Approved                        0  \n",
       "Bureaucratic_Code_0_Approval                            1  \n",
       "Bureaucratic_Code_0_Approved                            0  \n",
       "Bureaucratic_Code                     Bureaucratic_Code_5  \n",
       "Account_Created_Date                  2013-07-27 00:00:00  \n",
       "Source                                          Source_11  \n",
       "Billing_Country                             United States  \n",
       "Account_Name                            Account_Name_1201  \n",
       "Opportunity_Name                     Opportunity_Name_851  \n",
       "Opportunity_ID                                          4  \n",
       "Sales_Contract_No                                    None  \n",
       "Account_Owner                               Person_Name_8  \n",
       "Opportunity_Owner                           Person_Name_8  \n",
       "Account_Type                               Account_Type_5  \n",
       "Opportunity_Type                      Opportunity_Type_19  \n",
       "Quote_Type                                    Non Binding  \n",
       "Delivery_Terms                           Delivery_Terms_1  \n",
       "Opportunity_Created_Date              2015-12-08 00:00:00  \n",
       "Brand                                               Other  \n",
       "Product_Type                               Product_Type_0  \n",
       "Size                                               Size_4  \n",
       "Product_Category_B                  Product_Category_B_16  \n",
       "Price                                                0.42  \n",
       "Currency                                              USD  \n",
       "Quote_Expiry_Date                                6/2/2017  \n",
       "Last_Modified_Date                    2018-03-27 00:00:00  \n",
       "Last_Modified_By                            Person_Name_8  \n",
       "Product_Family                         Product_Family_209  \n",
       "Product_Name                             Product_Name_432  \n",
       "ASP_Currency                                          USD  \n",
       "ASP                                                  0.53  \n",
       "ASP_(converted)                                      0.53  \n",
       "Planned_Delivery_Start_Date           2018-02-01 00:00:00  \n",
       "Planned_Delivery_End_Date             2018-02-28 00:00:00  \n",
       "Month                                 2018-02-01 00:00:00  \n",
       "Delivery_Quarter                                       Q1  \n",
       "Delivery_Year                                        2018  \n",
       "TRF                                                    25  \n",
       "Total_Amount_Currency                                 USD  \n",
       "Total_Amount                                  1.33572e+07  \n",
       "Total_Taxable_Amount_Currency                         USD  \n",
       "Total_Taxable_Amount                          1.33572e+07  \n",
       "Stage                                         Closed Lost  "
      ]
     },
     "execution_count": 4,
     "metadata": {},
     "output_type": "execute_result"
    }
   ],
   "source": [
    "train.head().T"
   ]
  },
  {
   "cell_type": "code",
   "execution_count": 5,
   "metadata": {},
   "outputs": [
    {
     "data": {
      "text/html": [
       "<div>\n",
       "<style scoped>\n",
       "    .dataframe tbody tr th:only-of-type {\n",
       "        vertical-align: middle;\n",
       "    }\n",
       "\n",
       "    .dataframe tbody tr th {\n",
       "        vertical-align: top;\n",
       "    }\n",
       "\n",
       "    .dataframe thead th {\n",
       "        text-align: right;\n",
       "    }\n",
       "</style>\n",
       "<table border=\"1\" class=\"dataframe\">\n",
       "  <thead>\n",
       "    <tr style=\"text-align: right;\">\n",
       "      <th></th>\n",
       "      <th>0</th>\n",
       "      <th>1</th>\n",
       "      <th>2</th>\n",
       "      <th>3</th>\n",
       "      <th>4</th>\n",
       "    </tr>\n",
       "  </thead>\n",
       "  <tbody>\n",
       "    <tr>\n",
       "      <th>ID</th>\n",
       "      <td>6140</td>\n",
       "      <td>6146</td>\n",
       "      <td>6151</td>\n",
       "      <td>6118</td>\n",
       "      <td>6124</td>\n",
       "    </tr>\n",
       "    <tr>\n",
       "      <th>Region</th>\n",
       "      <td>EMEA</td>\n",
       "      <td>EMEA</td>\n",
       "      <td>EMEA</td>\n",
       "      <td>EMEA</td>\n",
       "      <td>EMEA</td>\n",
       "    </tr>\n",
       "    <tr>\n",
       "      <th>Territory</th>\n",
       "      <td>Germany</td>\n",
       "      <td>Germany</td>\n",
       "      <td>Germany</td>\n",
       "      <td>Germany</td>\n",
       "      <td>Germany</td>\n",
       "    </tr>\n",
       "    <tr>\n",
       "      <th>Pricing, Delivery_Terms_Quote_Appr</th>\n",
       "      <td>1</td>\n",
       "      <td>1</td>\n",
       "      <td>1</td>\n",
       "      <td>1</td>\n",
       "      <td>1</td>\n",
       "    </tr>\n",
       "    <tr>\n",
       "      <th>Pricing, Delivery_Terms_Approved</th>\n",
       "      <td>1</td>\n",
       "      <td>1</td>\n",
       "      <td>1</td>\n",
       "      <td>1</td>\n",
       "      <td>1</td>\n",
       "    </tr>\n",
       "    <tr>\n",
       "      <th>Bureaucratic_Code_0_Approval</th>\n",
       "      <td>1</td>\n",
       "      <td>1</td>\n",
       "      <td>1</td>\n",
       "      <td>1</td>\n",
       "      <td>1</td>\n",
       "    </tr>\n",
       "    <tr>\n",
       "      <th>Bureaucratic_Code_0_Approved</th>\n",
       "      <td>1</td>\n",
       "      <td>1</td>\n",
       "      <td>1</td>\n",
       "      <td>1</td>\n",
       "      <td>1</td>\n",
       "    </tr>\n",
       "    <tr>\n",
       "      <th>Bureaucratic_Code</th>\n",
       "      <td>Bureaucratic_Code_4</td>\n",
       "      <td>Bureaucratic_Code_4</td>\n",
       "      <td>Bureaucratic_Code_4</td>\n",
       "      <td>Bureaucratic_Code_4</td>\n",
       "      <td>Bureaucratic_Code_4</td>\n",
       "    </tr>\n",
       "    <tr>\n",
       "      <th>Account_Created_Date</th>\n",
       "      <td>2017-07-05 00:00:00</td>\n",
       "      <td>2017-07-05 00:00:00</td>\n",
       "      <td>2017-07-05 00:00:00</td>\n",
       "      <td>2017-07-05 00:00:00</td>\n",
       "      <td>2017-07-05 00:00:00</td>\n",
       "    </tr>\n",
       "    <tr>\n",
       "      <th>Source</th>\n",
       "      <td>Source_7</td>\n",
       "      <td>Source_7</td>\n",
       "      <td>Source_7</td>\n",
       "      <td>Source_7</td>\n",
       "      <td>Source_7</td>\n",
       "    </tr>\n",
       "    <tr>\n",
       "      <th>Billing_Country</th>\n",
       "      <td>Germany</td>\n",
       "      <td>Germany</td>\n",
       "      <td>Germany</td>\n",
       "      <td>Germany</td>\n",
       "      <td>Germany</td>\n",
       "    </tr>\n",
       "    <tr>\n",
       "      <th>Account_Name</th>\n",
       "      <td>Account_Name_978</td>\n",
       "      <td>Account_Name_978</td>\n",
       "      <td>Account_Name_978</td>\n",
       "      <td>Account_Name_978</td>\n",
       "      <td>Account_Name_978</td>\n",
       "    </tr>\n",
       "    <tr>\n",
       "      <th>Opportunity_Name</th>\n",
       "      <td>Opportunity_Name_6118</td>\n",
       "      <td>Opportunity_Name_6118</td>\n",
       "      <td>Opportunity_Name_6118</td>\n",
       "      <td>Opportunity_Name_6117</td>\n",
       "      <td>Opportunity_Name_6117</td>\n",
       "    </tr>\n",
       "    <tr>\n",
       "      <th>Opportunity_ID</th>\n",
       "      <td>10689</td>\n",
       "      <td>10689</td>\n",
       "      <td>10689</td>\n",
       "      <td>10690</td>\n",
       "      <td>10690</td>\n",
       "    </tr>\n",
       "    <tr>\n",
       "      <th>Sales_Contract_No</th>\n",
       "      <td>6436</td>\n",
       "      <td>6436</td>\n",
       "      <td>6436</td>\n",
       "      <td>6504</td>\n",
       "      <td>6504</td>\n",
       "    </tr>\n",
       "    <tr>\n",
       "      <th>Account_Owner</th>\n",
       "      <td>Person_Name_13</td>\n",
       "      <td>Person_Name_13</td>\n",
       "      <td>Person_Name_13</td>\n",
       "      <td>Person_Name_13</td>\n",
       "      <td>Person_Name_13</td>\n",
       "    </tr>\n",
       "    <tr>\n",
       "      <th>Opportunity_Owner</th>\n",
       "      <td>Person_Name_13</td>\n",
       "      <td>Person_Name_13</td>\n",
       "      <td>Person_Name_13</td>\n",
       "      <td>Person_Name_13</td>\n",
       "      <td>Person_Name_13</td>\n",
       "    </tr>\n",
       "    <tr>\n",
       "      <th>Account_Type</th>\n",
       "      <td>Account_Type_0</td>\n",
       "      <td>Account_Type_0</td>\n",
       "      <td>Account_Type_0</td>\n",
       "      <td>Account_Type_0</td>\n",
       "      <td>Account_Type_0</td>\n",
       "    </tr>\n",
       "    <tr>\n",
       "      <th>Opportunity_Type</th>\n",
       "      <td>Opportunity_Type_8</td>\n",
       "      <td>Opportunity_Type_8</td>\n",
       "      <td>Opportunity_Type_8</td>\n",
       "      <td>Opportunity_Type_8</td>\n",
       "      <td>Opportunity_Type_8</td>\n",
       "    </tr>\n",
       "    <tr>\n",
       "      <th>Quote_Type</th>\n",
       "      <td>Non Binding</td>\n",
       "      <td>Non Binding</td>\n",
       "      <td>Non Binding</td>\n",
       "      <td>Non Binding</td>\n",
       "      <td>Non Binding</td>\n",
       "    </tr>\n",
       "    <tr>\n",
       "      <th>Delivery_Terms</th>\n",
       "      <td>Delivery_Terms_2</td>\n",
       "      <td>Delivery_Terms_2</td>\n",
       "      <td>Delivery_Terms_2</td>\n",
       "      <td>Delivery_Terms_2</td>\n",
       "      <td>Delivery_Terms_2</td>\n",
       "    </tr>\n",
       "    <tr>\n",
       "      <th>Opportunity_Created_Date</th>\n",
       "      <td>2019-04-12 00:00:00</td>\n",
       "      <td>2019-04-12 00:00:00</td>\n",
       "      <td>2019-04-12 00:00:00</td>\n",
       "      <td>2019-04-12 00:00:00</td>\n",
       "      <td>2019-04-12 00:00:00</td>\n",
       "    </tr>\n",
       "    <tr>\n",
       "      <th>Brand</th>\n",
       "      <td>None</td>\n",
       "      <td>None</td>\n",
       "      <td>None</td>\n",
       "      <td>None</td>\n",
       "      <td>None</td>\n",
       "    </tr>\n",
       "    <tr>\n",
       "      <th>Product_Type</th>\n",
       "      <td>None</td>\n",
       "      <td>None</td>\n",
       "      <td>None</td>\n",
       "      <td>None</td>\n",
       "      <td>None</td>\n",
       "    </tr>\n",
       "    <tr>\n",
       "      <th>Size</th>\n",
       "      <td>None</td>\n",
       "      <td>None</td>\n",
       "      <td>None</td>\n",
       "      <td>None</td>\n",
       "      <td>None</td>\n",
       "    </tr>\n",
       "    <tr>\n",
       "      <th>Product_Category_B</th>\n",
       "      <td>None</td>\n",
       "      <td>None</td>\n",
       "      <td>None</td>\n",
       "      <td>None</td>\n",
       "      <td>None</td>\n",
       "    </tr>\n",
       "    <tr>\n",
       "      <th>Price</th>\n",
       "      <td>None</td>\n",
       "      <td>None</td>\n",
       "      <td>None</td>\n",
       "      <td>None</td>\n",
       "      <td>None</td>\n",
       "    </tr>\n",
       "    <tr>\n",
       "      <th>Currency</th>\n",
       "      <td>None</td>\n",
       "      <td>None</td>\n",
       "      <td>None</td>\n",
       "      <td>None</td>\n",
       "      <td>None</td>\n",
       "    </tr>\n",
       "    <tr>\n",
       "      <th>Quote_Expiry_Date</th>\n",
       "      <td>4/30/2019</td>\n",
       "      <td>4/30/2019</td>\n",
       "      <td>4/30/2019</td>\n",
       "      <td>4/30/2019</td>\n",
       "      <td>4/30/2019</td>\n",
       "    </tr>\n",
       "    <tr>\n",
       "      <th>Last_Modified_Date</th>\n",
       "      <td>2019-04-12 00:00:00</td>\n",
       "      <td>2019-04-12 00:00:00</td>\n",
       "      <td>2019-04-12 00:00:00</td>\n",
       "      <td>2019-04-25 00:00:00</td>\n",
       "      <td>2019-04-25 00:00:00</td>\n",
       "    </tr>\n",
       "    <tr>\n",
       "      <th>Last_Modified_By</th>\n",
       "      <td>Person_Name_13</td>\n",
       "      <td>Person_Name_13</td>\n",
       "      <td>Person_Name_13</td>\n",
       "      <td>Person_Name_13</td>\n",
       "      <td>Person_Name_13</td>\n",
       "    </tr>\n",
       "    <tr>\n",
       "      <th>Product_Family</th>\n",
       "      <td>Product_Family_171</td>\n",
       "      <td>Product_Family_167</td>\n",
       "      <td>Product_Family_140</td>\n",
       "      <td>Product_Family_171</td>\n",
       "      <td>Product_Family_167</td>\n",
       "    </tr>\n",
       "    <tr>\n",
       "      <th>Product_Name</th>\n",
       "      <td>Product_Name_332</td>\n",
       "      <td>Product_Name_315</td>\n",
       "      <td>Product_Name_241</td>\n",
       "      <td>Product_Name_328</td>\n",
       "      <td>Product_Name_315</td>\n",
       "    </tr>\n",
       "    <tr>\n",
       "      <th>ASP_Currency</th>\n",
       "      <td>EUR</td>\n",
       "      <td>EUR</td>\n",
       "      <td>EUR</td>\n",
       "      <td>EUR</td>\n",
       "      <td>EUR</td>\n",
       "    </tr>\n",
       "    <tr>\n",
       "      <th>ASP</th>\n",
       "      <td>0.325</td>\n",
       "      <td>0.32</td>\n",
       "      <td>0.275</td>\n",
       "      <td>0.325</td>\n",
       "      <td>0.32</td>\n",
       "    </tr>\n",
       "    <tr>\n",
       "      <th>ASP_(converted)</th>\n",
       "      <td>0.36761</td>\n",
       "      <td>0.36195</td>\n",
       "      <td>0.31105</td>\n",
       "      <td>0.36761</td>\n",
       "      <td>0.36195</td>\n",
       "    </tr>\n",
       "    <tr>\n",
       "      <th>Planned_Delivery_Start_Date</th>\n",
       "      <td>2019-05-01 00:00:00</td>\n",
       "      <td>2019-05-01 00:00:00</td>\n",
       "      <td>2019-05-01 00:00:00</td>\n",
       "      <td>2019-06-01 00:00:00</td>\n",
       "      <td>2019-06-01 00:00:00</td>\n",
       "    </tr>\n",
       "    <tr>\n",
       "      <th>Planned_Delivery_End_Date</th>\n",
       "      <td>2019-05-31 00:00:00</td>\n",
       "      <td>2019-05-31 00:00:00</td>\n",
       "      <td>2019-05-31 00:00:00</td>\n",
       "      <td>2019-06-28 00:00:00</td>\n",
       "      <td>2019-06-29 00:00:00</td>\n",
       "    </tr>\n",
       "    <tr>\n",
       "      <th>Month</th>\n",
       "      <td>2019-05-01 00:00:00</td>\n",
       "      <td>2019-05-01 00:00:00</td>\n",
       "      <td>2019-05-01 00:00:00</td>\n",
       "      <td>2019-06-01 00:00:00</td>\n",
       "      <td>2019-06-01 00:00:00</td>\n",
       "    </tr>\n",
       "    <tr>\n",
       "      <th>Delivery_Quarter</th>\n",
       "      <td>Q2</td>\n",
       "      <td>Q2</td>\n",
       "      <td>Q2</td>\n",
       "      <td>Q2</td>\n",
       "      <td>Q2</td>\n",
       "    </tr>\n",
       "    <tr>\n",
       "      <th>Delivery_Year</th>\n",
       "      <td>2019</td>\n",
       "      <td>2019</td>\n",
       "      <td>2019</td>\n",
       "      <td>2019</td>\n",
       "      <td>2019</td>\n",
       "    </tr>\n",
       "    <tr>\n",
       "      <th>TRF</th>\n",
       "      <td>0</td>\n",
       "      <td>0</td>\n",
       "      <td>0</td>\n",
       "      <td>1</td>\n",
       "      <td>0</td>\n",
       "    </tr>\n",
       "    <tr>\n",
       "      <th>Total_Amount_Currency</th>\n",
       "      <td>EUR</td>\n",
       "      <td>EUR</td>\n",
       "      <td>EUR</td>\n",
       "      <td>EUR</td>\n",
       "      <td>EUR</td>\n",
       "    </tr>\n",
       "    <tr>\n",
       "      <th>Total_Amount</th>\n",
       "      <td>162240</td>\n",
       "      <td>78624</td>\n",
       "      <td>126555</td>\n",
       "      <td>243360</td>\n",
       "      <td>157248</td>\n",
       "    </tr>\n",
       "    <tr>\n",
       "      <th>Total_Taxable_Amount_Currency</th>\n",
       "      <td>EUR</td>\n",
       "      <td>EUR</td>\n",
       "      <td>EUR</td>\n",
       "      <td>EUR</td>\n",
       "      <td>EUR</td>\n",
       "    </tr>\n",
       "    <tr>\n",
       "      <th>Total_Taxable_Amount</th>\n",
       "      <td>367419</td>\n",
       "      <td>367419</td>\n",
       "      <td>367419</td>\n",
       "      <td>757784</td>\n",
       "      <td>757784</td>\n",
       "    </tr>\n",
       "  </tbody>\n",
       "</table>\n",
       "</div>"
      ],
      "text/plain": [
       "                                                        0  \\\n",
       "ID                                                   6140   \n",
       "Region                                               EMEA   \n",
       "Territory                                         Germany   \n",
       "Pricing, Delivery_Terms_Quote_Appr                      1   \n",
       "Pricing, Delivery_Terms_Approved                        1   \n",
       "Bureaucratic_Code_0_Approval                            1   \n",
       "Bureaucratic_Code_0_Approved                            1   \n",
       "Bureaucratic_Code                     Bureaucratic_Code_4   \n",
       "Account_Created_Date                  2017-07-05 00:00:00   \n",
       "Source                                           Source_7   \n",
       "Billing_Country                                   Germany   \n",
       "Account_Name                             Account_Name_978   \n",
       "Opportunity_Name                    Opportunity_Name_6118   \n",
       "Opportunity_ID                                      10689   \n",
       "Sales_Contract_No                                    6436   \n",
       "Account_Owner                              Person_Name_13   \n",
       "Opportunity_Owner                          Person_Name_13   \n",
       "Account_Type                               Account_Type_0   \n",
       "Opportunity_Type                       Opportunity_Type_8   \n",
       "Quote_Type                                    Non Binding   \n",
       "Delivery_Terms                           Delivery_Terms_2   \n",
       "Opportunity_Created_Date              2019-04-12 00:00:00   \n",
       "Brand                                                None   \n",
       "Product_Type                                         None   \n",
       "Size                                                 None   \n",
       "Product_Category_B                                   None   \n",
       "Price                                                None   \n",
       "Currency                                             None   \n",
       "Quote_Expiry_Date                               4/30/2019   \n",
       "Last_Modified_Date                    2019-04-12 00:00:00   \n",
       "Last_Modified_By                           Person_Name_13   \n",
       "Product_Family                         Product_Family_171   \n",
       "Product_Name                             Product_Name_332   \n",
       "ASP_Currency                                          EUR   \n",
       "ASP                                                 0.325   \n",
       "ASP_(converted)                                   0.36761   \n",
       "Planned_Delivery_Start_Date           2019-05-01 00:00:00   \n",
       "Planned_Delivery_End_Date             2019-05-31 00:00:00   \n",
       "Month                                 2019-05-01 00:00:00   \n",
       "Delivery_Quarter                                       Q2   \n",
       "Delivery_Year                                        2019   \n",
       "TRF                                                     0   \n",
       "Total_Amount_Currency                                 EUR   \n",
       "Total_Amount                                       162240   \n",
       "Total_Taxable_Amount_Currency                         EUR   \n",
       "Total_Taxable_Amount                               367419   \n",
       "\n",
       "                                                        1  \\\n",
       "ID                                                   6146   \n",
       "Region                                               EMEA   \n",
       "Territory                                         Germany   \n",
       "Pricing, Delivery_Terms_Quote_Appr                      1   \n",
       "Pricing, Delivery_Terms_Approved                        1   \n",
       "Bureaucratic_Code_0_Approval                            1   \n",
       "Bureaucratic_Code_0_Approved                            1   \n",
       "Bureaucratic_Code                     Bureaucratic_Code_4   \n",
       "Account_Created_Date                  2017-07-05 00:00:00   \n",
       "Source                                           Source_7   \n",
       "Billing_Country                                   Germany   \n",
       "Account_Name                             Account_Name_978   \n",
       "Opportunity_Name                    Opportunity_Name_6118   \n",
       "Opportunity_ID                                      10689   \n",
       "Sales_Contract_No                                    6436   \n",
       "Account_Owner                              Person_Name_13   \n",
       "Opportunity_Owner                          Person_Name_13   \n",
       "Account_Type                               Account_Type_0   \n",
       "Opportunity_Type                       Opportunity_Type_8   \n",
       "Quote_Type                                    Non Binding   \n",
       "Delivery_Terms                           Delivery_Terms_2   \n",
       "Opportunity_Created_Date              2019-04-12 00:00:00   \n",
       "Brand                                                None   \n",
       "Product_Type                                         None   \n",
       "Size                                                 None   \n",
       "Product_Category_B                                   None   \n",
       "Price                                                None   \n",
       "Currency                                             None   \n",
       "Quote_Expiry_Date                               4/30/2019   \n",
       "Last_Modified_Date                    2019-04-12 00:00:00   \n",
       "Last_Modified_By                           Person_Name_13   \n",
       "Product_Family                         Product_Family_167   \n",
       "Product_Name                             Product_Name_315   \n",
       "ASP_Currency                                          EUR   \n",
       "ASP                                                  0.32   \n",
       "ASP_(converted)                                   0.36195   \n",
       "Planned_Delivery_Start_Date           2019-05-01 00:00:00   \n",
       "Planned_Delivery_End_Date             2019-05-31 00:00:00   \n",
       "Month                                 2019-05-01 00:00:00   \n",
       "Delivery_Quarter                                       Q2   \n",
       "Delivery_Year                                        2019   \n",
       "TRF                                                     0   \n",
       "Total_Amount_Currency                                 EUR   \n",
       "Total_Amount                                        78624   \n",
       "Total_Taxable_Amount_Currency                         EUR   \n",
       "Total_Taxable_Amount                               367419   \n",
       "\n",
       "                                                        2  \\\n",
       "ID                                                   6151   \n",
       "Region                                               EMEA   \n",
       "Territory                                         Germany   \n",
       "Pricing, Delivery_Terms_Quote_Appr                      1   \n",
       "Pricing, Delivery_Terms_Approved                        1   \n",
       "Bureaucratic_Code_0_Approval                            1   \n",
       "Bureaucratic_Code_0_Approved                            1   \n",
       "Bureaucratic_Code                     Bureaucratic_Code_4   \n",
       "Account_Created_Date                  2017-07-05 00:00:00   \n",
       "Source                                           Source_7   \n",
       "Billing_Country                                   Germany   \n",
       "Account_Name                             Account_Name_978   \n",
       "Opportunity_Name                    Opportunity_Name_6118   \n",
       "Opportunity_ID                                      10689   \n",
       "Sales_Contract_No                                    6436   \n",
       "Account_Owner                              Person_Name_13   \n",
       "Opportunity_Owner                          Person_Name_13   \n",
       "Account_Type                               Account_Type_0   \n",
       "Opportunity_Type                       Opportunity_Type_8   \n",
       "Quote_Type                                    Non Binding   \n",
       "Delivery_Terms                           Delivery_Terms_2   \n",
       "Opportunity_Created_Date              2019-04-12 00:00:00   \n",
       "Brand                                                None   \n",
       "Product_Type                                         None   \n",
       "Size                                                 None   \n",
       "Product_Category_B                                   None   \n",
       "Price                                                None   \n",
       "Currency                                             None   \n",
       "Quote_Expiry_Date                               4/30/2019   \n",
       "Last_Modified_Date                    2019-04-12 00:00:00   \n",
       "Last_Modified_By                           Person_Name_13   \n",
       "Product_Family                         Product_Family_140   \n",
       "Product_Name                             Product_Name_241   \n",
       "ASP_Currency                                          EUR   \n",
       "ASP                                                 0.275   \n",
       "ASP_(converted)                                   0.31105   \n",
       "Planned_Delivery_Start_Date           2019-05-01 00:00:00   \n",
       "Planned_Delivery_End_Date             2019-05-31 00:00:00   \n",
       "Month                                 2019-05-01 00:00:00   \n",
       "Delivery_Quarter                                       Q2   \n",
       "Delivery_Year                                        2019   \n",
       "TRF                                                     0   \n",
       "Total_Amount_Currency                                 EUR   \n",
       "Total_Amount                                       126555   \n",
       "Total_Taxable_Amount_Currency                         EUR   \n",
       "Total_Taxable_Amount                               367419   \n",
       "\n",
       "                                                        3  \\\n",
       "ID                                                   6118   \n",
       "Region                                               EMEA   \n",
       "Territory                                         Germany   \n",
       "Pricing, Delivery_Terms_Quote_Appr                      1   \n",
       "Pricing, Delivery_Terms_Approved                        1   \n",
       "Bureaucratic_Code_0_Approval                            1   \n",
       "Bureaucratic_Code_0_Approved                            1   \n",
       "Bureaucratic_Code                     Bureaucratic_Code_4   \n",
       "Account_Created_Date                  2017-07-05 00:00:00   \n",
       "Source                                           Source_7   \n",
       "Billing_Country                                   Germany   \n",
       "Account_Name                             Account_Name_978   \n",
       "Opportunity_Name                    Opportunity_Name_6117   \n",
       "Opportunity_ID                                      10690   \n",
       "Sales_Contract_No                                    6504   \n",
       "Account_Owner                              Person_Name_13   \n",
       "Opportunity_Owner                          Person_Name_13   \n",
       "Account_Type                               Account_Type_0   \n",
       "Opportunity_Type                       Opportunity_Type_8   \n",
       "Quote_Type                                    Non Binding   \n",
       "Delivery_Terms                           Delivery_Terms_2   \n",
       "Opportunity_Created_Date              2019-04-12 00:00:00   \n",
       "Brand                                                None   \n",
       "Product_Type                                         None   \n",
       "Size                                                 None   \n",
       "Product_Category_B                                   None   \n",
       "Price                                                None   \n",
       "Currency                                             None   \n",
       "Quote_Expiry_Date                               4/30/2019   \n",
       "Last_Modified_Date                    2019-04-25 00:00:00   \n",
       "Last_Modified_By                           Person_Name_13   \n",
       "Product_Family                         Product_Family_171   \n",
       "Product_Name                             Product_Name_328   \n",
       "ASP_Currency                                          EUR   \n",
       "ASP                                                 0.325   \n",
       "ASP_(converted)                                   0.36761   \n",
       "Planned_Delivery_Start_Date           2019-06-01 00:00:00   \n",
       "Planned_Delivery_End_Date             2019-06-28 00:00:00   \n",
       "Month                                 2019-06-01 00:00:00   \n",
       "Delivery_Quarter                                       Q2   \n",
       "Delivery_Year                                        2019   \n",
       "TRF                                                     1   \n",
       "Total_Amount_Currency                                 EUR   \n",
       "Total_Amount                                       243360   \n",
       "Total_Taxable_Amount_Currency                         EUR   \n",
       "Total_Taxable_Amount                               757784   \n",
       "\n",
       "                                                        4  \n",
       "ID                                                   6124  \n",
       "Region                                               EMEA  \n",
       "Territory                                         Germany  \n",
       "Pricing, Delivery_Terms_Quote_Appr                      1  \n",
       "Pricing, Delivery_Terms_Approved                        1  \n",
       "Bureaucratic_Code_0_Approval                            1  \n",
       "Bureaucratic_Code_0_Approved                            1  \n",
       "Bureaucratic_Code                     Bureaucratic_Code_4  \n",
       "Account_Created_Date                  2017-07-05 00:00:00  \n",
       "Source                                           Source_7  \n",
       "Billing_Country                                   Germany  \n",
       "Account_Name                             Account_Name_978  \n",
       "Opportunity_Name                    Opportunity_Name_6117  \n",
       "Opportunity_ID                                      10690  \n",
       "Sales_Contract_No                                    6504  \n",
       "Account_Owner                              Person_Name_13  \n",
       "Opportunity_Owner                          Person_Name_13  \n",
       "Account_Type                               Account_Type_0  \n",
       "Opportunity_Type                       Opportunity_Type_8  \n",
       "Quote_Type                                    Non Binding  \n",
       "Delivery_Terms                           Delivery_Terms_2  \n",
       "Opportunity_Created_Date              2019-04-12 00:00:00  \n",
       "Brand                                                None  \n",
       "Product_Type                                         None  \n",
       "Size                                                 None  \n",
       "Product_Category_B                                   None  \n",
       "Price                                                None  \n",
       "Currency                                             None  \n",
       "Quote_Expiry_Date                               4/30/2019  \n",
       "Last_Modified_Date                    2019-04-25 00:00:00  \n",
       "Last_Modified_By                           Person_Name_13  \n",
       "Product_Family                         Product_Family_167  \n",
       "Product_Name                             Product_Name_315  \n",
       "ASP_Currency                                          EUR  \n",
       "ASP                                                  0.32  \n",
       "ASP_(converted)                                   0.36195  \n",
       "Planned_Delivery_Start_Date           2019-06-01 00:00:00  \n",
       "Planned_Delivery_End_Date             2019-06-29 00:00:00  \n",
       "Month                                 2019-06-01 00:00:00  \n",
       "Delivery_Quarter                                       Q2  \n",
       "Delivery_Year                                        2019  \n",
       "TRF                                                     0  \n",
       "Total_Amount_Currency                                 EUR  \n",
       "Total_Amount                                       157248  \n",
       "Total_Taxable_Amount_Currency                         EUR  \n",
       "Total_Taxable_Amount                               757784  "
      ]
     },
     "execution_count": 5,
     "metadata": {},
     "output_type": "execute_result"
    }
   ],
   "source": [
    "test.head().T"
   ]
  },
  {
   "cell_type": "code",
   "execution_count": 6,
   "metadata": {},
   "outputs": [
    {
     "data": {
      "text/plain": [
       "(16883, 47)"
      ]
     },
     "execution_count": 6,
     "metadata": {},
     "output_type": "execute_result"
    }
   ],
   "source": [
    "train = train[train.Stage.isin(['Closed Won', 'Closed Lost'])].copy()\n",
    "train.shape"
   ]
  },
  {
   "cell_type": "code",
   "execution_count": 7,
   "metadata": {},
   "outputs": [
    {
     "data": {
      "text/plain": [
       "Closed Won     9533\n",
       "Closed Lost    7350\n",
       "Name: Stage, dtype: int64"
      ]
     },
     "execution_count": 7,
     "metadata": {},
     "output_type": "execute_result"
    }
   ],
   "source": [
    "train.Stage.value_counts()"
   ]
  },
  {
   "cell_type": "code",
   "execution_count": 8,
   "metadata": {},
   "outputs": [],
   "source": [
    "# Me quedo con los registros con la oportunidad terminada\n",
    "train.Stage.replace({'Closed Won': 1, 'Closed Lost': 0}, inplace=True)"
   ]
  },
  {
   "cell_type": "code",
   "execution_count": 9,
   "metadata": {},
   "outputs": [
    {
     "data": {
      "text/plain": [
       "1    9533\n",
       "0    7350\n",
       "Name: Stage, dtype: int64"
      ]
     },
     "execution_count": 9,
     "metadata": {},
     "output_type": "execute_result"
    }
   ],
   "source": [
    "train.Stage.value_counts()"
   ]
  },
  {
   "cell_type": "code",
   "execution_count": 10,
   "metadata": {},
   "outputs": [
    {
     "name": "stdout",
     "output_type": "stream",
     "text": [
      "Cantidad de opportunity_id de train: 9791\n",
      "Cantidad de opportunity_id de test: 1567\n"
     ]
    }
   ],
   "source": [
    "print('Cantidad de opportunity_id de train:',train.Opportunity_ID.nunique())\n",
    "print('Cantidad de opportunity_id de test:',test.Opportunity_ID.nunique())"
   ]
  },
  {
   "cell_type": "code",
   "execution_count": 11,
   "metadata": {},
   "outputs": [
    {
     "data": {
      "text/html": [
       "<div>\n",
       "<style scoped>\n",
       "    .dataframe tbody tr th:only-of-type {\n",
       "        vertical-align: middle;\n",
       "    }\n",
       "\n",
       "    .dataframe tbody tr th {\n",
       "        vertical-align: top;\n",
       "    }\n",
       "\n",
       "    .dataframe thead th {\n",
       "        text-align: right;\n",
       "    }\n",
       "</style>\n",
       "<table border=\"1\" class=\"dataframe\">\n",
       "  <thead>\n",
       "    <tr style=\"text-align: right;\">\n",
       "      <th></th>\n",
       "      <th>ID</th>\n",
       "      <th>Region</th>\n",
       "      <th>Territory</th>\n",
       "      <th>Pricing, Delivery_Terms_Quote_Appr</th>\n",
       "      <th>Pricing, Delivery_Terms_Approved</th>\n",
       "      <th>Bureaucratic_Code_0_Approval</th>\n",
       "      <th>Bureaucratic_Code_0_Approved</th>\n",
       "      <th>Bureaucratic_Code</th>\n",
       "      <th>Account_Created_Date</th>\n",
       "      <th>Source</th>\n",
       "      <th>...</th>\n",
       "      <th>Planned_Delivery_Start_Date</th>\n",
       "      <th>Planned_Delivery_End_Date</th>\n",
       "      <th>Month</th>\n",
       "      <th>Delivery_Quarter</th>\n",
       "      <th>Delivery_Year</th>\n",
       "      <th>TRF</th>\n",
       "      <th>Total_Amount_Currency</th>\n",
       "      <th>Total_Amount</th>\n",
       "      <th>Total_Taxable_Amount_Currency</th>\n",
       "      <th>Total_Taxable_Amount</th>\n",
       "    </tr>\n",
       "  </thead>\n",
       "  <tbody>\n",
       "    <tr>\n",
       "      <th>0</th>\n",
       "      <td>27761</td>\n",
       "      <td>EMEA</td>\n",
       "      <td>None</td>\n",
       "      <td>1</td>\n",
       "      <td>1</td>\n",
       "      <td>1</td>\n",
       "      <td>1</td>\n",
       "      <td>Bureaucratic_Code_4</td>\n",
       "      <td>2015-06-16</td>\n",
       "      <td>None</td>\n",
       "      <td>...</td>\n",
       "      <td>2016-05-01</td>\n",
       "      <td>2016-06-30</td>\n",
       "      <td>2016-05-01</td>\n",
       "      <td>Q2</td>\n",
       "      <td>2016</td>\n",
       "      <td>10</td>\n",
       "      <td>EUR</td>\n",
       "      <td>5272800.0</td>\n",
       "      <td>EUR</td>\n",
       "      <td>5272800.0</td>\n",
       "    </tr>\n",
       "    <tr>\n",
       "      <th>1</th>\n",
       "      <td>27760</td>\n",
       "      <td>EMEA</td>\n",
       "      <td>None</td>\n",
       "      <td>0</td>\n",
       "      <td>0</td>\n",
       "      <td>0</td>\n",
       "      <td>0</td>\n",
       "      <td>Bureaucratic_Code_4</td>\n",
       "      <td>2015-06-16</td>\n",
       "      <td>None</td>\n",
       "      <td>...</td>\n",
       "      <td>2016-01-18</td>\n",
       "      <td>2016-01-20</td>\n",
       "      <td>2016-01-01</td>\n",
       "      <td>Q1</td>\n",
       "      <td>2016</td>\n",
       "      <td>0</td>\n",
       "      <td>EUR</td>\n",
       "      <td>48230.0</td>\n",
       "      <td>EUR</td>\n",
       "      <td>48230.0</td>\n",
       "    </tr>\n",
       "    <tr>\n",
       "      <th>2</th>\n",
       "      <td>27446</td>\n",
       "      <td>Americas</td>\n",
       "      <td>NW America</td>\n",
       "      <td>0</td>\n",
       "      <td>0</td>\n",
       "      <td>0</td>\n",
       "      <td>0</td>\n",
       "      <td>Bureaucratic_Code_4</td>\n",
       "      <td>2015-04-21</td>\n",
       "      <td>Source_7</td>\n",
       "      <td>...</td>\n",
       "      <td>2016-01-25</td>\n",
       "      <td>2016-01-25</td>\n",
       "      <td>2016-01-01</td>\n",
       "      <td>Q1</td>\n",
       "      <td>2016</td>\n",
       "      <td>0</td>\n",
       "      <td>USD</td>\n",
       "      <td>83865.6</td>\n",
       "      <td>USD</td>\n",
       "      <td>83865.6</td>\n",
       "    </tr>\n",
       "    <tr>\n",
       "      <th>3</th>\n",
       "      <td>16808</td>\n",
       "      <td>Americas</td>\n",
       "      <td>NW America</td>\n",
       "      <td>1</td>\n",
       "      <td>0</td>\n",
       "      <td>1</td>\n",
       "      <td>0</td>\n",
       "      <td>Bureaucratic_Code_5</td>\n",
       "      <td>2013-07-27</td>\n",
       "      <td>Source_11</td>\n",
       "      <td>...</td>\n",
       "      <td>2018-02-01</td>\n",
       "      <td>2018-03-31</td>\n",
       "      <td>2018-02-01</td>\n",
       "      <td>Q1</td>\n",
       "      <td>2018</td>\n",
       "      <td>14</td>\n",
       "      <td>USD</td>\n",
       "      <td>7421881.5</td>\n",
       "      <td>USD</td>\n",
       "      <td>7421881.5</td>\n",
       "    </tr>\n",
       "    <tr>\n",
       "      <th>4</th>\n",
       "      <td>16805</td>\n",
       "      <td>Americas</td>\n",
       "      <td>NW America</td>\n",
       "      <td>1</td>\n",
       "      <td>0</td>\n",
       "      <td>1</td>\n",
       "      <td>0</td>\n",
       "      <td>Bureaucratic_Code_5</td>\n",
       "      <td>2013-07-27</td>\n",
       "      <td>Source_11</td>\n",
       "      <td>...</td>\n",
       "      <td>2018-02-01</td>\n",
       "      <td>2018-02-28</td>\n",
       "      <td>2018-02-01</td>\n",
       "      <td>Q1</td>\n",
       "      <td>2018</td>\n",
       "      <td>25</td>\n",
       "      <td>USD</td>\n",
       "      <td>13357192.5</td>\n",
       "      <td>USD</td>\n",
       "      <td>13357192.5</td>\n",
       "    </tr>\n",
       "    <tr>\n",
       "      <th>...</th>\n",
       "      <td>...</td>\n",
       "      <td>...</td>\n",
       "      <td>...</td>\n",
       "      <td>...</td>\n",
       "      <td>...</td>\n",
       "      <td>...</td>\n",
       "      <td>...</td>\n",
       "      <td>...</td>\n",
       "      <td>...</td>\n",
       "      <td>...</td>\n",
       "      <td>...</td>\n",
       "      <td>...</td>\n",
       "      <td>...</td>\n",
       "      <td>...</td>\n",
       "      <td>...</td>\n",
       "      <td>...</td>\n",
       "      <td>...</td>\n",
       "      <td>...</td>\n",
       "      <td>...</td>\n",
       "      <td>...</td>\n",
       "      <td>...</td>\n",
       "    </tr>\n",
       "    <tr>\n",
       "      <th>2546</th>\n",
       "      <td>16345</td>\n",
       "      <td>EMEA</td>\n",
       "      <td>KSA</td>\n",
       "      <td>1</td>\n",
       "      <td>1</td>\n",
       "      <td>0</td>\n",
       "      <td>0</td>\n",
       "      <td>Bureaucratic_Code_4</td>\n",
       "      <td>2017-06-12</td>\n",
       "      <td>Source_3</td>\n",
       "      <td>...</td>\n",
       "      <td>2019-05-01</td>\n",
       "      <td>2019-05-10</td>\n",
       "      <td>2019-05-01</td>\n",
       "      <td>Q2</td>\n",
       "      <td>2019</td>\n",
       "      <td>0</td>\n",
       "      <td>USD</td>\n",
       "      <td>124740.0</td>\n",
       "      <td>USD</td>\n",
       "      <td>147750.0</td>\n",
       "    </tr>\n",
       "    <tr>\n",
       "      <th>2547</th>\n",
       "      <td>15218</td>\n",
       "      <td>Americas</td>\n",
       "      <td>SE America</td>\n",
       "      <td>1</td>\n",
       "      <td>1</td>\n",
       "      <td>0</td>\n",
       "      <td>0</td>\n",
       "      <td>Bureaucratic_Code_4</td>\n",
       "      <td>2018-06-08</td>\n",
       "      <td>None</td>\n",
       "      <td>...</td>\n",
       "      <td>2019-10-01</td>\n",
       "      <td>2019-12-31</td>\n",
       "      <td>2019-10-01</td>\n",
       "      <td>Q4</td>\n",
       "      <td>2019</td>\n",
       "      <td>0</td>\n",
       "      <td>USD</td>\n",
       "      <td>45054.9</td>\n",
       "      <td>USD</td>\n",
       "      <td>45054.9</td>\n",
       "    </tr>\n",
       "    <tr>\n",
       "      <th>2548</th>\n",
       "      <td>15224</td>\n",
       "      <td>Americas</td>\n",
       "      <td>SE America</td>\n",
       "      <td>1</td>\n",
       "      <td>1</td>\n",
       "      <td>1</td>\n",
       "      <td>1</td>\n",
       "      <td>Bureaucratic_Code_4</td>\n",
       "      <td>2018-06-08</td>\n",
       "      <td>None</td>\n",
       "      <td>...</td>\n",
       "      <td>2019-10-01</td>\n",
       "      <td>2019-12-31</td>\n",
       "      <td>2019-10-01</td>\n",
       "      <td>Q4</td>\n",
       "      <td>2019</td>\n",
       "      <td>0</td>\n",
       "      <td>USD</td>\n",
       "      <td>100122.0</td>\n",
       "      <td>USD</td>\n",
       "      <td>100122.0</td>\n",
       "    </tr>\n",
       "    <tr>\n",
       "      <th>2549</th>\n",
       "      <td>7286</td>\n",
       "      <td>Americas</td>\n",
       "      <td>NE America</td>\n",
       "      <td>1</td>\n",
       "      <td>1</td>\n",
       "      <td>0</td>\n",
       "      <td>0</td>\n",
       "      <td>Bureaucratic_Code_4</td>\n",
       "      <td>2018-08-29</td>\n",
       "      <td>None</td>\n",
       "      <td>...</td>\n",
       "      <td>2019-08-01</td>\n",
       "      <td>2019-08-01</td>\n",
       "      <td>2019-08-01</td>\n",
       "      <td>Q3</td>\n",
       "      <td>2019</td>\n",
       "      <td>0</td>\n",
       "      <td>USD</td>\n",
       "      <td>143220.0</td>\n",
       "      <td>USD</td>\n",
       "      <td>143220.0</td>\n",
       "    </tr>\n",
       "    <tr>\n",
       "      <th>2550</th>\n",
       "      <td>11263</td>\n",
       "      <td>EMEA</td>\n",
       "      <td>Belgium</td>\n",
       "      <td>1</td>\n",
       "      <td>0</td>\n",
       "      <td>0</td>\n",
       "      <td>0</td>\n",
       "      <td>Bureaucratic_Code_5</td>\n",
       "      <td>2016-03-03</td>\n",
       "      <td>None</td>\n",
       "      <td>...</td>\n",
       "      <td>2019-10-21</td>\n",
       "      <td>2019-12-13</td>\n",
       "      <td>2019-10-01</td>\n",
       "      <td>Q4</td>\n",
       "      <td>2019</td>\n",
       "      <td>3</td>\n",
       "      <td>EUR</td>\n",
       "      <td>871020.8</td>\n",
       "      <td>EUR</td>\n",
       "      <td>871020.8</td>\n",
       "    </tr>\n",
       "  </tbody>\n",
       "</table>\n",
       "<p>19434 rows × 46 columns</p>\n",
       "</div>"
      ],
      "text/plain": [
       "         ID    Region   Territory  Pricing, Delivery_Terms_Quote_Appr  \\\n",
       "0     27761      EMEA        None                                   1   \n",
       "1     27760      EMEA        None                                   0   \n",
       "2     27446  Americas  NW America                                   0   \n",
       "3     16808  Americas  NW America                                   1   \n",
       "4     16805  Americas  NW America                                   1   \n",
       "...     ...       ...         ...                                 ...   \n",
       "2546  16345      EMEA         KSA                                   1   \n",
       "2547  15218  Americas  SE America                                   1   \n",
       "2548  15224  Americas  SE America                                   1   \n",
       "2549   7286  Americas  NE America                                   1   \n",
       "2550  11263      EMEA     Belgium                                   1   \n",
       "\n",
       "      Pricing, Delivery_Terms_Approved Bureaucratic_Code_0_Approval  \\\n",
       "0                                    1                            1   \n",
       "1                                    0                            0   \n",
       "2                                    0                            0   \n",
       "3                                    0                            1   \n",
       "4                                    0                            1   \n",
       "...                                ...                          ...   \n",
       "2546                                 1                            0   \n",
       "2547                                 1                            0   \n",
       "2548                                 1                            1   \n",
       "2549                                 1                            0   \n",
       "2550                                 0                            0   \n",
       "\n",
       "     Bureaucratic_Code_0_Approved    Bureaucratic_Code Account_Created_Date  \\\n",
       "0                               1  Bureaucratic_Code_4           2015-06-16   \n",
       "1                               0  Bureaucratic_Code_4           2015-06-16   \n",
       "2                               0  Bureaucratic_Code_4           2015-04-21   \n",
       "3                               0  Bureaucratic_Code_5           2013-07-27   \n",
       "4                               0  Bureaucratic_Code_5           2013-07-27   \n",
       "...                           ...                  ...                  ...   \n",
       "2546                            0  Bureaucratic_Code_4           2017-06-12   \n",
       "2547                            0  Bureaucratic_Code_4           2018-06-08   \n",
       "2548                            1  Bureaucratic_Code_4           2018-06-08   \n",
       "2549                            0  Bureaucratic_Code_4           2018-08-29   \n",
       "2550                            0  Bureaucratic_Code_5           2016-03-03   \n",
       "\n",
       "        Source   ... Planned_Delivery_Start_Date Planned_Delivery_End_Date  \\\n",
       "0          None  ...                  2016-05-01                2016-06-30   \n",
       "1          None  ...                  2016-01-18                2016-01-20   \n",
       "2      Source_7  ...                  2016-01-25                2016-01-25   \n",
       "3     Source_11  ...                  2018-02-01                2018-03-31   \n",
       "4     Source_11  ...                  2018-02-01                2018-02-28   \n",
       "...         ...  ...                         ...                       ...   \n",
       "2546   Source_3  ...                  2019-05-01                2019-05-10   \n",
       "2547       None  ...                  2019-10-01                2019-12-31   \n",
       "2548       None  ...                  2019-10-01                2019-12-31   \n",
       "2549       None  ...                  2019-08-01                2019-08-01   \n",
       "2550       None  ...                  2019-10-21                2019-12-13   \n",
       "\n",
       "          Month  Delivery_Quarter Delivery_Year TRF Total_Amount_Currency  \\\n",
       "0    2016-05-01                Q2          2016  10                   EUR   \n",
       "1    2016-01-01                Q1          2016   0                   EUR   \n",
       "2    2016-01-01                Q1          2016   0                   USD   \n",
       "3    2018-02-01                Q1          2018  14                   USD   \n",
       "4    2018-02-01                Q1          2018  25                   USD   \n",
       "...         ...               ...           ...  ..                   ...   \n",
       "2546 2019-05-01                Q2          2019   0                   USD   \n",
       "2547 2019-10-01                Q4          2019   0                   USD   \n",
       "2548 2019-10-01                Q4          2019   0                   USD   \n",
       "2549 2019-08-01                Q3          2019   0                   USD   \n",
       "2550 2019-10-01                Q4          2019   3                   EUR   \n",
       "\n",
       "     Total_Amount Total_Taxable_Amount_Currency Total_Taxable_Amount  \n",
       "0       5272800.0                           EUR            5272800.0  \n",
       "1         48230.0                           EUR              48230.0  \n",
       "2         83865.6                           USD              83865.6  \n",
       "3       7421881.5                           USD            7421881.5  \n",
       "4      13357192.5                           USD           13357192.5  \n",
       "...           ...                           ...                  ...  \n",
       "2546     124740.0                           USD             147750.0  \n",
       "2547      45054.9                           USD              45054.9  \n",
       "2548     100122.0                           USD             100122.0  \n",
       "2549     143220.0                           USD             143220.0  \n",
       "2550     871020.8                           EUR             871020.8  \n",
       "\n",
       "[19434 rows x 46 columns]"
      ]
     },
     "execution_count": 11,
     "metadata": {},
     "output_type": "execute_result"
    }
   ],
   "source": [
    "# Junto el set de train y test en un nuevo data frame data\n",
    "data = pd.concat([train.drop('Stage', axis=1), test])\n",
    "data"
   ]
  },
  {
   "cell_type": "code",
   "execution_count": 12,
   "metadata": {},
   "outputs": [
    {
     "name": "stdout",
     "output_type": "stream",
     "text": [
      "<class 'pandas.core.frame.DataFrame'>\n",
      "Int64Index: 19434 entries, 0 to 2550\n",
      "Data columns (total 46 columns):\n",
      " #   Column                              Non-Null Count  Dtype         \n",
      "---  ------                              --------------  -----         \n",
      " 0   ID                                  19434 non-null  int16         \n",
      " 1   Region                              19434 non-null  category      \n",
      " 2   Territory                           19434 non-null  object        \n",
      " 3   Pricing, Delivery_Terms_Quote_Appr  19434 non-null  int16         \n",
      " 4   Pricing, Delivery_Terms_Approved    19434 non-null  int16         \n",
      " 5   Bureaucratic_Code_0_Approval        19434 non-null  category      \n",
      " 6   Bureaucratic_Code_0_Approved        19434 non-null  category      \n",
      " 7   Bureaucratic_Code                   19434 non-null  object        \n",
      " 8   Account_Created_Date                19434 non-null  datetime64[ns]\n",
      " 9   Source                              19434 non-null  object        \n",
      " 10  Billing_Country                     19434 non-null  object        \n",
      " 11  Account_Name                        19434 non-null  object        \n",
      " 12  Opportunity_Name                    19434 non-null  object        \n",
      " 13  Opportunity_ID                      19434 non-null  int64         \n",
      " 14  Sales_Contract_No                   19434 non-null  object        \n",
      " 15  Account_Owner                       19434 non-null  object        \n",
      " 16  Opportunity_Owner                   19434 non-null  object        \n",
      " 17  Account_Type                        19434 non-null  object        \n",
      " 18  Opportunity_Type                    19434 non-null  object        \n",
      " 19  Quote_Type                          19434 non-null  object        \n",
      " 20  Delivery_Terms                      19434 non-null  category      \n",
      " 21  Opportunity_Created_Date            19434 non-null  datetime64[ns]\n",
      " 22  Brand                               19434 non-null  object        \n",
      " 23  Product_Type                        19434 non-null  category      \n",
      " 24  Size                                19434 non-null  object        \n",
      " 25  Product_Category_B                  19434 non-null  object        \n",
      " 26  Price                               19434 non-null  object        \n",
      " 27  Currency                            19434 non-null  category      \n",
      " 28  Quote_Expiry_Date                   19434 non-null  object        \n",
      " 29  Last_Modified_Date                  19434 non-null  datetime64[ns]\n",
      " 30  Last_Modified_By                    19434 non-null  object        \n",
      " 31  Product_Family                      19434 non-null  object        \n",
      " 32  Product_Name                        19434 non-null  object        \n",
      " 33  ASP_Currency                        19434 non-null  object        \n",
      " 34  ASP                                 16146 non-null  float64       \n",
      " 35  ASP_(converted)                     16146 non-null  float64       \n",
      " 36  Planned_Delivery_Start_Date         19434 non-null  datetime64[ns]\n",
      " 37  Planned_Delivery_End_Date           19308 non-null  datetime64[ns]\n",
      " 38  Month                               19434 non-null  datetime64[ns]\n",
      " 39  Delivery_Quarter                    19434 non-null  category      \n",
      " 40  Delivery_Year                       19434 non-null  int16         \n",
      " 41  TRF                                 19434 non-null  int64         \n",
      " 42  Total_Amount_Currency               19434 non-null  object        \n",
      " 43  Total_Amount                        19375 non-null  float64       \n",
      " 44  Total_Taxable_Amount_Currency       19434 non-null  object        \n",
      " 45  Total_Taxable_Amount                19434 non-null  float64       \n",
      "dtypes: category(7), datetime64[ns](6), float64(4), int16(4), int64(2), object(23)\n",
      "memory usage: 5.6+ MB\n"
     ]
    }
   ],
   "source": [
    "data.info()"
   ]
  },
  {
   "cell_type": "code",
   "execution_count": 13,
   "metadata": {},
   "outputs": [
    {
     "data": {
      "text/plain": [
       "array([[<AxesSubplot:title={'center':'ID'}>,\n",
       "        <AxesSubplot:title={'center':'Pricing, Delivery_Terms_Quote_Appr'}>,\n",
       "        <AxesSubplot:title={'center':'Pricing, Delivery_Terms_Approved'}>],\n",
       "       [<AxesSubplot:title={'center':'Opportunity_ID'}>,\n",
       "        <AxesSubplot:title={'center':'ASP'}>,\n",
       "        <AxesSubplot:title={'center':'ASP_(converted)'}>],\n",
       "       [<AxesSubplot:title={'center':'Delivery_Year'}>,\n",
       "        <AxesSubplot:title={'center':'TRF'}>,\n",
       "        <AxesSubplot:title={'center':'Total_Amount'}>],\n",
       "       [<AxesSubplot:title={'center':'Total_Taxable_Amount'}>,\n",
       "        <AxesSubplot:>, <AxesSubplot:>]], dtype=object)"
      ]
     },
     "execution_count": 13,
     "metadata": {},
     "output_type": "execute_result"
    },
    {
     "data": {
      "image/png": "[encoded data removed]",
      "text/plain": [
       "<Figure size 1080x864 with 12 Axes>"
      ]
     },
     "metadata": {
      "needs_background": "light"
     },
     "output_type": "display_data"
    }
   ],
   "source": [
    "data.hist(grid=False, figsize=(15, 12), bins=30)"
   ]
  },
  {
   "cell_type": "code",
   "execution_count": 14,
   "metadata": {},
   "outputs": [
    {
     "data": {
      "text/plain": [
       "ID                                    -0.063734\n",
       "Pricing, Delivery_Terms_Quote_Appr    -1.423385\n",
       "Pricing, Delivery_Terms_Approved      -0.308454\n",
       "Opportunity_ID                         0.127412\n",
       "ASP                                    2.824053\n",
       "ASP_(converted)                       74.605280\n",
       "Delivery_Year                          0.157183\n",
       "TRF                                   38.109246\n",
       "Total_Amount                          35.329680\n",
       "Total_Taxable_Amount                  33.095981\n",
       "dtype: float64"
      ]
     },
     "execution_count": 14,
     "metadata": {},
     "output_type": "execute_result"
    }
   ],
   "source": [
    "sesgos = data.agg('skew').transpose()\n",
    "sesgos.columns = 'sesgo'\n",
    "sesgos"
   ]
  },
  {
   "cell_type": "code",
   "execution_count": 15,
   "metadata": {},
   "outputs": [
    {
     "data": {
      "text/plain": [
       "Text(0, 0.5, 'Cantidad')"
      ]
     },
     "execution_count": 15,
     "metadata": {},
     "output_type": "execute_result"
    },
    {
     "data": {
      "image/png": "[encoded data removed]",
      "text/plain": [
       "<Figure size 576x360 with 1 Axes>"
      ]
     },
     "metadata": {
      "needs_background": "light"
     },
     "output_type": "display_data"
    }
   ],
   "source": [
    "gr = data.ASP.hist(grid=False, figsize=(8, 5), bins=8)\n",
    "gr.set_title('Cantidad de oportunidades segun ASP')\n",
    "gr.set_xlabel('ASP')\n",
    "gr.set_ylabel('Cantidad')"
   ]
  },
  {
   "cell_type": "markdown",
   "metadata": {},
   "source": [
    "Se nota por el grafico que la mayoria de los registros tienen el asp entre 0 y 10, por lo cual tomo los otros como outliers"
   ]
  },
  {
   "cell_type": "code",
   "execution_count": 16,
   "metadata": {},
   "outputs": [
    {
     "name": "stderr",
     "output_type": "stream",
     "text": [
      "/home/cecilia/.local/lib/python3.6/site-packages/seaborn/distributions.py:2557: FutureWarning: `distplot` is a deprecated function and will be removed in a future version. Please adapt your code to use either `displot` (a figure-level function with similar flexibility) or `histplot` (an axes-level function for histograms).\n",
      "  warnings.warn(msg, FutureWarning)\n"
     ]
    },
    {
     "data": {
      "text/plain": [
       "<AxesSubplot:xlabel='ASP', ylabel='Density'>"
      ]
     },
     "execution_count": 16,
     "metadata": {},
     "output_type": "execute_result"
    },
    {
     "data": {
      "image/png": "[encoded data removed]",
      "text/plain": [
       "<Figure size 432x288 with 1 Axes>"
      ]
     },
     "metadata": {
      "needs_background": "light"
     },
     "output_type": "display_data"
    }
   ],
   "source": [
    "sns.distplot(data.ASP)"
   ]
  },
  {
   "cell_type": "code",
   "execution_count": 17,
   "metadata": {},
   "outputs": [
    {
     "name": "stdout",
     "output_type": "stream",
     "text": [
      "Mean: 6.296691954663694\n",
      "Median: 0.395\n",
      "Mode: 0    0.38\n",
      "dtype: float64\n"
     ]
    }
   ],
   "source": [
    "print('Mean:', data.ASP.mean())\n",
    "print('Median:', data.ASP.median())\n",
    "print('Mode:', data.ASP.mode())"
   ]
  },
  {
   "cell_type": "code",
   "execution_count": 18,
   "metadata": {},
   "outputs": [
    {
     "data": {
      "text/plain": [
       "0       0.418710\n",
       "1       0.425268\n",
       "2       0.392042\n",
       "3       0.425268\n",
       "4       0.425268\n",
       "          ...   \n",
       "2546    0.262364\n",
       "2547    0.343590\n",
       "2548    0.343590\n",
       "2549    0.405465\n",
       "2550    0.254642\n",
       "Name: ASP, Length: 19434, dtype: float64"
      ]
     },
     "execution_count": 18,
     "metadata": {},
     "output_type": "execute_result"
    }
   ],
   "source": [
    "df = data.ASP.agg(lambda x: np.log(x+1))\n",
    "df"
   ]
  },
  {
   "cell_type": "code",
   "execution_count": 19,
   "metadata": {},
   "outputs": [
    {
     "name": "stderr",
     "output_type": "stream",
     "text": [
      "/home/cecilia/.local/lib/python3.6/site-packages/seaborn/distributions.py:2557: FutureWarning: `distplot` is a deprecated function and will be removed in a future version. Please adapt your code to use either `displot` (a figure-level function with similar flexibility) or `histplot` (an axes-level function for histograms).\n",
      "  warnings.warn(msg, FutureWarning)\n"
     ]
    },
    {
     "data": {
      "text/plain": [
       "<AxesSubplot:xlabel='ASP', ylabel='Density'>"
      ]
     },
     "execution_count": 19,
     "metadata": {},
     "output_type": "execute_result"
    },
    {
     "data": {
      "image/png": "[encoded data removed]",
      "text/plain": [
       "<Figure size 432x288 with 1 Axes>"
      ]
     },
     "metadata": {
      "needs_background": "light"
     },
     "output_type": "display_data"
    }
   ],
   "source": [
    "sns.distplot(df)"
   ]
  },
  {
   "cell_type": "code",
   "execution_count": 20,
   "metadata": {},
   "outputs": [
    {
     "name": "stdout",
     "output_type": "stream",
     "text": [
      "Mean: 0.7115875537972725\n",
      "Median: 0.33289441527332897\n",
      "Mode: 0    0.322083\n",
      "dtype: float64\n"
     ]
    }
   ],
   "source": [
    "print('Mean:', df.mean())\n",
    "print('Median:', df.median())\n",
    "print('Mode:', df.mode())"
   ]
  },
  {
   "cell_type": "code",
   "execution_count": 21,
   "metadata": {},
   "outputs": [
    {
     "data": {
      "text/plain": [
       "2.594207980315695"
      ]
     },
     "execution_count": 21,
     "metadata": {},
     "output_type": "execute_result"
    }
   ],
   "source": [
    "df.skew()"
   ]
  },
  {
   "cell_type": "code",
   "execution_count": 22,
   "metadata": {},
   "outputs": [
    {
     "data": {
      "text/plain": [
       "0       0.721110\n",
       "1       0.728011\n",
       "2       0.692820\n",
       "3       0.728011\n",
       "4       0.728011\n",
       "          ...   \n",
       "2546    0.547723\n",
       "2547    0.640312\n",
       "2548    0.640312\n",
       "2549    0.707107\n",
       "2550    0.538516\n",
       "Name: ASP, Length: 19434, dtype: float64"
      ]
     },
     "execution_count": 22,
     "metadata": {},
     "output_type": "execute_result"
    }
   ],
   "source": [
    "df = data.ASP.agg(np.sqrt)\n",
    "df"
   ]
  },
  {
   "cell_type": "code",
   "execution_count": 23,
   "metadata": {},
   "outputs": [
    {
     "name": "stderr",
     "output_type": "stream",
     "text": [
      "/home/cecilia/.local/lib/python3.6/site-packages/seaborn/distributions.py:2557: FutureWarning: `distplot` is a deprecated function and will be removed in a future version. Please adapt your code to use either `displot` (a figure-level function with similar flexibility) or `histplot` (an axes-level function for histograms).\n",
      "  warnings.warn(msg, FutureWarning)\n"
     ]
    },
    {
     "data": {
      "text/plain": [
       "<AxesSubplot:xlabel='ASP', ylabel='Density'>"
      ]
     },
     "execution_count": 23,
     "metadata": {},
     "output_type": "execute_result"
    },
    {
     "data": {
      "image/png": "[encoded data removed]",
      "text/plain": [
       "<Figure size 432x288 with 1 Axes>"
      ]
     },
     "metadata": {
      "needs_background": "light"
     },
     "output_type": "display_data"
    }
   ],
   "source": [
    "sns.distplot(df)"
   ]
  },
  {
   "cell_type": "code",
   "execution_count": 24,
   "metadata": {},
   "outputs": [
    {
     "name": "stdout",
     "output_type": "stream",
     "text": [
      "Mean: 1.330537291193393\n",
      "Median: 0.6284902544988268\n",
      "Mode: 0    0.616441\n",
      "dtype: float64\n"
     ]
    }
   ],
   "source": [
    "print('Mean:', df.mean())\n",
    "print('Median:', df.median())\n",
    "print('Mode:', df.mode())"
   ]
  },
  {
   "cell_type": "code",
   "execution_count": 25,
   "metadata": {},
   "outputs": [
    {
     "data": {
      "text/plain": [
       "2.6559047280127235"
      ]
     },
     "execution_count": 25,
     "metadata": {},
     "output_type": "execute_result"
    }
   ],
   "source": [
    "df.skew()"
   ]
  },
  {
   "cell_type": "code",
   "execution_count": 26,
   "metadata": {},
   "outputs": [
    {
     "data": {
      "text/plain": [
       "0       0.657895\n",
       "1       0.653595\n",
       "2       0.675676\n",
       "3       0.653595\n",
       "4       0.653595\n",
       "          ...   \n",
       "2546    0.769231\n",
       "2547    0.709220\n",
       "2548    0.709220\n",
       "2549    0.666667\n",
       "2550    0.775194\n",
       "Name: ASP, Length: 19434, dtype: float64"
      ]
     },
     "execution_count": 26,
     "metadata": {},
     "output_type": "execute_result"
    }
   ],
   "source": [
    "df = data.ASP.agg(lambda x: 1/(x+1))\n",
    "df"
   ]
  },
  {
   "cell_type": "code",
   "execution_count": 27,
   "metadata": {},
   "outputs": [
    {
     "name": "stderr",
     "output_type": "stream",
     "text": [
      "/home/cecilia/.local/lib/python3.6/site-packages/seaborn/distributions.py:2557: FutureWarning: `distplot` is a deprecated function and will be removed in a future version. Please adapt your code to use either `displot` (a figure-level function with similar flexibility) or `histplot` (an axes-level function for histograms).\n",
      "  warnings.warn(msg, FutureWarning)\n"
     ]
    },
    {
     "data": {
      "text/plain": [
       "<AxesSubplot:xlabel='ASP', ylabel='Density'>"
      ]
     },
     "execution_count": 27,
     "metadata": {},
     "output_type": "execute_result"
    },
    {
     "data": {
      "image/png": "[encoded data removed]",
      "text/plain": [
       "<Figure size 432x288 with 1 Axes>"
      ]
     },
     "metadata": {
      "needs_background": "light"
     },
     "output_type": "display_data"
    }
   ],
   "source": [
    "sns.distplot(df)"
   ]
  },
  {
   "cell_type": "code",
   "execution_count": 28,
   "metadata": {},
   "outputs": [
    {
     "name": "stdout",
     "output_type": "stream",
     "text": [
      "Mean: 0.651093000498163\n",
      "Median: 0.7168458781362007\n",
      "Mode: 0    0.724638\n",
      "dtype: float64\n"
     ]
    }
   ],
   "source": [
    "print('Mean:', df.mean())\n",
    "print('Median:', df.median())\n",
    "print('Mode:', df.mode())"
   ]
  },
  {
   "cell_type": "code",
   "execution_count": 29,
   "metadata": {},
   "outputs": [
    {
     "data": {
      "text/plain": [
       "-2.2236948682814854"
      ]
     },
     "execution_count": 29,
     "metadata": {},
     "output_type": "execute_result"
    }
   ],
   "source": [
    "df.skew()"
   ]
  },
  {
   "cell_type": "markdown",
   "metadata": {},
   "source": [
    "La mejor transformacion resulto ser 1/x"
   ]
  },
  {
   "cell_type": "code",
   "execution_count": 30,
   "metadata": {},
   "outputs": [
    {
     "data": {
      "text/plain": [
       "6.296691954663694"
      ]
     },
     "execution_count": 30,
     "metadata": {},
     "output_type": "execute_result"
    }
   ],
   "source": [
    "data.ASP.mean()"
   ]
  },
  {
   "cell_type": "code",
   "execution_count": 31,
   "metadata": {},
   "outputs": [
    {
     "data": {
      "text/plain": [
       "14473"
      ]
     },
     "execution_count": 31,
     "metadata": {},
     "output_type": "execute_result"
    }
   ],
   "source": [
    "# Elimino los outliers, cambiandolos por el promedio del resto\n",
    "(data.ASP <= 10).sum()"
   ]
  },
  {
   "cell_type": "code",
   "execution_count": 32,
   "metadata": {},
   "outputs": [
    {
     "data": {
      "text/plain": [
       "1673"
      ]
     },
     "execution_count": 32,
     "metadata": {},
     "output_type": "execute_result"
    }
   ],
   "source": [
    "(data.ASP > 10).sum()"
   ]
  },
  {
   "cell_type": "code",
   "execution_count": 33,
   "metadata": {},
   "outputs": [],
   "source": [
    "data_asp_mean = data[data.ASP <= 10].ASP.mean()\n",
    "outliers =  data.ASP <= 10\n",
    "data.ASP = data.ASP.where(outliers, data_asp_mean)"
   ]
  },
  {
   "cell_type": "code",
   "execution_count": 34,
   "metadata": {},
   "outputs": [
    {
     "name": "stderr",
     "output_type": "stream",
     "text": [
      "/home/cecilia/.local/lib/python3.6/site-packages/seaborn/distributions.py:2557: FutureWarning: `distplot` is a deprecated function and will be removed in a future version. Please adapt your code to use either `displot` (a figure-level function with similar flexibility) or `histplot` (an axes-level function for histograms).\n",
      "  warnings.warn(msg, FutureWarning)\n"
     ]
    },
    {
     "data": {
      "text/plain": [
       "Text(0.5, 1.0, 'Densidad de ASP')"
      ]
     },
     "execution_count": 34,
     "metadata": {},
     "output_type": "execute_result"
    },
    {
     "data": {
      "image/png": "[encoded data removed]",
      "text/plain": [
       "<Figure size 432x288 with 1 Axes>"
      ]
     },
     "metadata": {
      "needs_background": "light"
     },
     "output_type": "display_data"
    }
   ],
   "source": [
    "sns.distplot(data.ASP).set_title('Densidad de ASP')"
   ]
  },
  {
   "cell_type": "code",
   "execution_count": 35,
   "metadata": {},
   "outputs": [
    {
     "name": "stdout",
     "output_type": "stream",
     "text": [
      "Mean: 0.39033982588267807\n",
      "Median: 0.39033982588267807\n",
      "Mode: 0    0.39034\n",
      "dtype: float64\n"
     ]
    }
   ],
   "source": [
    "print('Mean:', data.ASP.mean())\n",
    "print('Median:', data.ASP.median())\n",
    "print('Mode:', data.ASP.mode())"
   ]
  },
  {
   "cell_type": "code",
   "execution_count": 36,
   "metadata": {},
   "outputs": [
    {
     "data": {
      "text/plain": [
       "0.1722332720240019"
      ]
     },
     "execution_count": 36,
     "metadata": {},
     "output_type": "execute_result"
    }
   ],
   "source": [
    "data.ASP.skew()"
   ]
  },
  {
   "cell_type": "markdown",
   "metadata": {},
   "source": [
    "Reduzco el sesgo de la columna ASP converted"
   ]
  },
  {
   "cell_type": "code",
   "execution_count": 37,
   "metadata": {},
   "outputs": [
    {
     "name": "stderr",
     "output_type": "stream",
     "text": [
      "/home/cecilia/.local/lib/python3.6/site-packages/seaborn/distributions.py:2557: FutureWarning: `distplot` is a deprecated function and will be removed in a future version. Please adapt your code to use either `displot` (a figure-level function with similar flexibility) or `histplot` (an axes-level function for histograms).\n",
      "  warnings.warn(msg, FutureWarning)\n"
     ]
    },
    {
     "data": {
      "text/plain": [
       "Text(0.5, 1.0, 'Densidad de ASP Converted')"
      ]
     },
     "execution_count": 37,
     "metadata": {},
     "output_type": "execute_result"
    },
    {
     "data": {
      "image/png": "[encoded data removed]",
      "text/plain": [
       "<Figure size 432x288 with 1 Axes>"
      ]
     },
     "metadata": {
      "needs_background": "light"
     },
     "output_type": "display_data"
    }
   ],
   "source": [
    "sns.distplot(data['ASP_(converted)']).set_title('Densidad de ASP Converted')"
   ]
  },
  {
   "cell_type": "code",
   "execution_count": 38,
   "metadata": {},
   "outputs": [
    {
     "data": {
      "text/plain": [
       "0.4238507766629505"
      ]
     },
     "execution_count": 38,
     "metadata": {},
     "output_type": "execute_result"
    }
   ],
   "source": [
    "data['ASP_(converted)'].mean()"
   ]
  },
  {
   "cell_type": "code",
   "execution_count": 39,
   "metadata": {},
   "outputs": [
    {
     "data": {
      "text/plain": [
       "16143"
      ]
     },
     "execution_count": 39,
     "metadata": {},
     "output_type": "execute_result"
    }
   ],
   "source": [
    "# Elimino los outliers, cambiandolos por el promedio del resto\n",
    "(data['ASP_(converted)'] <= 5).sum()"
   ]
  },
  {
   "cell_type": "code",
   "execution_count": 40,
   "metadata": {},
   "outputs": [
    {
     "data": {
      "text/plain": [
       "3"
      ]
     },
     "execution_count": 40,
     "metadata": {},
     "output_type": "execute_result"
    }
   ],
   "source": [
    "(data['ASP_(converted)'] > 10).sum()"
   ]
  },
  {
   "cell_type": "code",
   "execution_count": 41,
   "metadata": {},
   "outputs": [
    {
     "data": {
      "text/plain": [
       "2200     67.00000\n",
       "2179     57.68578\n",
       "1333     40.71938\n",
       "16114     1.70000\n",
       "16117     1.60000\n",
       "16118     1.60000\n",
       "16119     1.60000\n",
       "16120     1.60000\n",
       "16121     1.60000\n",
       "16122     1.60000\n",
       "9222      1.00000\n",
       "2524      0.90488\n",
       "1468      0.78000\n",
       "2536      0.76000\n",
       "16143     0.75000\n",
       "Name: ASP_(converted), dtype: float64"
      ]
     },
     "execution_count": 41,
     "metadata": {},
     "output_type": "execute_result"
    }
   ],
   "source": [
    "data['ASP_(converted)'].nlargest(15)"
   ]
  },
  {
   "cell_type": "code",
   "execution_count": 42,
   "metadata": {},
   "outputs": [],
   "source": [
    "# Cambio esos 3 outliers por el promedio del resto de la columna\n",
    "data_asp_mean = data[data['ASP_(converted)'] <= 10]['ASP_(converted)'].mean()\n",
    "outliers =  data['ASP_(converted)'] <= 10\n",
    "data['ASP_(converted)'] = data['ASP_(converted)'].where(outliers, data_asp_mean)"
   ]
  },
  {
   "cell_type": "code",
   "execution_count": 43,
   "metadata": {},
   "outputs": [
    {
     "name": "stderr",
     "output_type": "stream",
     "text": [
      "/home/cecilia/.local/lib/python3.6/site-packages/seaborn/distributions.py:2557: FutureWarning: `distplot` is a deprecated function and will be removed in a future version. Please adapt your code to use either `displot` (a figure-level function with similar flexibility) or `histplot` (an axes-level function for histograms).\n",
      "  warnings.warn(msg, FutureWarning)\n"
     ]
    },
    {
     "data": {
      "text/plain": [
       "Text(0.5, 1.0, 'Densidad de ASP Converted')"
      ]
     },
     "execution_count": 43,
     "metadata": {},
     "output_type": "execute_result"
    },
    {
     "data": {
      "image/png": "[encoded data removed]",
      "text/plain": [
       "<Figure size 432x288 with 1 Axes>"
      ]
     },
     "metadata": {
      "needs_background": "light"
     },
     "output_type": "display_data"
    }
   ],
   "source": [
    "sns.distplot(data.ASP).set_title('Densidad de ASP Converted')"
   ]
  },
  {
   "cell_type": "code",
   "execution_count": 44,
   "metadata": {},
   "outputs": [
    {
     "name": "stdout",
     "output_type": "stream",
     "text": [
      "Mean: 0.4136832980239112\n",
      "Median: 0.4136832980239113\n",
      "Mode: 0    0.413683\n",
      "dtype: float64\n"
     ]
    }
   ],
   "source": [
    "print('Mean:', data['ASP_(converted)'].mean())\n",
    "print('Median:', data['ASP_(converted)'].median())\n",
    "print('Mode:', data['ASP_(converted)'].mode())"
   ]
  },
  {
   "cell_type": "code",
   "execution_count": 45,
   "metadata": {},
   "outputs": [
    {
     "data": {
      "text/plain": [
       "0.055430425567801825"
      ]
     },
     "execution_count": 45,
     "metadata": {},
     "output_type": "execute_result"
    }
   ],
   "source": [
    "data['ASP_(converted)'].skew()"
   ]
  },
  {
   "cell_type": "markdown",
   "metadata": {},
   "source": [
    "Hago lo mismo con Total Amount"
   ]
  },
  {
   "cell_type": "code",
   "execution_count": 46,
   "metadata": {},
   "outputs": [
    {
     "data": {
      "text/plain": [
       "0    5.609362e+06\n",
       "1    5.130851e+04\n",
       "2    8.386560e+04\n",
       "3    7.421882e+06\n",
       "4    1.335719e+07\n",
       "Name: Total_Amount_USD, dtype: float64"
      ]
     },
     "execution_count": 46,
     "metadata": {},
     "output_type": "execute_result"
    }
   ],
   "source": [
    "# Del Tp1\n",
    "\n",
    "# https://data.oecd.org/conversion/exchange-rates.htm\n",
    "price_usd_convertion_by_year = {\n",
    "    'EUR': {2016: 0.940, 2017: 0.923, 2018: 0.848, 2019: 0.893, 2020: 0.860},\n",
    "    'JPY': {2016: 113.138, 2017: 116.667, 2018: 110.424, 2019: 109.008, 2020: 104.66},\n",
    "    'AUD': {2016: 1.400, 2017: 1.358, 2018: 1.340, 2019: 1.439, 2020: 1.420},\n",
    "    'GBP': {2016: 0.770, 2017: 0.808, 2018: 0.750, 2019: 0.784, 2020: 0.770},\n",
    "    'USD': {2016: 1, 2017: 1, 2018: 1, 2019: 1, 2020: 1}\n",
    "}\n",
    "\n",
    "def get_convertion_usd(x):\n",
    "    currency = x['Total_Amount_Currency']\n",
    "    year = pd.to_datetime(x['Month']).year\n",
    "    return price_usd_convertion_by_year[currency][year]\n",
    "    \n",
    "data['Total_Amount_USD'] = data['Total_Amount'] / data.apply(lambda x: get_convertion_usd(x), axis=1)\n",
    "\n",
    "data['Total_Amount_USD'].head()"
   ]
  },
  {
   "cell_type": "code",
   "execution_count": 47,
   "metadata": {},
   "outputs": [
    {
     "name": "stderr",
     "output_type": "stream",
     "text": [
      "/home/cecilia/.local/lib/python3.6/site-packages/seaborn/distributions.py:2557: FutureWarning: `distplot` is a deprecated function and will be removed in a future version. Please adapt your code to use either `displot` (a figure-level function with similar flexibility) or `histplot` (an axes-level function for histograms).\n",
      "  warnings.warn(msg, FutureWarning)\n"
     ]
    },
    {
     "data": {
      "text/plain": [
       "<AxesSubplot:xlabel='Total_Amount_USD', ylabel='Density'>"
      ]
     },
     "execution_count": 47,
     "metadata": {},
     "output_type": "execute_result"
    },
    {
     "data": {
      "image/png": "[encoded data removed]",
      "text/plain": [
       "<Figure size 432x288 with 1 Axes>"
      ]
     },
     "metadata": {
      "needs_background": "light"
     },
     "output_type": "display_data"
    }
   ],
   "source": [
    "sns.distplot(data.Total_Amount_USD)"
   ]
  },
  {
   "cell_type": "code",
   "execution_count": 48,
   "metadata": {},
   "outputs": [
    {
     "name": "stdout",
     "output_type": "stream",
     "text": [
      "Mean: 986863.2919461648\n",
      "Median: 79773.83531960996\n",
      "Mode: 0    54.800332\n",
      "dtype: float64\n"
     ]
    }
   ],
   "source": [
    "print('Mean:', data.Total_Amount_USD.mean())\n",
    "print('Median:', data.Total_Amount_USD.median())\n",
    "print('Mode:', data.Total_Amount_USD.mode())"
   ]
  },
  {
   "cell_type": "code",
   "execution_count": 49,
   "metadata": {},
   "outputs": [
    {
     "data": {
      "text/plain": [
       "34.85875841366481"
      ]
     },
     "execution_count": 49,
     "metadata": {},
     "output_type": "execute_result"
    }
   ],
   "source": [
    "data.Total_Amount_USD.skew()"
   ]
  },
  {
   "cell_type": "code",
   "execution_count": 50,
   "metadata": {},
   "outputs": [
    {
     "data": {
      "text/plain": [
       "0       15.539948\n",
       "1       10.845631\n",
       "2       11.336983\n",
       "3       15.819943\n",
       "4       16.407566\n",
       "          ...    \n",
       "2546    11.733995\n",
       "2547    10.715659\n",
       "2548    11.514155\n",
       "2549    11.872144\n",
       "2550    13.790591\n",
       "Name: Total_Amount_USD, Length: 19434, dtype: float64"
      ]
     },
     "execution_count": 50,
     "metadata": {},
     "output_type": "execute_result"
    }
   ],
   "source": [
    "df = data.Total_Amount_USD.agg(lambda x: np.log(x+1))\n",
    "df"
   ]
  },
  {
   "cell_type": "code",
   "execution_count": 51,
   "metadata": {},
   "outputs": [
    {
     "name": "stderr",
     "output_type": "stream",
     "text": [
      "/home/cecilia/.local/lib/python3.6/site-packages/seaborn/distributions.py:2557: FutureWarning: `distplot` is a deprecated function and will be removed in a future version. Please adapt your code to use either `displot` (a figure-level function with similar flexibility) or `histplot` (an axes-level function for histograms).\n",
      "  warnings.warn(msg, FutureWarning)\n"
     ]
    },
    {
     "data": {
      "text/plain": [
       "<AxesSubplot:xlabel='Total_Amount_USD', ylabel='Density'>"
      ]
     },
     "execution_count": 51,
     "metadata": {},
     "output_type": "execute_result"
    },
    {
     "data": {
      "image/png": "[encoded data removed]",
      "text/plain": [
       "<Figure size 432x288 with 1 Axes>"
      ]
     },
     "metadata": {
      "needs_background": "light"
     },
     "output_type": "display_data"
    }
   ],
   "source": [
    "sns.distplot(df)"
   ]
  },
  {
   "cell_type": "code",
   "execution_count": 52,
   "metadata": {},
   "outputs": [
    {
     "name": "stdout",
     "output_type": "stream",
     "text": [
      "Mean: 10.538875858774457\n",
      "Median: 11.286963386833564\n",
      "Mode: 0    4.02178\n",
      "dtype: float64\n"
     ]
    }
   ],
   "source": [
    "print('Mean:', df.mean())\n",
    "print('Median:', df.median())\n",
    "print('Mode:', df.mode())"
   ]
  },
  {
   "cell_type": "code",
   "execution_count": 53,
   "metadata": {},
   "outputs": [
    {
     "data": {
      "text/plain": [
       "-0.6921582865658048"
      ]
     },
     "execution_count": 53,
     "metadata": {},
     "output_type": "execute_result"
    }
   ],
   "source": [
    "df.skew()"
   ]
  },
  {
   "cell_type": "code",
   "execution_count": 54,
   "metadata": {},
   "outputs": [
    {
     "data": {
      "text/plain": [
       "0       2368.409108\n",
       "1        226.513820\n",
       "2        289.595580\n",
       "3       2724.313033\n",
       "4       3654.749307\n",
       "           ...     \n",
       "2546     353.185504\n",
       "2547     212.261395\n",
       "2548     316.420606\n",
       "2549     378.444183\n",
       "2550     987.616947\n",
       "Name: Total_Amount_USD, Length: 19434, dtype: float64"
      ]
     },
     "execution_count": 54,
     "metadata": {},
     "output_type": "execute_result"
    }
   ],
   "source": [
    "df = data.Total_Amount_USD.agg(np.sqrt)\n",
    "df"
   ]
  },
  {
   "cell_type": "code",
   "execution_count": 55,
   "metadata": {},
   "outputs": [
    {
     "name": "stderr",
     "output_type": "stream",
     "text": [
      "/home/cecilia/.local/lib/python3.6/site-packages/seaborn/distributions.py:2557: FutureWarning: `distplot` is a deprecated function and will be removed in a future version. Please adapt your code to use either `displot` (a figure-level function with similar flexibility) or `histplot` (an axes-level function for histograms).\n",
      "  warnings.warn(msg, FutureWarning)\n"
     ]
    },
    {
     "data": {
      "text/plain": [
       "<AxesSubplot:xlabel='Total_Amount_USD', ylabel='Density'>"
      ]
     },
     "execution_count": 55,
     "metadata": {},
     "output_type": "execute_result"
    },
    {
     "data": {
      "image/png": "[encoded data removed]",
      "text/plain": [
       "<Figure size 432x288 with 1 Axes>"
      ]
     },
     "metadata": {
      "needs_background": "light"
     },
     "output_type": "display_data"
    }
   ],
   "source": [
    "sns.distplot(df)"
   ]
  },
  {
   "cell_type": "code",
   "execution_count": 56,
   "metadata": {},
   "outputs": [
    {
     "name": "stdout",
     "output_type": "stream",
     "text": [
      "Mean: 506.8985919121847\n",
      "Median: 282.4426230575158\n",
      "Mode: 0    7.402725\n",
      "dtype: float64\n"
     ]
    }
   ],
   "source": [
    "print('Mean:', df.mean())\n",
    "print('Median:', df.median())\n",
    "print('Mode:', df.mode())"
   ]
  },
  {
   "cell_type": "code",
   "execution_count": 57,
   "metadata": {},
   "outputs": [
    {
     "data": {
      "text/plain": [
       "5.88884974914474"
      ]
     },
     "execution_count": 57,
     "metadata": {},
     "output_type": "execute_result"
    }
   ],
   "source": [
    "df.skew()"
   ]
  },
  {
   "cell_type": "code",
   "execution_count": 58,
   "metadata": {},
   "outputs": [
    {
     "data": {
      "text/plain": [
       "0       1.782734e-07\n",
       "1       1.948956e-05\n",
       "2       1.192370e-05\n",
       "3       1.347367e-07\n",
       "4       7.486603e-08\n",
       "            ...     \n",
       "2546    8.016610e-06\n",
       "2547    2.219465e-05\n",
       "2548    9.987715e-06\n",
       "2549    6.982216e-06\n",
       "2550    1.025233e-06\n",
       "Name: Total_Amount_USD, Length: 19434, dtype: float64"
      ]
     },
     "execution_count": 58,
     "metadata": {},
     "output_type": "execute_result"
    }
   ],
   "source": [
    "df = data.Total_Amount_USD.agg(lambda x: 1/(x+1))\n",
    "df"
   ]
  },
  {
   "cell_type": "code",
   "execution_count": 59,
   "metadata": {},
   "outputs": [
    {
     "name": "stderr",
     "output_type": "stream",
     "text": [
      "/home/cecilia/.local/lib/python3.6/site-packages/seaborn/distributions.py:2557: FutureWarning: `distplot` is a deprecated function and will be removed in a future version. Please adapt your code to use either `displot` (a figure-level function with similar flexibility) or `histplot` (an axes-level function for histograms).\n",
      "  warnings.warn(msg, FutureWarning)\n"
     ]
    },
    {
     "data": {
      "text/plain": [
       "<AxesSubplot:xlabel='Total_Amount_USD', ylabel='Density'>"
      ]
     },
     "execution_count": 59,
     "metadata": {},
     "output_type": "execute_result"
    },
    {
     "data": {
      "image/png": "[encoded data removed]",
      "text/plain": [
       "<Figure size 432x288 with 1 Axes>"
      ]
     },
     "metadata": {
      "needs_background": "light"
     },
     "output_type": "display_data"
    }
   ],
   "source": [
    "sns.distplot(df)"
   ]
  },
  {
   "cell_type": "code",
   "execution_count": 60,
   "metadata": {},
   "outputs": [
    {
     "name": "stdout",
     "output_type": "stream",
     "text": [
      "Mean: 0.005989111272874352\n",
      "Median: 1.2535281282544792e-05\n",
      "Mode: 0    0.017921\n",
      "dtype: float64\n"
     ]
    }
   ],
   "source": [
    "print('Mean:', df.mean())\n",
    "print('Median:', df.median())\n",
    "print('Mode:', df.mode())"
   ]
  },
  {
   "cell_type": "code",
   "execution_count": 61,
   "metadata": {},
   "outputs": [
    {
     "data": {
      "text/plain": [
       "16.36264755102345"
      ]
     },
     "execution_count": 61,
     "metadata": {},
     "output_type": "execute_result"
    }
   ],
   "source": [
    "df.skew()"
   ]
  },
  {
   "cell_type": "markdown",
   "metadata": {},
   "source": [
    "La mejor transformacion para Total_Amount_USD es la logaritmica"
   ]
  },
  {
   "cell_type": "code",
   "execution_count": 62,
   "metadata": {},
   "outputs": [
    {
     "data": {
      "text/plain": [
       "0       10\n",
       "1        0\n",
       "2        0\n",
       "3       14\n",
       "4       25\n",
       "        ..\n",
       "2546     0\n",
       "2547     0\n",
       "2548     0\n",
       "2549     0\n",
       "2550     3\n",
       "Name: TRF, Length: 19434, dtype: int64"
      ]
     },
     "execution_count": 62,
     "metadata": {},
     "output_type": "execute_result"
    }
   ],
   "source": [
    "df = data.TRF\n",
    "df"
   ]
  },
  {
   "cell_type": "code",
   "execution_count": 63,
   "metadata": {},
   "outputs": [
    {
     "name": "stderr",
     "output_type": "stream",
     "text": [
      "/home/cecilia/.local/lib/python3.6/site-packages/seaborn/distributions.py:2557: FutureWarning: `distplot` is a deprecated function and will be removed in a future version. Please adapt your code to use either `displot` (a figure-level function with similar flexibility) or `histplot` (an axes-level function for histograms).\n",
      "  warnings.warn(msg, FutureWarning)\n"
     ]
    },
    {
     "data": {
      "text/plain": [
       "<AxesSubplot:xlabel='TRF', ylabel='Density'>"
      ]
     },
     "execution_count": 63,
     "metadata": {},
     "output_type": "execute_result"
    },
    {
     "data": {
      "image/png": "[encoded data removed]",
      "text/plain": [
       "<Figure size 432x288 with 1 Axes>"
      ]
     },
     "metadata": {
      "needs_background": "light"
     },
     "output_type": "display_data"
    }
   ],
   "source": [
    "sns.distplot(df)"
   ]
  },
  {
   "cell_type": "code",
   "execution_count": 64,
   "metadata": {},
   "outputs": [
    {
     "name": "stdout",
     "output_type": "stream",
     "text": [
      "Mean: 2.3529896058454254\n",
      "Median: 0.0\n",
      "Mode: 0    0\n",
      "dtype: int64\n"
     ]
    }
   ],
   "source": [
    "print('Mean:', df.mean())\n",
    "print('Median:', df.median())\n",
    "print('Mode:', df.mode())"
   ]
  },
  {
   "cell_type": "code",
   "execution_count": 65,
   "metadata": {},
   "outputs": [
    {
     "data": {
      "text/plain": [
       "38.10924620952118"
      ]
     },
     "execution_count": 65,
     "metadata": {},
     "output_type": "execute_result"
    }
   ],
   "source": [
    "df.skew()"
   ]
  },
  {
   "cell_type": "code",
   "execution_count": 66,
   "metadata": {},
   "outputs": [
    {
     "data": {
      "text/plain": [
       "0      13648\n",
       "1       2673\n",
       "2        723\n",
       "3        396\n",
       "5        327\n",
       "       ...  \n",
       "195        1\n",
       "163        1\n",
       "105        1\n",
       "122        1\n",
       "39         1\n",
       "Name: TRF, Length: 107, dtype: int64"
      ]
     },
     "execution_count": 66,
     "metadata": {},
     "output_type": "execute_result"
    }
   ],
   "source": [
    "data.TRF.value_counts()"
   ]
  },
  {
   "cell_type": "markdown",
   "metadata": {},
   "source": [
    "#### Me fijo la distribucion del feature dias activos"
   ]
  },
  {
   "cell_type": "code",
   "execution_count": 72,
   "metadata": {},
   "outputs": [],
   "source": [
    "# Calculo la cantidad de dias activos que tuvo cada oportunidad\n",
    "active_days = data['Last_Modified_Date'] - data['Opportunity_Created_Date']"
   ]
  },
  {
   "cell_type": "code",
   "execution_count": 87,
   "metadata": {},
   "outputs": [
    {
     "name": "stderr",
     "output_type": "stream",
     "text": [
      "/home/cecilia/.local/lib/python3.6/site-packages/seaborn/distributions.py:2557: FutureWarning: `distplot` is a deprecated function and will be removed in a future version. Please adapt your code to use either `displot` (a figure-level function with similar flexibility) or `histplot` (an axes-level function for histograms).\n",
      "  warnings.warn(msg, FutureWarning)\n"
     ]
    },
    {
     "data": {
      "text/plain": [
       "[Text(0.5, 0, 'Dias'), Text(0, 0.5, 'Densidad')]"
      ]
     },
     "execution_count": 87,
     "metadata": {},
     "output_type": "execute_result"
    },
    {
     "data": {
      "image/png": "[encoded data removed]",
      "text/plain": [
       "<Figure size 432x288 with 1 Axes>"
      ]
     },
     "metadata": {
      "needs_background": "light"
     },
     "output_type": "display_data"
    }
   ],
   "source": [
    "v = sns.distplot(active_days)\n",
    "v.set_title('Distribucion del feature Dias Activos')\n",
    "v.set(xlabel='Dias', ylabel='Densidad')"
   ]
  },
  {
   "cell_type": "code",
   "execution_count": 88,
   "metadata": {},
   "outputs": [
    {
     "name": "stdout",
     "output_type": "stream",
     "text": [
      "Mean: 163 days 03:48:04.223525780\n",
      "Median: 132 days 00:00:00\n",
      "Mode: 0   0 days\n",
      "dtype: timedelta64[ns]\n"
     ]
    }
   ],
   "source": [
    "print('Mean:', active_days.mean())\n",
    "print('Median:', active_days.median())\n",
    "print('Mode:', active_days.mode())"
   ]
  },
  {
   "cell_type": "code",
   "execution_count": 90,
   "metadata": {},
   "outputs": [
    {
     "data": {
      "text/plain": [
       "1.3837840616343215"
      ]
     },
     "execution_count": 90,
     "metadata": {},
     "output_type": "execute_result"
    }
   ],
   "source": [
    "active_days.dt.days.skew()"
   ]
  },
  {
   "cell_type": "code",
   "execution_count": 92,
   "metadata": {},
   "outputs": [
    {
     "data": {
      "text/plain": [
       "0       5.247024\n",
       "1       3.688879\n",
       "2       5.693732\n",
       "3       6.734592\n",
       "4       6.734592\n",
       "          ...   \n",
       "2546    0.000000\n",
       "2547    0.693147\n",
       "2548    0.693147\n",
       "2549    0.000000\n",
       "2550    0.000000\n",
       "Length: 19434, dtype: float64"
      ]
     },
     "execution_count": 92,
     "metadata": {},
     "output_type": "execute_result"
    }
   ],
   "source": [
    "df = active_days.dt.days.agg(lambda x: np.log(x+1))\n",
    "df"
   ]
  },
  {
   "cell_type": "code",
   "execution_count": 95,
   "metadata": {},
   "outputs": [
    {
     "name": "stderr",
     "output_type": "stream",
     "text": [
      "/home/cecilia/.local/lib/python3.6/site-packages/seaborn/distributions.py:2557: FutureWarning: `distplot` is a deprecated function and will be removed in a future version. Please adapt your code to use either `displot` (a figure-level function with similar flexibility) or `histplot` (an axes-level function for histograms).\n",
      "  warnings.warn(msg, FutureWarning)\n"
     ]
    },
    {
     "data": {
      "text/plain": [
       "[Text(0.5, 0, 'Dias'), Text(0, 0.5, 'Densidad')]"
      ]
     },
     "execution_count": 95,
     "metadata": {},
     "output_type": "execute_result"
    },
    {
     "data": {
      "image/png": "[encoded data removed]",
      "text/plain": [
       "<Figure size 432x288 with 1 Axes>"
      ]
     },
     "metadata": {
      "needs_background": "light"
     },
     "output_type": "display_data"
    }
   ],
   "source": [
    "v = sns.distplot(df)\n",
    "v.set_title('Transformacion Dias Activos con Log Transform')\n",
    "v.set(xlabel='Dias', ylabel='Densidad')"
   ]
  },
  {
   "cell_type": "code",
   "execution_count": 96,
   "metadata": {},
   "outputs": [
    {
     "name": "stdout",
     "output_type": "stream",
     "text": [
      "Mean: 4.290143533965015\n",
      "Median: 4.890349128221754\n",
      "Mode: 0    0.0\n",
      "dtype: float64\n"
     ]
    }
   ],
   "source": [
    "print('Mean:', df.mean())\n",
    "print('Median:', df.median())\n",
    "print('Mode:', df.mode())"
   ]
  },
  {
   "cell_type": "code",
   "execution_count": 97,
   "metadata": {},
   "outputs": [
    {
     "data": {
      "text/plain": [
       "-1.189002882346534"
      ]
     },
     "execution_count": 97,
     "metadata": {},
     "output_type": "execute_result"
    }
   ],
   "source": [
    "df.skew()"
   ]
  },
  {
   "cell_type": "code",
   "execution_count": 120,
   "metadata": {},
   "outputs": [
    {
     "data": {
      "text/plain": [
       "0       13.747727\n",
       "1        6.244998\n",
       "2       17.204651\n",
       "3       28.982753\n",
       "4       28.982753\n",
       "          ...    \n",
       "2546     0.000000\n",
       "2547     1.000000\n",
       "2548     1.000000\n",
       "2549     0.000000\n",
       "2550     0.000000\n",
       "Length: 19434, dtype: float64"
      ]
     },
     "execution_count": 120,
     "metadata": {},
     "output_type": "execute_result"
    }
   ],
   "source": [
    "df = active_days.dt.days.agg(np.sqrt)\n",
    "df"
   ]
  },
  {
   "cell_type": "code",
   "execution_count": 121,
   "metadata": {},
   "outputs": [
    {
     "name": "stderr",
     "output_type": "stream",
     "text": [
      "/home/cecilia/.local/lib/python3.6/site-packages/seaborn/distributions.py:2557: FutureWarning: `distplot` is a deprecated function and will be removed in a future version. Please adapt your code to use either `displot` (a figure-level function with similar flexibility) or `histplot` (an axes-level function for histograms).\n",
      "  warnings.warn(msg, FutureWarning)\n"
     ]
    },
    {
     "data": {
      "text/plain": [
       "[Text(0.5, 0, 'Dias'), Text(0, 0.5, 'Densidad')]"
      ]
     },
     "execution_count": 121,
     "metadata": {},
     "output_type": "execute_result"
    },
    {
     "data": {
      "image/png": "[encoded data removed]",
      "text/plain": [
       "<Figure size 432x288 with 1 Axes>"
      ]
     },
     "metadata": {
      "needs_background": "light"
     },
     "output_type": "display_data"
    }
   ],
   "source": [
    "v = sns.distplot(df)\n",
    "v.set_title('Transformacion Dias Activos con Raiz Cuadrada')\n",
    "v.set(xlabel='Dias', ylabel='Densidad')"
   ]
  },
  {
   "cell_type": "code",
   "execution_count": 122,
   "metadata": {},
   "outputs": [
    {
     "name": "stdout",
     "output_type": "stream",
     "text": [
      "Mean: 11.04944675610515\n",
      "Median: 11.489125293076057\n",
      "Mode: 0    0.0\n",
      "dtype: float64\n"
     ]
    }
   ],
   "source": [
    "print('Mean:', df.mean())\n",
    "print('Median:', df.median())\n",
    "print('Mode:', df.mode())"
   ]
  },
  {
   "cell_type": "code",
   "execution_count": 123,
   "metadata": {},
   "outputs": [
    {
     "data": {
      "text/plain": [
       "-0.04325363500804639"
      ]
     },
     "execution_count": 123,
     "metadata": {},
     "output_type": "execute_result"
    }
   ],
   "source": [
    "df.skew()"
   ]
  },
  {
   "cell_type": "code",
   "execution_count": 104,
   "metadata": {},
   "outputs": [
    {
     "data": {
      "text/plain": [
       "0       0.005263\n",
       "1       0.025000\n",
       "2       0.003367\n",
       "3       0.001189\n",
       "4       0.001189\n",
       "          ...   \n",
       "2546    1.000000\n",
       "2547    0.500000\n",
       "2548    0.500000\n",
       "2549    1.000000\n",
       "2550    1.000000\n",
       "Length: 19434, dtype: float64"
      ]
     },
     "execution_count": 104,
     "metadata": {},
     "output_type": "execute_result"
    }
   ],
   "source": [
    "df = active_days.dt.days.agg(lambda x: 1/(x+1))\n",
    "df"
   ]
  },
  {
   "cell_type": "code",
   "execution_count": 105,
   "metadata": {},
   "outputs": [
    {
     "name": "stderr",
     "output_type": "stream",
     "text": [
      "/home/cecilia/.local/lib/python3.6/site-packages/seaborn/distributions.py:2557: FutureWarning: `distplot` is a deprecated function and will be removed in a future version. Please adapt your code to use either `displot` (a figure-level function with similar flexibility) or `histplot` (an axes-level function for histograms).\n",
      "  warnings.warn(msg, FutureWarning)\n"
     ]
    },
    {
     "data": {
      "text/plain": [
       "<AxesSubplot:ylabel='Density'>"
      ]
     },
     "execution_count": 105,
     "metadata": {},
     "output_type": "execute_result"
    },
    {
     "data": {
      "image/png": "[encoded data removed]",
      "text/plain": [
       "<Figure size 432x288 with 1 Axes>"
      ]
     },
     "metadata": {
      "needs_background": "light"
     },
     "output_type": "display_data"
    }
   ],
   "source": [
    "sns.distplot(df)"
   ]
  },
  {
   "cell_type": "code",
   "execution_count": 106,
   "metadata": {},
   "outputs": [
    {
     "name": "stdout",
     "output_type": "stream",
     "text": [
      "Mean: 0.09768238649433206\n",
      "Median: 0.007518796992481203\n",
      "Mode: 0    1.0\n",
      "dtype: float64\n"
     ]
    }
   ],
   "source": [
    "print('Mean:', df.mean())\n",
    "print('Median:', df.median())\n",
    "print('Mode:', df.mode())"
   ]
  },
  {
   "cell_type": "code",
   "execution_count": 107,
   "metadata": {},
   "outputs": [
    {
     "data": {
      "text/plain": [
       "3.0114410564096983"
      ]
     },
     "execution_count": 107,
     "metadata": {},
     "output_type": "execute_result"
    }
   ],
   "source": [
    "df.skew()"
   ]
  },
  {
   "cell_type": "markdown",
   "metadata": {},
   "source": [
    "Aunque para el feature active days tiene menos sesgo la transformacion utilizando su raiz cuadrada, mejor fue el resultado de la transformacion logaritmica"
   ]
  },
  {
   "cell_type": "code",
   "execution_count": null,
   "metadata": {},
   "outputs": [],
   "source": [
    "# Juntando todo\n",
    "\n",
    "# Elimino los outliers de las columnas ASP y ASP_Converted\n",
    "data_asp_mean = data[data.ASP <= 10].ASP.mean()\n",
    "outliers =  data.ASP <= 10\n",
    "data.ASP = data.ASP.where(outliers, data_asp_mean)\n",
    "\n",
    "data_asp_mean = data[data['ASP_(converted)'] <= 10]['ASP_(converted)'].mean()\n",
    "outliers =  data['ASP_(converted)'] <= 10\n",
    "data['ASP_(converted)'] = data['ASP_(converted)'].where(outliers, data_asp_mean)\n",
    "\n",
    "\n",
    "# Del Tp1\n",
    "\n",
    "# https://data.oecd.org/conversion/exchange-rates.htm\n",
    "price_usd_convertion_by_year = {\n",
    "    'EUR': {2016: 0.940, 2017: 0.923, 2018: 0.848, 2019: 0.893, 2020: 0.860},\n",
    "    'JPY': {2016: 113.138, 2017: 116.667, 2018: 110.424, 2019: 109.008, 2020: 104.66},\n",
    "    'AUD': {2016: 1.400, 2017: 1.358, 2018: 1.340, 2019: 1.439, 2020: 1.420},\n",
    "    'GBP': {2016: 0.770, 2017: 0.808, 2018: 0.750, 2019: 0.784, 2020: 0.770},\n",
    "    'USD': {2016: 1, 2017: 1, 2018: 1, 2019: 1, 2020: 1}\n",
    "}\n",
    "\n",
    "def get_convertion_usd(x):\n",
    "    currency = x['Total_Amount_Currency']\n",
    "    year = pd.to_datetime(x['Month']).year\n",
    "    return price_usd_convertion_by_year[currency][year]\n",
    "    \n",
    "data['Total_Amount_USD'] = data['Total_Amount'] / data.apply(lambda x: get_convertion_usd(x), axis=1)\n",
    "\n",
    "data['Total_Amount_USD'] = data['Total_Amount_USD'].agg(lambda x: np.log(x+1))\n",
    "data['active_days'] = data['active_days'].agg(lambda x: np.log(x+1))\n"
   ]
  },
  {
   "cell_type": "code",
   "execution_count": null,
   "metadata": {},
   "outputs": [],
   "source": []
  },
  {
   "cell_type": "code",
   "execution_count": null,
   "metadata": {},
   "outputs": [],
   "source": []
  }
 ],
 "metadata": {
  "kernelspec": {
   "display_name": "Python 3",
   "language": "python",
   "name": "python3"
  },
  "language_info": {
   "codemirror_mode": {
    "name": "ipython",
    "version": 3
   },
   "file_extension": ".py",
   "mimetype": "text/x-python",
   "name": "python",
   "nbconvert_exporter": "python",
   "pygments_lexer": "ipython3",
   "version": "3.6.9"
  }
 },
 "nbformat": 4,
 "nbformat_minor": 4
}
