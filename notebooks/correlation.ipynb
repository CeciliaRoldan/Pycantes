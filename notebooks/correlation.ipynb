{
 "cells": [
  {
   "cell_type": "code",
   "execution_count": 1,
   "metadata": {},
   "outputs": [],
   "source": [
    "#pandas libraries\n",
    "import pandas as pd\n",
    "import seaborn as sns\n",
    "import matplotlib.pyplot as plt\n",
    "\n",
    "# custom libraries\n",
    "from cargar_df import get_train\n",
    "\n",
    "df = get_train()"
   ]
  },
  {
   "cell_type": "code",
   "execution_count": 2,
   "metadata": {},
   "outputs": [
    {
     "name": "stdout",
     "output_type": "stream",
     "text": [
      "<class 'pandas.core.frame.DataFrame'>\n",
      "RangeIndex: 16947 entries, 0 to 16946\n",
      "Data columns (total 47 columns):\n",
      " #   Column                              Non-Null Count  Dtype         \n",
      "---  ------                              --------------  -----         \n",
      " 0   ID                                  16947 non-null  int16         \n",
      " 1   Region                              16947 non-null  category      \n",
      " 2   Territory                           16947 non-null  category      \n",
      " 3   Pricing, Delivery_Terms_Quote_Appr  16947 non-null  int16         \n",
      " 4   Pricing, Delivery_Terms_Approved    16947 non-null  int16         \n",
      " 5   Bureaucratic_Code_0_Approval        16947 non-null  category      \n",
      " 6   Bureaucratic_Code_0_Approved        16947 non-null  category      \n",
      " 7   Bureaucratic_Code                   16947 non-null  category      \n",
      " 8   Account_Created_Date                16947 non-null  datetime64[ns]\n",
      " 9   Source                              16947 non-null  object        \n",
      " 10  Billing_Country                     16947 non-null  category      \n",
      " 11  Account_Name                        16947 non-null  object        \n",
      " 12  Opportunity_Name                    16947 non-null  object        \n",
      " 13  Opportunity_ID                      16947 non-null  int64         \n",
      " 14  Sales_Contract_No                   16947 non-null  object        \n",
      " 15  Account_Owner                       16947 non-null  category      \n",
      " 16  Opportunity_Owner                   16947 non-null  category      \n",
      " 17  Account_Type                        16947 non-null  category      \n",
      " 18  Opportunity_Type                    16947 non-null  category      \n",
      " 19  Quote_Type                          16947 non-null  category      \n",
      " 20  Delivery_Terms                      16947 non-null  category      \n",
      " 21  Opportunity_Created_Date            16947 non-null  datetime64[ns]\n",
      " 22  Brand                               16947 non-null  category      \n",
      " 23  Product_Type                        16947 non-null  category      \n",
      " 24  Size                                16947 non-null  category      \n",
      " 25  Product_Category_B                  16947 non-null  category      \n",
      " 26  Price                               16947 non-null  category      \n",
      " 27  Currency                            16947 non-null  category      \n",
      " 28  Quote_Expiry_Date                   16947 non-null  object        \n",
      " 29  Last_Modified_Date                  16947 non-null  datetime64[ns]\n",
      " 30  Last_Modified_By                    16947 non-null  object        \n",
      " 31  Product_Family                      16947 non-null  category      \n",
      " 32  Product_Name                        16947 non-null  object        \n",
      " 33  ASP_Currency                        16947 non-null  category      \n",
      " 34  ASP                                 13738 non-null  float64       \n",
      " 35  ASP_(converted)                     13738 non-null  float64       \n",
      " 36  Planned_Delivery_Start_Date         16947 non-null  datetime64[ns]\n",
      " 37  Planned_Delivery_End_Date           16872 non-null  datetime64[ns]\n",
      " 38  Month                               16947 non-null  datetime64[ns]\n",
      " 39  Delivery_Quarter                    16947 non-null  category      \n",
      " 40  Delivery_Year                       16947 non-null  int16         \n",
      " 41  TRF                                 16947 non-null  int64         \n",
      " 42  Total_Amount_Currency               16947 non-null  category      \n",
      " 43  Total_Amount                        16888 non-null  float64       \n",
      " 44  Total_Taxable_Amount_Currency       16947 non-null  category      \n",
      " 45  Total_Taxable_Amount                16947 non-null  float64       \n",
      " 46  Stage                               16947 non-null  object        \n",
      "dtypes: category(23), datetime64[ns](6), float64(4), int16(4), int64(2), object(8)\n",
      "memory usage: 3.1+ MB\n"
     ]
    }
   ],
   "source": [
    "df.info()"
   ]
  },
  {
   "cell_type": "code",
   "execution_count": 3,
   "metadata": {},
   "outputs": [
    {
     "data": {
      "text/plain": [
       "Closed Won       9533\n",
       "Closed Lost      7350\n",
       "Proposal           35\n",
       "Negotiation        18\n",
       "Qualification      11\n",
       "Name: Stage, dtype: int64"
      ]
     },
     "execution_count": 3,
     "metadata": {},
     "output_type": "execute_result"
    }
   ],
   "source": [
    "df[\"Stage\"].value_counts()"
   ]
  },
  {
   "cell_type": "code",
   "execution_count": 4,
   "metadata": {},
   "outputs": [],
   "source": [
    "finished = df[(df[\"Stage\"] == \"Closed Won\") | (df[\"Stage\"] == \"Closed Lost\")]"
   ]
  },
  {
   "cell_type": "code",
   "execution_count": 5,
   "metadata": {},
   "outputs": [
    {
     "name": "stderr",
     "output_type": "stream",
     "text": [
      "/home/gabriel/anaconda3/lib/python3.7/site-packages/ipykernel_launcher.py:1: SettingWithCopyWarning: \n",
      "A value is trying to be set on a copy of a slice from a DataFrame.\n",
      "Try using .loc[row_indexer,col_indexer] = value instead\n",
      "\n",
      "See the caveats in the documentation: https://pandas.pydata.org/pandas-docs/stable/user_guide/indexing.html#returning-a-view-versus-a-copy\n",
      "  \"\"\"Entry point for launching an IPython kernel.\n"
     ]
    }
   ],
   "source": [
    "finished[\"Won\"] = finished[\"Stage\"] == \"Closed Won\""
   ]
  },
  {
   "cell_type": "code",
   "execution_count": 6,
   "metadata": {},
   "outputs": [
    {
     "data": {
      "text/plain": [
       "0        False\n",
       "1         True\n",
       "2         True\n",
       "3        False\n",
       "4        False\n",
       "         ...  \n",
       "16942     True\n",
       "16943     True\n",
       "16944     True\n",
       "16945    False\n",
       "16946    False\n",
       "Name: Won, Length: 16883, dtype: bool"
      ]
     },
     "execution_count": 6,
     "metadata": {},
     "output_type": "execute_result"
    }
   ],
   "source": [
    "finished[\"Won\"]"
   ]
  },
  {
   "cell_type": "code",
   "execution_count": 7,
   "metadata": {},
   "outputs": [],
   "source": [
    "del finished[\"Stage\"]"
   ]
  },
  {
   "cell_type": "code",
   "execution_count": 8,
   "metadata": {},
   "outputs": [
    {
     "data": {
      "text/html": [
       "<div>\n",
       "<style scoped>\n",
       "    .dataframe tbody tr th:only-of-type {\n",
       "        vertical-align: middle;\n",
       "    }\n",
       "\n",
       "    .dataframe tbody tr th {\n",
       "        vertical-align: top;\n",
       "    }\n",
       "\n",
       "    .dataframe thead th {\n",
       "        text-align: right;\n",
       "    }\n",
       "</style>\n",
       "<table border=\"1\" class=\"dataframe\">\n",
       "  <thead>\n",
       "    <tr style=\"text-align: right;\">\n",
       "      <th></th>\n",
       "      <th>ID</th>\n",
       "      <th>Pricing, Delivery_Terms_Quote_Appr</th>\n",
       "      <th>Pricing, Delivery_Terms_Approved</th>\n",
       "      <th>Opportunity_ID</th>\n",
       "      <th>ASP</th>\n",
       "      <th>ASP_(converted)</th>\n",
       "      <th>Delivery_Year</th>\n",
       "      <th>TRF</th>\n",
       "      <th>Total_Amount</th>\n",
       "      <th>Total_Taxable_Amount</th>\n",
       "      <th>Won</th>\n",
       "    </tr>\n",
       "  </thead>\n",
       "  <tbody>\n",
       "    <tr>\n",
       "      <th>ID</th>\n",
       "      <td>1.000000</td>\n",
       "      <td>0.173203</td>\n",
       "      <td>0.048820</td>\n",
       "      <td>-0.110466</td>\n",
       "      <td>0.283175</td>\n",
       "      <td>0.040776</td>\n",
       "      <td>-0.326168</td>\n",
       "      <td>-0.037111</td>\n",
       "      <td>0.012258</td>\n",
       "      <td>0.032703</td>\n",
       "      <td>0.038966</td>\n",
       "    </tr>\n",
       "    <tr>\n",
       "      <th>Pricing, Delivery_Terms_Quote_Appr</th>\n",
       "      <td>0.173203</td>\n",
       "      <td>1.000000</td>\n",
       "      <td>0.578051</td>\n",
       "      <td>-0.016172</td>\n",
       "      <td>0.126504</td>\n",
       "      <td>-0.002865</td>\n",
       "      <td>-0.042821</td>\n",
       "      <td>0.076864</td>\n",
       "      <td>0.036466</td>\n",
       "      <td>0.055933</td>\n",
       "      <td>-0.084992</td>\n",
       "    </tr>\n",
       "    <tr>\n",
       "      <th>Pricing, Delivery_Terms_Approved</th>\n",
       "      <td>0.048820</td>\n",
       "      <td>0.578051</td>\n",
       "      <td>1.000000</td>\n",
       "      <td>0.035136</td>\n",
       "      <td>0.063813</td>\n",
       "      <td>-0.004638</td>\n",
       "      <td>0.067506</td>\n",
       "      <td>-0.041604</td>\n",
       "      <td>-0.020068</td>\n",
       "      <td>-0.002655</td>\n",
       "      <td>0.204484</td>\n",
       "    </tr>\n",
       "    <tr>\n",
       "      <th>Opportunity_ID</th>\n",
       "      <td>-0.110466</td>\n",
       "      <td>-0.016172</td>\n",
       "      <td>0.035136</td>\n",
       "      <td>1.000000</td>\n",
       "      <td>-0.094714</td>\n",
       "      <td>-0.033233</td>\n",
       "      <td>0.516984</td>\n",
       "      <td>0.003576</td>\n",
       "      <td>-0.003670</td>\n",
       "      <td>-0.002257</td>\n",
       "      <td>0.013347</td>\n",
       "    </tr>\n",
       "    <tr>\n",
       "      <th>ASP</th>\n",
       "      <td>0.283175</td>\n",
       "      <td>0.126504</td>\n",
       "      <td>0.063813</td>\n",
       "      <td>-0.094714</td>\n",
       "      <td>1.000000</td>\n",
       "      <td>0.090996</td>\n",
       "      <td>-0.174914</td>\n",
       "      <td>-0.070796</td>\n",
       "      <td>0.144060</td>\n",
       "      <td>0.108095</td>\n",
       "      <td>0.089578</td>\n",
       "    </tr>\n",
       "    <tr>\n",
       "      <th>ASP_(converted)</th>\n",
       "      <td>0.040776</td>\n",
       "      <td>-0.002865</td>\n",
       "      <td>-0.004638</td>\n",
       "      <td>-0.033233</td>\n",
       "      <td>0.090996</td>\n",
       "      <td>1.000000</td>\n",
       "      <td>-0.081415</td>\n",
       "      <td>-0.000849</td>\n",
       "      <td>0.094064</td>\n",
       "      <td>0.486399</td>\n",
       "      <td>-0.015702</td>\n",
       "    </tr>\n",
       "    <tr>\n",
       "      <th>Delivery_Year</th>\n",
       "      <td>-0.326168</td>\n",
       "      <td>-0.042821</td>\n",
       "      <td>0.067506</td>\n",
       "      <td>0.516984</td>\n",
       "      <td>-0.174914</td>\n",
       "      <td>-0.081415</td>\n",
       "      <td>1.000000</td>\n",
       "      <td>0.047639</td>\n",
       "      <td>0.009188</td>\n",
       "      <td>0.015355</td>\n",
       "      <td>0.004799</td>\n",
       "    </tr>\n",
       "    <tr>\n",
       "      <th>TRF</th>\n",
       "      <td>-0.037111</td>\n",
       "      <td>0.076864</td>\n",
       "      <td>-0.041604</td>\n",
       "      <td>0.003576</td>\n",
       "      <td>-0.070796</td>\n",
       "      <td>-0.000849</td>\n",
       "      <td>0.047639</td>\n",
       "      <td>1.000000</td>\n",
       "      <td>0.410638</td>\n",
       "      <td>0.333258</td>\n",
       "      <td>-0.188661</td>\n",
       "    </tr>\n",
       "    <tr>\n",
       "      <th>Total_Amount</th>\n",
       "      <td>0.012258</td>\n",
       "      <td>0.036466</td>\n",
       "      <td>-0.020068</td>\n",
       "      <td>-0.003670</td>\n",
       "      <td>0.144060</td>\n",
       "      <td>0.094064</td>\n",
       "      <td>0.009188</td>\n",
       "      <td>0.410638</td>\n",
       "      <td>1.000000</td>\n",
       "      <td>0.716500</td>\n",
       "      <td>-0.083185</td>\n",
       "    </tr>\n",
       "    <tr>\n",
       "      <th>Total_Taxable_Amount</th>\n",
       "      <td>0.032703</td>\n",
       "      <td>0.055933</td>\n",
       "      <td>-0.002655</td>\n",
       "      <td>-0.002257</td>\n",
       "      <td>0.108095</td>\n",
       "      <td>0.486399</td>\n",
       "      <td>0.015355</td>\n",
       "      <td>0.333258</td>\n",
       "      <td>0.716500</td>\n",
       "      <td>1.000000</td>\n",
       "      <td>-0.080349</td>\n",
       "    </tr>\n",
       "    <tr>\n",
       "      <th>Won</th>\n",
       "      <td>0.038966</td>\n",
       "      <td>-0.084992</td>\n",
       "      <td>0.204484</td>\n",
       "      <td>0.013347</td>\n",
       "      <td>0.089578</td>\n",
       "      <td>-0.015702</td>\n",
       "      <td>0.004799</td>\n",
       "      <td>-0.188661</td>\n",
       "      <td>-0.083185</td>\n",
       "      <td>-0.080349</td>\n",
       "      <td>1.000000</td>\n",
       "    </tr>\n",
       "  </tbody>\n",
       "</table>\n",
       "</div>"
      ],
      "text/plain": [
       "                                          ID  \\\n",
       "ID                                  1.000000   \n",
       "Pricing, Delivery_Terms_Quote_Appr  0.173203   \n",
       "Pricing, Delivery_Terms_Approved    0.048820   \n",
       "Opportunity_ID                     -0.110466   \n",
       "ASP                                 0.283175   \n",
       "ASP_(converted)                     0.040776   \n",
       "Delivery_Year                      -0.326168   \n",
       "TRF                                -0.037111   \n",
       "Total_Amount                        0.012258   \n",
       "Total_Taxable_Amount                0.032703   \n",
       "Won                                 0.038966   \n",
       "\n",
       "                                    Pricing, Delivery_Terms_Quote_Appr  \\\n",
       "ID                                                            0.173203   \n",
       "Pricing, Delivery_Terms_Quote_Appr                            1.000000   \n",
       "Pricing, Delivery_Terms_Approved                              0.578051   \n",
       "Opportunity_ID                                               -0.016172   \n",
       "ASP                                                           0.126504   \n",
       "ASP_(converted)                                              -0.002865   \n",
       "Delivery_Year                                                -0.042821   \n",
       "TRF                                                           0.076864   \n",
       "Total_Amount                                                  0.036466   \n",
       "Total_Taxable_Amount                                          0.055933   \n",
       "Won                                                          -0.084992   \n",
       "\n",
       "                                    Pricing, Delivery_Terms_Approved  \\\n",
       "ID                                                          0.048820   \n",
       "Pricing, Delivery_Terms_Quote_Appr                          0.578051   \n",
       "Pricing, Delivery_Terms_Approved                            1.000000   \n",
       "Opportunity_ID                                              0.035136   \n",
       "ASP                                                         0.063813   \n",
       "ASP_(converted)                                            -0.004638   \n",
       "Delivery_Year                                               0.067506   \n",
       "TRF                                                        -0.041604   \n",
       "Total_Amount                                               -0.020068   \n",
       "Total_Taxable_Amount                                       -0.002655   \n",
       "Won                                                         0.204484   \n",
       "\n",
       "                                    Opportunity_ID       ASP  ASP_(converted)  \\\n",
       "ID                                       -0.110466  0.283175         0.040776   \n",
       "Pricing, Delivery_Terms_Quote_Appr       -0.016172  0.126504        -0.002865   \n",
       "Pricing, Delivery_Terms_Approved          0.035136  0.063813        -0.004638   \n",
       "Opportunity_ID                            1.000000 -0.094714        -0.033233   \n",
       "ASP                                      -0.094714  1.000000         0.090996   \n",
       "ASP_(converted)                          -0.033233  0.090996         1.000000   \n",
       "Delivery_Year                             0.516984 -0.174914        -0.081415   \n",
       "TRF                                       0.003576 -0.070796        -0.000849   \n",
       "Total_Amount                             -0.003670  0.144060         0.094064   \n",
       "Total_Taxable_Amount                     -0.002257  0.108095         0.486399   \n",
       "Won                                       0.013347  0.089578        -0.015702   \n",
       "\n",
       "                                    Delivery_Year       TRF  Total_Amount  \\\n",
       "ID                                      -0.326168 -0.037111      0.012258   \n",
       "Pricing, Delivery_Terms_Quote_Appr      -0.042821  0.076864      0.036466   \n",
       "Pricing, Delivery_Terms_Approved         0.067506 -0.041604     -0.020068   \n",
       "Opportunity_ID                           0.516984  0.003576     -0.003670   \n",
       "ASP                                     -0.174914 -0.070796      0.144060   \n",
       "ASP_(converted)                         -0.081415 -0.000849      0.094064   \n",
       "Delivery_Year                            1.000000  0.047639      0.009188   \n",
       "TRF                                      0.047639  1.000000      0.410638   \n",
       "Total_Amount                             0.009188  0.410638      1.000000   \n",
       "Total_Taxable_Amount                     0.015355  0.333258      0.716500   \n",
       "Won                                      0.004799 -0.188661     -0.083185   \n",
       "\n",
       "                                    Total_Taxable_Amount       Won  \n",
       "ID                                              0.032703  0.038966  \n",
       "Pricing, Delivery_Terms_Quote_Appr              0.055933 -0.084992  \n",
       "Pricing, Delivery_Terms_Approved               -0.002655  0.204484  \n",
       "Opportunity_ID                                 -0.002257  0.013347  \n",
       "ASP                                             0.108095  0.089578  \n",
       "ASP_(converted)                                 0.486399 -0.015702  \n",
       "Delivery_Year                                   0.015355  0.004799  \n",
       "TRF                                             0.333258 -0.188661  \n",
       "Total_Amount                                    0.716500 -0.083185  \n",
       "Total_Taxable_Amount                            1.000000 -0.080349  \n",
       "Won                                            -0.080349  1.000000  "
      ]
     },
     "execution_count": 8,
     "metadata": {},
     "output_type": "execute_result"
    }
   ],
   "source": [
    "finished.corr()"
   ]
  },
  {
   "cell_type": "code",
   "execution_count": 9,
   "metadata": {},
   "outputs": [
    {
     "data": {
      "text/plain": [
       "<matplotlib.axes._subplots.AxesSubplot at 0x7f67b1445f10>"
      ]
     },
     "execution_count": 9,
     "metadata": {},
     "output_type": "execute_result"
    },
    {
     "data": {
      "image/png": "[encoded data removed]",
      "text/plain": [
       "<Figure size 432x288 with 2 Axes>"
      ]
     },
     "metadata": {
      "needs_background": "light"
     },
     "output_type": "display_data"
    }
   ],
   "source": [
    "corr = finished.corr()\n",
    "sns.heatmap(corr, \n",
    "               xticklabels=corr.columns.values,\n",
    "               yticklabels=corr.columns.values)"
   ]
  },
  {
   "cell_type": "code",
   "execution_count": 10,
   "metadata": {},
   "outputs": [
    {
     "name": "stderr",
     "output_type": "stream",
     "text": [
      "/home/gabriel/anaconda3/lib/python3.7/site-packages/ipykernel_launcher.py:5: SettingWithCopyWarning: \n",
      "A value is trying to be set on a copy of a slice from a DataFrame.\n",
      "Try using .loc[row_indexer,col_indexer] = value instead\n",
      "\n",
      "See the caveats in the documentation: https://pandas.pydata.org/pandas-docs/stable/user_guide/indexing.html#returning-a-view-versus-a-copy\n",
      "  \"\"\"\n"
     ]
    }
   ],
   "source": [
    "from sklearn.preprocessing import LabelEncoder\n",
    "\n",
    "lb_make = LabelEncoder()\n",
    "for column in finished.select_dtypes(\"category\"):\n",
    "    finished[f\"{column}_code\"] = lb_make.fit_transform(finished[column])"
   ]
  },
  {
   "cell_type": "code",
   "execution_count": 11,
   "metadata": {},
   "outputs": [
    {
     "name": "stdout",
     "output_type": "stream",
     "text": [
      "<class 'pandas.core.frame.DataFrame'>\n",
      "Int64Index: 16883 entries, 0 to 16946\n",
      "Data columns (total 70 columns):\n",
      " #   Column                              Non-Null Count  Dtype         \n",
      "---  ------                              --------------  -----         \n",
      " 0   ID                                  16883 non-null  int16         \n",
      " 1   Region                              16883 non-null  category      \n",
      " 2   Territory                           16883 non-null  category      \n",
      " 3   Pricing, Delivery_Terms_Quote_Appr  16883 non-null  int16         \n",
      " 4   Pricing, Delivery_Terms_Approved    16883 non-null  int16         \n",
      " 5   Bureaucratic_Code_0_Approval        16883 non-null  category      \n",
      " 6   Bureaucratic_Code_0_Approved        16883 non-null  category      \n",
      " 7   Bureaucratic_Code                   16883 non-null  category      \n",
      " 8   Account_Created_Date                16883 non-null  datetime64[ns]\n",
      " 9   Source                              16883 non-null  object        \n",
      " 10  Billing_Country                     16883 non-null  category      \n",
      " 11  Account_Name                        16883 non-null  object        \n",
      " 12  Opportunity_Name                    16883 non-null  object        \n",
      " 13  Opportunity_ID                      16883 non-null  int64         \n",
      " 14  Sales_Contract_No                   16883 non-null  object        \n",
      " 15  Account_Owner                       16883 non-null  category      \n",
      " 16  Opportunity_Owner                   16883 non-null  category      \n",
      " 17  Account_Type                        16883 non-null  category      \n",
      " 18  Opportunity_Type                    16883 non-null  category      \n",
      " 19  Quote_Type                          16883 non-null  category      \n",
      " 20  Delivery_Terms                      16883 non-null  category      \n",
      " 21  Opportunity_Created_Date            16883 non-null  datetime64[ns]\n",
      " 22  Brand                               16883 non-null  category      \n",
      " 23  Product_Type                        16883 non-null  category      \n",
      " 24  Size                                16883 non-null  category      \n",
      " 25  Product_Category_B                  16883 non-null  category      \n",
      " 26  Price                               16883 non-null  category      \n",
      " 27  Currency                            16883 non-null  category      \n",
      " 28  Quote_Expiry_Date                   16883 non-null  object        \n",
      " 29  Last_Modified_Date                  16883 non-null  datetime64[ns]\n",
      " 30  Last_Modified_By                    16883 non-null  object        \n",
      " 31  Product_Family                      16883 non-null  category      \n",
      " 32  Product_Name                        16883 non-null  object        \n",
      " 33  ASP_Currency                        16883 non-null  category      \n",
      " 34  ASP                                 13679 non-null  float64       \n",
      " 35  ASP_(converted)                     13679 non-null  float64       \n",
      " 36  Planned_Delivery_Start_Date         16883 non-null  datetime64[ns]\n",
      " 37  Planned_Delivery_End_Date           16808 non-null  datetime64[ns]\n",
      " 38  Month                               16883 non-null  datetime64[ns]\n",
      " 39  Delivery_Quarter                    16883 non-null  category      \n",
      " 40  Delivery_Year                       16883 non-null  int16         \n",
      " 41  TRF                                 16883 non-null  int64         \n",
      " 42  Total_Amount_Currency               16883 non-null  category      \n",
      " 43  Total_Amount                        16824 non-null  float64       \n",
      " 44  Total_Taxable_Amount_Currency       16883 non-null  category      \n",
      " 45  Total_Taxable_Amount                16883 non-null  float64       \n",
      " 46  Won                                 16883 non-null  bool          \n",
      " 47  Region_code                         16883 non-null  int64         \n",
      " 48  Territory_code                      16883 non-null  int64         \n",
      " 49  Bureaucratic_Code_0_Approval_code   16883 non-null  int64         \n",
      " 50  Bureaucratic_Code_0_Approved_code   16883 non-null  int64         \n",
      " 51  Bureaucratic_Code_code              16883 non-null  int64         \n",
      " 52  Billing_Country_code                16883 non-null  int64         \n",
      " 53  Account_Owner_code                  16883 non-null  int64         \n",
      " 54  Opportunity_Owner_code              16883 non-null  int64         \n",
      " 55  Account_Type_code                   16883 non-null  int64         \n",
      " 56  Opportunity_Type_code               16883 non-null  int64         \n",
      " 57  Quote_Type_code                     16883 non-null  int64         \n",
      " 58  Delivery_Terms_code                 16883 non-null  int64         \n",
      " 59  Brand_code                          16883 non-null  int64         \n",
      " 60  Product_Type_code                   16883 non-null  int64         \n",
      " 61  Size_code                           16883 non-null  int64         \n",
      " 62  Product_Category_B_code             16883 non-null  int64         \n",
      " 63  Price_code                          16883 non-null  int64         \n",
      " 64  Currency_code                       16883 non-null  int64         \n",
      " 65  Product_Family_code                 16883 non-null  int64         \n",
      " 66  ASP_Currency_code                   16883 non-null  int64         \n",
      " 67  Delivery_Quarter_code               16883 non-null  int64         \n",
      " 68  Total_Amount_Currency_code          16883 non-null  int64         \n",
      " 69  Total_Taxable_Amount_Currency_code  16883 non-null  int64         \n",
      "dtypes: bool(1), category(23), datetime64[ns](6), float64(4), int16(4), int64(25), object(7)\n",
      "memory usage: 6.1+ MB\n"
     ]
    }
   ],
   "source": [
    "finished.info()"
   ]
  },
  {
   "cell_type": "code",
   "execution_count": 17,
   "metadata": {},
   "outputs": [
    {
     "data": {
      "text/plain": [
       "<matplotlib.axes._subplots.AxesSubplot at 0x7f67ab50da90>"
      ]
     },
     "execution_count": 17,
     "metadata": {},
     "output_type": "execute_result"
    },
    {
     "data": {
      "image/png": "[encoded data removed]",
      "text/plain": [
       "<Figure size 432x288 with 2 Axes>"
      ]
     },
     "metadata": {
      "needs_background": "light"
     },
     "output_type": "display_data"
    }
   ],
   "source": [
    "corr = finished.corr()\n",
    "sns.heatmap(corr, \n",
    "               xticklabels=corr.columns.values,\n",
    "               yticklabels=corr.columns.values)"
   ]
  },
  {
   "cell_type": "code",
   "execution_count": null,
   "metadata": {},
   "outputs": [],
   "source": [
    "finished.corr()"
   ]
  },
  {
   "cell_type": "code",
   "execution_count": 13,
   "metadata": {},
   "outputs": [],
   "source": [
    "won = finished[\"Won\"]"
   ]
  },
  {
   "cell_type": "code",
   "execution_count": 14,
   "metadata": {},
   "outputs": [
    {
     "data": {
      "text/plain": [
       "'Series'"
      ]
     },
     "execution_count": 14,
     "metadata": {},
     "output_type": "execute_result"
    }
   ],
   "source": [
    "won.__class__.__name__"
   ]
  },
  {
   "cell_type": "code",
   "execution_count": 15,
   "metadata": {},
   "outputs": [
    {
     "data": {
      "text/plain": [
       "array([False,  True,  True, ...,  True, False, False])"
      ]
     },
     "execution_count": 15,
     "metadata": {},
     "output_type": "execute_result"
    }
   ],
   "source": [
    "won.values\n"
   ]
  },
  {
   "cell_type": "code",
   "execution_count": 16,
   "metadata": {},
   "outputs": [
    {
     "data": {
      "text/plain": [
       "[Int64Index([    0,     1,     2,     3,     4,     5,     6,     7,     8,\n",
       "                 9,\n",
       "             ...\n",
       "             16937, 16938, 16939, 16940, 16941, 16942, 16943, 16944, 16945,\n",
       "             16946],\n",
       "            dtype='int64', length=16883)]"
      ]
     },
     "execution_count": 16,
     "metadata": {},
     "output_type": "execute_result"
    }
   ],
   "source": [
    "won.axes"
   ]
  },
  {
   "cell_type": "code",
   "execution_count": null,
   "metadata": {},
   "outputs": [],
   "source": [
    "df = pd.DataFrame({\"Won\": won.values},\n",
    "                  index=won.axes)\n",
    "\n",
    "sns.heatmap(df, annot=True, fmt=\"g\", cmap='viridis')\n",
    "\n",
    "plt.show()\n"
   ]
  },
  {
   "cell_type": "code",
   "execution_count": null,
   "metadata": {},
   "outputs": [],
   "source": [
    "most_correlation = won[lambda correlation: abs(correlation)>0.2]"
   ]
  },
  {
   "cell_type": "code",
   "execution_count": null,
   "metadata": {},
   "outputs": [],
   "source": [
    "most_correlation\n"
   ]
  },
  {
   "cell_type": "code",
   "execution_count": null,
   "metadata": {},
   "outputs": [],
   "source": [
    "df = pd.DataFrame({\"Won\": most_correlation.values},\n",
    "                  index=most_correlation.axes)\n",
    "\n",
    "heatmap = sns.heatmap(df, annot=True, fmt=\"g\", cmap='viridis')\n",
    "heatmap.set_title(\"Variables correlacionadas con el éxito/fracaso\", fontsize=20)\n",
    "heatmap.set_ylabel('Columnas más correlacionadas')\n",
    "plt.show()\n"
   ]
  }
 ],
 "metadata": {
  "kernelspec": {
   "display_name": "Python 3",
   "language": "python",
   "name": "python3"
  },
  "language_info": {
   "codemirror_mode": {
    "name": "ipython",
    "version": 3
   },
   "file_extension": ".py",
   "mimetype": "text/x-python",
   "name": "python",
   "nbconvert_exporter": "python",
   "pygments_lexer": "ipython3",
   "version": "3.7.6"
  }
 },
 "nbformat": 4,
 "nbformat_minor": 4
}
